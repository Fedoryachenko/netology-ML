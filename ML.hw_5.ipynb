{
 "cells": [
  {
   "cell_type": "code",
   "execution_count": 135,
   "id": "089a5883",
   "metadata": {},
   "outputs": [],
   "source": [
    "import pandas as pd\n",
    "import numpy as np\n",
    "from sklearn.linear_model import LinearRegression\n",
    "import matplotlib.pyplot as plt\n",
    "from sklearn.model_selection import train_test_split \n",
    "import statistics\n",
    "from sklearn.preprocessing import StandardScaler"
   ]
  },
  {
   "cell_type": "code",
   "execution_count": 136,
   "id": "d2cc6a33",
   "metadata": {},
   "outputs": [
    {
     "data": {
      "text/html": [
       "<div>\n",
       "<style scoped>\n",
       "    .dataframe tbody tr th:only-of-type {\n",
       "        vertical-align: middle;\n",
       "    }\n",
       "\n",
       "    .dataframe tbody tr th {\n",
       "        vertical-align: top;\n",
       "    }\n",
       "\n",
       "    .dataframe thead th {\n",
       "        text-align: right;\n",
       "    }\n",
       "</style>\n",
       "<table border=\"1\" class=\"dataframe\">\n",
       "  <thead>\n",
       "    <tr style=\"text-align: right;\">\n",
       "      <th></th>\n",
       "      <th>PassengerId</th>\n",
       "      <th>Survived</th>\n",
       "      <th>Pclass</th>\n",
       "      <th>Name</th>\n",
       "      <th>Sex</th>\n",
       "      <th>Age</th>\n",
       "      <th>SibSp</th>\n",
       "      <th>Parch</th>\n",
       "      <th>Ticket</th>\n",
       "      <th>Fare</th>\n",
       "      <th>Cabin</th>\n",
       "      <th>Embarked</th>\n",
       "    </tr>\n",
       "  </thead>\n",
       "  <tbody>\n",
       "    <tr>\n",
       "      <th>0</th>\n",
       "      <td>1</td>\n",
       "      <td>0</td>\n",
       "      <td>3</td>\n",
       "      <td>Braund, Mr. Owen Harris</td>\n",
       "      <td>male</td>\n",
       "      <td>22.0</td>\n",
       "      <td>1</td>\n",
       "      <td>0</td>\n",
       "      <td>A/5 21171</td>\n",
       "      <td>7.2500</td>\n",
       "      <td>NaN</td>\n",
       "      <td>S</td>\n",
       "    </tr>\n",
       "    <tr>\n",
       "      <th>1</th>\n",
       "      <td>2</td>\n",
       "      <td>1</td>\n",
       "      <td>1</td>\n",
       "      <td>Cumings, Mrs. John Bradley (Florence Briggs Th...</td>\n",
       "      <td>female</td>\n",
       "      <td>38.0</td>\n",
       "      <td>1</td>\n",
       "      <td>0</td>\n",
       "      <td>PC 17599</td>\n",
       "      <td>71.2833</td>\n",
       "      <td>C85</td>\n",
       "      <td>C</td>\n",
       "    </tr>\n",
       "    <tr>\n",
       "      <th>2</th>\n",
       "      <td>3</td>\n",
       "      <td>1</td>\n",
       "      <td>3</td>\n",
       "      <td>Heikkinen, Miss. Laina</td>\n",
       "      <td>female</td>\n",
       "      <td>26.0</td>\n",
       "      <td>0</td>\n",
       "      <td>0</td>\n",
       "      <td>STON/O2. 3101282</td>\n",
       "      <td>7.9250</td>\n",
       "      <td>NaN</td>\n",
       "      <td>S</td>\n",
       "    </tr>\n",
       "    <tr>\n",
       "      <th>3</th>\n",
       "      <td>4</td>\n",
       "      <td>1</td>\n",
       "      <td>1</td>\n",
       "      <td>Futrelle, Mrs. Jacques Heath (Lily May Peel)</td>\n",
       "      <td>female</td>\n",
       "      <td>35.0</td>\n",
       "      <td>1</td>\n",
       "      <td>0</td>\n",
       "      <td>113803</td>\n",
       "      <td>53.1000</td>\n",
       "      <td>C123</td>\n",
       "      <td>S</td>\n",
       "    </tr>\n",
       "    <tr>\n",
       "      <th>4</th>\n",
       "      <td>5</td>\n",
       "      <td>0</td>\n",
       "      <td>3</td>\n",
       "      <td>Allen, Mr. William Henry</td>\n",
       "      <td>male</td>\n",
       "      <td>35.0</td>\n",
       "      <td>0</td>\n",
       "      <td>0</td>\n",
       "      <td>373450</td>\n",
       "      <td>8.0500</td>\n",
       "      <td>NaN</td>\n",
       "      <td>S</td>\n",
       "    </tr>\n",
       "    <tr>\n",
       "      <th>5</th>\n",
       "      <td>6</td>\n",
       "      <td>0</td>\n",
       "      <td>3</td>\n",
       "      <td>Moran, Mr. James</td>\n",
       "      <td>male</td>\n",
       "      <td>NaN</td>\n",
       "      <td>0</td>\n",
       "      <td>0</td>\n",
       "      <td>330877</td>\n",
       "      <td>8.4583</td>\n",
       "      <td>NaN</td>\n",
       "      <td>Q</td>\n",
       "    </tr>\n",
       "    <tr>\n",
       "      <th>6</th>\n",
       "      <td>7</td>\n",
       "      <td>0</td>\n",
       "      <td>1</td>\n",
       "      <td>McCarthy, Mr. Timothy J</td>\n",
       "      <td>male</td>\n",
       "      <td>54.0</td>\n",
       "      <td>0</td>\n",
       "      <td>0</td>\n",
       "      <td>17463</td>\n",
       "      <td>51.8625</td>\n",
       "      <td>E46</td>\n",
       "      <td>S</td>\n",
       "    </tr>\n",
       "    <tr>\n",
       "      <th>7</th>\n",
       "      <td>8</td>\n",
       "      <td>0</td>\n",
       "      <td>3</td>\n",
       "      <td>Palsson, Master. Gosta Leonard</td>\n",
       "      <td>male</td>\n",
       "      <td>2.0</td>\n",
       "      <td>3</td>\n",
       "      <td>1</td>\n",
       "      <td>349909</td>\n",
       "      <td>21.0750</td>\n",
       "      <td>NaN</td>\n",
       "      <td>S</td>\n",
       "    </tr>\n",
       "    <tr>\n",
       "      <th>8</th>\n",
       "      <td>9</td>\n",
       "      <td>1</td>\n",
       "      <td>3</td>\n",
       "      <td>Johnson, Mrs. Oscar W (Elisabeth Vilhelmina Berg)</td>\n",
       "      <td>female</td>\n",
       "      <td>27.0</td>\n",
       "      <td>0</td>\n",
       "      <td>2</td>\n",
       "      <td>347742</td>\n",
       "      <td>11.1333</td>\n",
       "      <td>NaN</td>\n",
       "      <td>S</td>\n",
       "    </tr>\n",
       "    <tr>\n",
       "      <th>9</th>\n",
       "      <td>10</td>\n",
       "      <td>1</td>\n",
       "      <td>2</td>\n",
       "      <td>Nasser, Mrs. Nicholas (Adele Achem)</td>\n",
       "      <td>female</td>\n",
       "      <td>14.0</td>\n",
       "      <td>1</td>\n",
       "      <td>0</td>\n",
       "      <td>237736</td>\n",
       "      <td>30.0708</td>\n",
       "      <td>NaN</td>\n",
       "      <td>C</td>\n",
       "    </tr>\n",
       "  </tbody>\n",
       "</table>\n",
       "</div>"
      ],
      "text/plain": [
       "   PassengerId  Survived  Pclass  \\\n",
       "0            1         0       3   \n",
       "1            2         1       1   \n",
       "2            3         1       3   \n",
       "3            4         1       1   \n",
       "4            5         0       3   \n",
       "5            6         0       3   \n",
       "6            7         0       1   \n",
       "7            8         0       3   \n",
       "8            9         1       3   \n",
       "9           10         1       2   \n",
       "\n",
       "                                                Name     Sex   Age  SibSp  \\\n",
       "0                            Braund, Mr. Owen Harris    male  22.0      1   \n",
       "1  Cumings, Mrs. John Bradley (Florence Briggs Th...  female  38.0      1   \n",
       "2                             Heikkinen, Miss. Laina  female  26.0      0   \n",
       "3       Futrelle, Mrs. Jacques Heath (Lily May Peel)  female  35.0      1   \n",
       "4                           Allen, Mr. William Henry    male  35.0      0   \n",
       "5                                   Moran, Mr. James    male   NaN      0   \n",
       "6                            McCarthy, Mr. Timothy J    male  54.0      0   \n",
       "7                     Palsson, Master. Gosta Leonard    male   2.0      3   \n",
       "8  Johnson, Mrs. Oscar W (Elisabeth Vilhelmina Berg)  female  27.0      0   \n",
       "9                Nasser, Mrs. Nicholas (Adele Achem)  female  14.0      1   \n",
       "\n",
       "   Parch            Ticket     Fare Cabin Embarked  \n",
       "0      0         A/5 21171   7.2500   NaN        S  \n",
       "1      0          PC 17599  71.2833   C85        C  \n",
       "2      0  STON/O2. 3101282   7.9250   NaN        S  \n",
       "3      0            113803  53.1000  C123        S  \n",
       "4      0            373450   8.0500   NaN        S  \n",
       "5      0            330877   8.4583   NaN        Q  \n",
       "6      0             17463  51.8625   E46        S  \n",
       "7      1            349909  21.0750   NaN        S  \n",
       "8      2            347742  11.1333   NaN        S  \n",
       "9      0            237736  30.0708   NaN        C  "
      ]
     },
     "execution_count": 136,
     "metadata": {},
     "output_type": "execute_result"
    }
   ],
   "source": [
    "df = pd.read_csv('/Users/anastasiafedoracenko/Desktop/train.csv')\n",
    "df.head(10)"
   ]
  },
  {
   "cell_type": "code",
   "execution_count": 137,
   "id": "6a055c1b",
   "metadata": {},
   "outputs": [
    {
     "data": {
      "text/plain": [
       "PassengerId      0\n",
       "Survived         0\n",
       "Pclass           0\n",
       "Name             0\n",
       "Sex              0\n",
       "Age            177\n",
       "SibSp            0\n",
       "Parch            0\n",
       "Ticket           0\n",
       "Fare             0\n",
       "Cabin          687\n",
       "Embarked         2\n",
       "dtype: int64"
      ]
     },
     "execution_count": 137,
     "metadata": {},
     "output_type": "execute_result"
    }
   ],
   "source": [
    "df.isna().sum()"
   ]
  },
  {
   "cell_type": "code",
   "execution_count": 138,
   "id": "f6a5c1ac",
   "metadata": {},
   "outputs": [
    {
     "name": "stdout",
     "output_type": "stream",
     "text": [
      "<class 'pandas.core.frame.DataFrame'>\n",
      "RangeIndex: 891 entries, 0 to 890\n",
      "Data columns (total 12 columns):\n",
      " #   Column       Non-Null Count  Dtype  \n",
      "---  ------       --------------  -----  \n",
      " 0   PassengerId  891 non-null    int64  \n",
      " 1   Survived     891 non-null    int64  \n",
      " 2   Pclass       891 non-null    int64  \n",
      " 3   Name         891 non-null    object \n",
      " 4   Sex          891 non-null    object \n",
      " 5   Age          714 non-null    float64\n",
      " 6   SibSp        891 non-null    int64  \n",
      " 7   Parch        891 non-null    int64  \n",
      " 8   Ticket       891 non-null    object \n",
      " 9   Fare         891 non-null    float64\n",
      " 10  Cabin        204 non-null    object \n",
      " 11  Embarked     889 non-null    object \n",
      "dtypes: float64(2), int64(5), object(5)\n",
      "memory usage: 83.7+ KB\n"
     ]
    }
   ],
   "source": [
    "df.info()"
   ]
  },
  {
   "cell_type": "code",
   "execution_count": 139,
   "id": "2fb4ffde",
   "metadata": {},
   "outputs": [],
   "source": [
    "df = df[~(df['Age'].isna())]\n",
    "df = df[~(df['Cabin'].isna())]\n",
    "df = df[~(df['Embarked'].isna())]\n",
    "\n",
    "#удаляем все пропущенные данные "
   ]
  },
  {
   "cell_type": "code",
   "execution_count": 140,
   "id": "3b3aebfb",
   "metadata": {},
   "outputs": [],
   "source": [
    "del df['Name']\n",
    "del df['Sex']\n",
    "del df['Ticket']\n",
    "del df['Cabin']\n",
    "del df['Embarked']"
   ]
  },
  {
   "cell_type": "code",
   "execution_count": 141,
   "id": "23468ed3",
   "metadata": {},
   "outputs": [
    {
     "data": {
      "text/html": [
       "<div>\n",
       "<style scoped>\n",
       "    .dataframe tbody tr th:only-of-type {\n",
       "        vertical-align: middle;\n",
       "    }\n",
       "\n",
       "    .dataframe tbody tr th {\n",
       "        vertical-align: top;\n",
       "    }\n",
       "\n",
       "    .dataframe thead th {\n",
       "        text-align: right;\n",
       "    }\n",
       "</style>\n",
       "<table border=\"1\" class=\"dataframe\">\n",
       "  <thead>\n",
       "    <tr style=\"text-align: right;\">\n",
       "      <th></th>\n",
       "      <th>PassengerId</th>\n",
       "      <th>Survived</th>\n",
       "      <th>Pclass</th>\n",
       "      <th>Age</th>\n",
       "      <th>SibSp</th>\n",
       "      <th>Parch</th>\n",
       "      <th>Fare</th>\n",
       "    </tr>\n",
       "  </thead>\n",
       "  <tbody>\n",
       "    <tr>\n",
       "      <th>1</th>\n",
       "      <td>2</td>\n",
       "      <td>1</td>\n",
       "      <td>1</td>\n",
       "      <td>38.0</td>\n",
       "      <td>1</td>\n",
       "      <td>0</td>\n",
       "      <td>71.2833</td>\n",
       "    </tr>\n",
       "    <tr>\n",
       "      <th>3</th>\n",
       "      <td>4</td>\n",
       "      <td>1</td>\n",
       "      <td>1</td>\n",
       "      <td>35.0</td>\n",
       "      <td>1</td>\n",
       "      <td>0</td>\n",
       "      <td>53.1000</td>\n",
       "    </tr>\n",
       "    <tr>\n",
       "      <th>6</th>\n",
       "      <td>7</td>\n",
       "      <td>0</td>\n",
       "      <td>1</td>\n",
       "      <td>54.0</td>\n",
       "      <td>0</td>\n",
       "      <td>0</td>\n",
       "      <td>51.8625</td>\n",
       "    </tr>\n",
       "    <tr>\n",
       "      <th>10</th>\n",
       "      <td>11</td>\n",
       "      <td>1</td>\n",
       "      <td>3</td>\n",
       "      <td>4.0</td>\n",
       "      <td>1</td>\n",
       "      <td>1</td>\n",
       "      <td>16.7000</td>\n",
       "    </tr>\n",
       "    <tr>\n",
       "      <th>11</th>\n",
       "      <td>12</td>\n",
       "      <td>1</td>\n",
       "      <td>1</td>\n",
       "      <td>58.0</td>\n",
       "      <td>0</td>\n",
       "      <td>0</td>\n",
       "      <td>26.5500</td>\n",
       "    </tr>\n",
       "  </tbody>\n",
       "</table>\n",
       "</div>"
      ],
      "text/plain": [
       "    PassengerId  Survived  Pclass   Age  SibSp  Parch     Fare\n",
       "1             2         1       1  38.0      1      0  71.2833\n",
       "3             4         1       1  35.0      1      0  53.1000\n",
       "6             7         0       1  54.0      0      0  51.8625\n",
       "10           11         1       3   4.0      1      1  16.7000\n",
       "11           12         1       1  58.0      0      0  26.5500"
      ]
     },
     "execution_count": 141,
     "metadata": {},
     "output_type": "execute_result"
    }
   ],
   "source": [
    "df.head()"
   ]
  },
  {
   "cell_type": "code",
   "execution_count": 142,
   "id": "32da5fe5",
   "metadata": {},
   "outputs": [],
   "source": [
    "x = df[['PassengerId', 'Pclass', 'Age', 'SibSp', 'Parch', 'Fare']]\n",
    "y = df['Survived']"
   ]
  },
  {
   "cell_type": "code",
   "execution_count": 143,
   "id": "637b3108",
   "metadata": {},
   "outputs": [],
   "source": [
    "x_train, x_test, y_train, y_test = train_test_split(x, y, test_size = 0.2, random_state = 7)"
   ]
  },
  {
   "cell_type": "code",
   "execution_count": 144,
   "id": "2f13f4d9",
   "metadata": {},
   "outputs": [
    {
     "data": {
      "text/plain": [
       "LinearRegression()"
      ]
     },
     "execution_count": 144,
     "metadata": {},
     "output_type": "execute_result"
    }
   ],
   "source": [
    "model = LinearRegression().fit(x, y)\n",
    "model"
   ]
  },
  {
   "cell_type": "code",
   "execution_count": 145,
   "id": "992e9045",
   "metadata": {},
   "outputs": [
    {
     "data": {
      "text/plain": [
       "array([0.70330884, 0.67683087, 0.5187449 , 0.58710487, 0.74302472,\n",
       "       0.5038552 , 0.83093377, 0.67921318, 0.75696346, 0.92372139,\n",
       "       0.92670525, 0.63542817, 0.49203223, 0.68752412, 0.82934256,\n",
       "       0.74284204, 0.81083444, 0.95061292, 0.35783115, 0.55209177,\n",
       "       0.65752589, 0.7293231 , 0.6902066 , 0.95598003, 0.71379902,\n",
       "       0.48103969, 0.7460308 , 0.50507679, 0.50105529, 0.81627177,\n",
       "       0.82874032, 0.51368389, 0.62386526, 0.477307  , 0.71230717,\n",
       "       0.73242609, 0.40621651])"
      ]
     },
     "execution_count": 145,
     "metadata": {},
     "output_type": "execute_result"
    }
   ],
   "source": [
    "predictions = model.predict(x_test)\n",
    "model.predict(x_test)"
   ]
  },
  {
   "cell_type": "code",
   "execution_count": 146,
   "id": "98ee7a92",
   "metadata": {},
   "outputs": [
    {
     "data": {
      "text/plain": [
       "0.13342609909272174"
      ]
     },
     "execution_count": 146,
     "metadata": {},
     "output_type": "execute_result"
    }
   ],
   "source": [
    "model.score(x_train, y_train) "
   ]
  },
  {
   "cell_type": "code",
   "execution_count": 147,
   "id": "bcc2ebf2",
   "metadata": {},
   "outputs": [
    {
     "data": {
      "text/plain": [
       "0.03415174041861324"
      ]
     },
     "execution_count": 147,
     "metadata": {},
     "output_type": "execute_result"
    }
   ],
   "source": [
    "model.score(x_test,y_test)"
   ]
  },
  {
   "cell_type": "markdown",
   "id": "3723e66b",
   "metadata": {},
   "source": [
    "Данных не так много, поэтому делю их 80/20, а не 70/30, что б в обучение была бо'льшая выборка, для лучшей точности. "
   ]
  },
  {
   "cell_type": "markdown",
   "id": "d5403108",
   "metadata": {},
   "source": [
    "- Теперь подгружаем заново те же данные, но теперь обработаем и подчистим их"
   ]
  },
  {
   "cell_type": "code",
   "execution_count": 148,
   "id": "ba5f518c",
   "metadata": {},
   "outputs": [
    {
     "data": {
      "text/html": [
       "<div>\n",
       "<style scoped>\n",
       "    .dataframe tbody tr th:only-of-type {\n",
       "        vertical-align: middle;\n",
       "    }\n",
       "\n",
       "    .dataframe tbody tr th {\n",
       "        vertical-align: top;\n",
       "    }\n",
       "\n",
       "    .dataframe thead th {\n",
       "        text-align: right;\n",
       "    }\n",
       "</style>\n",
       "<table border=\"1\" class=\"dataframe\">\n",
       "  <thead>\n",
       "    <tr style=\"text-align: right;\">\n",
       "      <th></th>\n",
       "      <th>PassengerId</th>\n",
       "      <th>Survived</th>\n",
       "      <th>Pclass</th>\n",
       "      <th>Name</th>\n",
       "      <th>Sex</th>\n",
       "      <th>Age</th>\n",
       "      <th>SibSp</th>\n",
       "      <th>Parch</th>\n",
       "      <th>Ticket</th>\n",
       "      <th>Fare</th>\n",
       "      <th>Cabin</th>\n",
       "      <th>Embarked</th>\n",
       "    </tr>\n",
       "  </thead>\n",
       "  <tbody>\n",
       "    <tr>\n",
       "      <th>0</th>\n",
       "      <td>1</td>\n",
       "      <td>0</td>\n",
       "      <td>3</td>\n",
       "      <td>Braund, Mr. Owen Harris</td>\n",
       "      <td>male</td>\n",
       "      <td>22.0</td>\n",
       "      <td>1</td>\n",
       "      <td>0</td>\n",
       "      <td>A/5 21171</td>\n",
       "      <td>7.2500</td>\n",
       "      <td>NaN</td>\n",
       "      <td>S</td>\n",
       "    </tr>\n",
       "    <tr>\n",
       "      <th>1</th>\n",
       "      <td>2</td>\n",
       "      <td>1</td>\n",
       "      <td>1</td>\n",
       "      <td>Cumings, Mrs. John Bradley (Florence Briggs Th...</td>\n",
       "      <td>female</td>\n",
       "      <td>38.0</td>\n",
       "      <td>1</td>\n",
       "      <td>0</td>\n",
       "      <td>PC 17599</td>\n",
       "      <td>71.2833</td>\n",
       "      <td>C85</td>\n",
       "      <td>C</td>\n",
       "    </tr>\n",
       "    <tr>\n",
       "      <th>2</th>\n",
       "      <td>3</td>\n",
       "      <td>1</td>\n",
       "      <td>3</td>\n",
       "      <td>Heikkinen, Miss. Laina</td>\n",
       "      <td>female</td>\n",
       "      <td>26.0</td>\n",
       "      <td>0</td>\n",
       "      <td>0</td>\n",
       "      <td>STON/O2. 3101282</td>\n",
       "      <td>7.9250</td>\n",
       "      <td>NaN</td>\n",
       "      <td>S</td>\n",
       "    </tr>\n",
       "    <tr>\n",
       "      <th>3</th>\n",
       "      <td>4</td>\n",
       "      <td>1</td>\n",
       "      <td>1</td>\n",
       "      <td>Futrelle, Mrs. Jacques Heath (Lily May Peel)</td>\n",
       "      <td>female</td>\n",
       "      <td>35.0</td>\n",
       "      <td>1</td>\n",
       "      <td>0</td>\n",
       "      <td>113803</td>\n",
       "      <td>53.1000</td>\n",
       "      <td>C123</td>\n",
       "      <td>S</td>\n",
       "    </tr>\n",
       "    <tr>\n",
       "      <th>4</th>\n",
       "      <td>5</td>\n",
       "      <td>0</td>\n",
       "      <td>3</td>\n",
       "      <td>Allen, Mr. William Henry</td>\n",
       "      <td>male</td>\n",
       "      <td>35.0</td>\n",
       "      <td>0</td>\n",
       "      <td>0</td>\n",
       "      <td>373450</td>\n",
       "      <td>8.0500</td>\n",
       "      <td>NaN</td>\n",
       "      <td>S</td>\n",
       "    </tr>\n",
       "    <tr>\n",
       "      <th>5</th>\n",
       "      <td>6</td>\n",
       "      <td>0</td>\n",
       "      <td>3</td>\n",
       "      <td>Moran, Mr. James</td>\n",
       "      <td>male</td>\n",
       "      <td>NaN</td>\n",
       "      <td>0</td>\n",
       "      <td>0</td>\n",
       "      <td>330877</td>\n",
       "      <td>8.4583</td>\n",
       "      <td>NaN</td>\n",
       "      <td>Q</td>\n",
       "    </tr>\n",
       "    <tr>\n",
       "      <th>6</th>\n",
       "      <td>7</td>\n",
       "      <td>0</td>\n",
       "      <td>1</td>\n",
       "      <td>McCarthy, Mr. Timothy J</td>\n",
       "      <td>male</td>\n",
       "      <td>54.0</td>\n",
       "      <td>0</td>\n",
       "      <td>0</td>\n",
       "      <td>17463</td>\n",
       "      <td>51.8625</td>\n",
       "      <td>E46</td>\n",
       "      <td>S</td>\n",
       "    </tr>\n",
       "    <tr>\n",
       "      <th>7</th>\n",
       "      <td>8</td>\n",
       "      <td>0</td>\n",
       "      <td>3</td>\n",
       "      <td>Palsson, Master. Gosta Leonard</td>\n",
       "      <td>male</td>\n",
       "      <td>2.0</td>\n",
       "      <td>3</td>\n",
       "      <td>1</td>\n",
       "      <td>349909</td>\n",
       "      <td>21.0750</td>\n",
       "      <td>NaN</td>\n",
       "      <td>S</td>\n",
       "    </tr>\n",
       "    <tr>\n",
       "      <th>8</th>\n",
       "      <td>9</td>\n",
       "      <td>1</td>\n",
       "      <td>3</td>\n",
       "      <td>Johnson, Mrs. Oscar W (Elisabeth Vilhelmina Berg)</td>\n",
       "      <td>female</td>\n",
       "      <td>27.0</td>\n",
       "      <td>0</td>\n",
       "      <td>2</td>\n",
       "      <td>347742</td>\n",
       "      <td>11.1333</td>\n",
       "      <td>NaN</td>\n",
       "      <td>S</td>\n",
       "    </tr>\n",
       "    <tr>\n",
       "      <th>9</th>\n",
       "      <td>10</td>\n",
       "      <td>1</td>\n",
       "      <td>2</td>\n",
       "      <td>Nasser, Mrs. Nicholas (Adele Achem)</td>\n",
       "      <td>female</td>\n",
       "      <td>14.0</td>\n",
       "      <td>1</td>\n",
       "      <td>0</td>\n",
       "      <td>237736</td>\n",
       "      <td>30.0708</td>\n",
       "      <td>NaN</td>\n",
       "      <td>C</td>\n",
       "    </tr>\n",
       "  </tbody>\n",
       "</table>\n",
       "</div>"
      ],
      "text/plain": [
       "   PassengerId  Survived  Pclass  \\\n",
       "0            1         0       3   \n",
       "1            2         1       1   \n",
       "2            3         1       3   \n",
       "3            4         1       1   \n",
       "4            5         0       3   \n",
       "5            6         0       3   \n",
       "6            7         0       1   \n",
       "7            8         0       3   \n",
       "8            9         1       3   \n",
       "9           10         1       2   \n",
       "\n",
       "                                                Name     Sex   Age  SibSp  \\\n",
       "0                            Braund, Mr. Owen Harris    male  22.0      1   \n",
       "1  Cumings, Mrs. John Bradley (Florence Briggs Th...  female  38.0      1   \n",
       "2                             Heikkinen, Miss. Laina  female  26.0      0   \n",
       "3       Futrelle, Mrs. Jacques Heath (Lily May Peel)  female  35.0      1   \n",
       "4                           Allen, Mr. William Henry    male  35.0      0   \n",
       "5                                   Moran, Mr. James    male   NaN      0   \n",
       "6                            McCarthy, Mr. Timothy J    male  54.0      0   \n",
       "7                     Palsson, Master. Gosta Leonard    male   2.0      3   \n",
       "8  Johnson, Mrs. Oscar W (Elisabeth Vilhelmina Berg)  female  27.0      0   \n",
       "9                Nasser, Mrs. Nicholas (Adele Achem)  female  14.0      1   \n",
       "\n",
       "   Parch            Ticket     Fare Cabin Embarked  \n",
       "0      0         A/5 21171   7.2500   NaN        S  \n",
       "1      0          PC 17599  71.2833   C85        C  \n",
       "2      0  STON/O2. 3101282   7.9250   NaN        S  \n",
       "3      0            113803  53.1000  C123        S  \n",
       "4      0            373450   8.0500   NaN        S  \n",
       "5      0            330877   8.4583   NaN        Q  \n",
       "6      0             17463  51.8625   E46        S  \n",
       "7      1            349909  21.0750   NaN        S  \n",
       "8      2            347742  11.1333   NaN        S  \n",
       "9      0            237736  30.0708   NaN        C  "
      ]
     },
     "execution_count": 148,
     "metadata": {},
     "output_type": "execute_result"
    }
   ],
   "source": [
    "df1 = pd.read_csv('/Users/anastasiafedoracenko/Desktop/train.csv')\n",
    "df1.head(10)"
   ]
  },
  {
   "cell_type": "code",
   "execution_count": 149,
   "id": "e5716f78",
   "metadata": {},
   "outputs": [],
   "source": [
    "df1['Sex'] = df1['Sex'].astype('category')\n",
    "df1['gender'] = df1['Sex'].cat.codes\n"
   ]
  },
  {
   "cell_type": "markdown",
   "id": "61c884bf",
   "metadata": {},
   "source": [
    "Cразу меняю пол на бинарный вид, что б я могла удалить занчение пола в строковом формате."
   ]
  },
  {
   "cell_type": "code",
   "execution_count": 150,
   "id": "4d7fadbf",
   "metadata": {},
   "outputs": [],
   "source": [
    "count = ['Name', 'Sex', 'Ticket', 'Cabin', 'PassengerId', 'Embarked']\n",
    "df1.drop(count, inplace = True, axis = 1)\n"
   ]
  },
  {
   "cell_type": "markdown",
   "id": "6967e35e",
   "metadata": {},
   "source": [
    "Имя не влияет на выживаемость никак, пол мы перевели в бинарный вид, он тоже больше не нужен, билет - бесполезное значение для нас, номер кабины мог бы иметь значение, если бы мы знали расположение кабин или кол-во человек в кабине, или все нумерации(тогда бы умерших могли бы \"поселить\" в кабины, которые дальше от палубы находятся, а выживших, соответственно, ближе к палубе), но мы не распологаем этими данными, поэтому удаляем столбец. Класс обслуживания на выживаемость тоже не влияет, это уровень комфорта, нам не потребуется, и последнее, это id пассажира, что, по сути, не несет в себе никакой информации для нас, кроме последовательности.  "
   ]
  },
  {
   "cell_type": "code",
   "execution_count": 151,
   "id": "aa66f5bd",
   "metadata": {},
   "outputs": [
    {
     "data": {
      "text/plain": [
       "Survived      0\n",
       "Pclass        0\n",
       "Age         177\n",
       "SibSp         0\n",
       "Parch         0\n",
       "Fare          0\n",
       "gender        0\n",
       "dtype: int64"
      ]
     },
     "execution_count": 151,
     "metadata": {},
     "output_type": "execute_result"
    }
   ],
   "source": [
    "df1.isna().sum()"
   ]
  },
  {
   "cell_type": "markdown",
   "id": "87ad60a8",
   "metadata": {},
   "source": [
    "Видим пропущенные значения только в возрасте остались "
   ]
  },
  {
   "cell_type": "code",
   "execution_count": 153,
   "id": "45086d46",
   "metadata": {},
   "outputs": [
    {
     "data": {
      "text/plain": [
       "Survived    0\n",
       "Pclass      0\n",
       "Age         0\n",
       "SibSp       0\n",
       "Parch       0\n",
       "Fare        0\n",
       "gender      0\n",
       "dtype: int64"
      ]
     },
     "execution_count": 153,
     "metadata": {},
     "output_type": "execute_result"
    }
   ],
   "source": [
    "df1['Age'].fillna(df1['Age'].mean(), inplace = True)\n",
    "        \n",
    "df1.isna().sum()"
   ]
  },
  {
   "cell_type": "code",
   "execution_count": 154,
   "id": "ac13ad42",
   "metadata": {},
   "outputs": [
    {
     "data": {
      "text/html": [
       "<div>\n",
       "<style scoped>\n",
       "    .dataframe tbody tr th:only-of-type {\n",
       "        vertical-align: middle;\n",
       "    }\n",
       "\n",
       "    .dataframe tbody tr th {\n",
       "        vertical-align: top;\n",
       "    }\n",
       "\n",
       "    .dataframe thead th {\n",
       "        text-align: right;\n",
       "    }\n",
       "</style>\n",
       "<table border=\"1\" class=\"dataframe\">\n",
       "  <thead>\n",
       "    <tr style=\"text-align: right;\">\n",
       "      <th></th>\n",
       "      <th>Survived</th>\n",
       "      <th>Pclass</th>\n",
       "      <th>Age</th>\n",
       "      <th>SibSp</th>\n",
       "      <th>Parch</th>\n",
       "      <th>Fare</th>\n",
       "      <th>gender</th>\n",
       "    </tr>\n",
       "  </thead>\n",
       "  <tbody>\n",
       "    <tr>\n",
       "      <th>0</th>\n",
       "      <td>0</td>\n",
       "      <td>3</td>\n",
       "      <td>22.0</td>\n",
       "      <td>1</td>\n",
       "      <td>0</td>\n",
       "      <td>7.2500</td>\n",
       "      <td>1</td>\n",
       "    </tr>\n",
       "    <tr>\n",
       "      <th>1</th>\n",
       "      <td>1</td>\n",
       "      <td>1</td>\n",
       "      <td>38.0</td>\n",
       "      <td>1</td>\n",
       "      <td>0</td>\n",
       "      <td>71.2833</td>\n",
       "      <td>0</td>\n",
       "    </tr>\n",
       "    <tr>\n",
       "      <th>2</th>\n",
       "      <td>1</td>\n",
       "      <td>3</td>\n",
       "      <td>26.0</td>\n",
       "      <td>0</td>\n",
       "      <td>0</td>\n",
       "      <td>7.9250</td>\n",
       "      <td>0</td>\n",
       "    </tr>\n",
       "    <tr>\n",
       "      <th>3</th>\n",
       "      <td>1</td>\n",
       "      <td>1</td>\n",
       "      <td>35.0</td>\n",
       "      <td>1</td>\n",
       "      <td>0</td>\n",
       "      <td>53.1000</td>\n",
       "      <td>0</td>\n",
       "    </tr>\n",
       "    <tr>\n",
       "      <th>4</th>\n",
       "      <td>0</td>\n",
       "      <td>3</td>\n",
       "      <td>35.0</td>\n",
       "      <td>0</td>\n",
       "      <td>0</td>\n",
       "      <td>8.0500</td>\n",
       "      <td>1</td>\n",
       "    </tr>\n",
       "  </tbody>\n",
       "</table>\n",
       "</div>"
      ],
      "text/plain": [
       "   Survived  Pclass   Age  SibSp  Parch     Fare  gender\n",
       "0         0       3  22.0      1      0   7.2500       1\n",
       "1         1       1  38.0      1      0  71.2833       0\n",
       "2         1       3  26.0      0      0   7.9250       0\n",
       "3         1       1  35.0      1      0  53.1000       0\n",
       "4         0       3  35.0      0      0   8.0500       1"
      ]
     },
     "execution_count": 154,
     "metadata": {},
     "output_type": "execute_result"
    }
   ],
   "source": [
    "df1.head()"
   ]
  },
  {
   "cell_type": "code",
   "execution_count": 155,
   "id": "4137a189",
   "metadata": {},
   "outputs": [
    {
     "name": "stdout",
     "output_type": "stream",
     "text": [
      "<class 'pandas.core.frame.DataFrame'>\n",
      "RangeIndex: 891 entries, 0 to 890\n",
      "Data columns (total 7 columns):\n",
      " #   Column    Non-Null Count  Dtype  \n",
      "---  ------    --------------  -----  \n",
      " 0   Survived  891 non-null    int64  \n",
      " 1   Pclass    891 non-null    int64  \n",
      " 2   Age       891 non-null    float64\n",
      " 3   SibSp     891 non-null    int64  \n",
      " 4   Parch     891 non-null    int64  \n",
      " 5   Fare      891 non-null    float64\n",
      " 6   gender    891 non-null    int8   \n",
      "dtypes: float64(2), int64(4), int8(1)\n",
      "memory usage: 42.8 KB\n"
     ]
    }
   ],
   "source": [
    "df1.info()\n",
    "\n",
    "#нужно преобразовать тип данных в колонке Age"
   ]
  },
  {
   "cell_type": "markdown",
   "id": "3dad4b76",
   "metadata": {},
   "source": [
    "Подставила все нужные значения, пропуски подчистила. Далее в этапах идет перевести категориальные переменные в цифровые значения, но пол я перевела чуть выше, так что сейчас можно пропустить этот пункт и перейти к проверке на выбросы. "
   ]
  },
  {
   "cell_type": "code",
   "execution_count": 156,
   "id": "723dfdae",
   "metadata": {},
   "outputs": [
    {
     "data": {
      "text/plain": [
       "<AxesSubplot:title={'center':'Проверка выбросов на стоимость билетов'}>"
      ]
     },
     "execution_count": 156,
     "metadata": {},
     "output_type": "execute_result"
    },
    {
     "data": {
      "image/png": "[encoded data removed]",
      "text/plain": [
       "<Figure size 432x288 with 1 Axes>"
      ]
     },
     "metadata": {
      "needs_background": "light"
     },
     "output_type": "display_data"
    },
    {
     "data": {
      "image/png": "[encoded data removed]",
      "text/plain": [
       "<Figure size 432x288 with 1 Axes>"
      ]
     },
     "metadata": {
      "needs_background": "light"
     },
     "output_type": "display_data"
    }
   ],
   "source": [
    "df1[['Age']].plot( kind = 'box', grid = True, title = 'Проверка выбросов на возраст ')\n",
    "df1[[ 'Fare']].plot( kind = 'box', grid = True, title = 'Проверка выбросов на стоимость билетов')\n",
    "\n",
    "#решила проверить выбросы по стоиости билетов, что б убедиться, что никто не попал на судно \"по блату\" и тд "
   ]
  },
  {
   "cell_type": "markdown",
   "id": "d2787b79",
   "metadata": {},
   "source": [
    "Итак, отлично, видим выброс по цене выбросы, я бы убраал все, что дороже 200, и посмотрела бы еще раз. Что касается возраста: есть выброс в ~67-80 лет и до ~3-6 лет, я бы их убрала, потому что очень пожылым и очень, соответсвенно, маленьким людям спастись самостоятельно очень тяжко. "
   ]
  },
  {
   "cell_type": "code",
   "execution_count": 157,
   "id": "ede550f4",
   "metadata": {},
   "outputs": [],
   "source": [
    "df1 = df1[df1.Age <= 67]\n",
    "df1 = df1[df1.Age >= 6]\n",
    "df1 = df1[df1.Fare <= 200]"
   ]
  },
  {
   "cell_type": "markdown",
   "id": "4b66c3ff",
   "metadata": {},
   "source": [
    "Еще раз проверим данные на те же выбросы"
   ]
  },
  {
   "cell_type": "code",
   "execution_count": 158,
   "id": "3b8c2041",
   "metadata": {},
   "outputs": [
    {
     "data": {
      "text/plain": [
       "<AxesSubplot:title={'center':'Еще проверка выбросов на стоимость билетов'}>"
      ]
     },
     "execution_count": 158,
     "metadata": {},
     "output_type": "execute_result"
    },
    {
     "data": {
      "image/png": "[encoded data removed]",
      "text/plain": [
       "<Figure size 432x288 with 1 Axes>"
      ]
     },
     "metadata": {
      "needs_background": "light"
     },
     "output_type": "display_data"
    },
    {
     "data": {
      "image/png": "[encoded data removed]",
      "text/plain": [
       "<Figure size 432x288 with 1 Axes>"
      ]
     },
     "metadata": {
      "needs_background": "light"
     },
     "output_type": "display_data"
    }
   ],
   "source": [
    "df1[['Age']].plot( kind = 'box', grid = True, title = 'Еще проверка выбросов на возраст ')\n",
    "df1[[ 'Fare']].plot( kind = 'box', grid = True, title = 'Еще проверка выбросов на стоимость билетов')"
   ]
  },
  {
   "cell_type": "markdown",
   "id": "3fa56eb8",
   "metadata": {},
   "source": [
    "Теперь видим, что выбросов слишком много и я бы больше не хотела бы их чистить, вдруг это выбросы и повлияли на чью-то выживаемость( к примеру: люди с возрастом 50+ чуть медленнее передвигались, соответственно не первые в шлюпку залекзли, или людис билетами дороже средней цены находились ближе в палубе, соответственно первые успели выскочить),оставляю. "
   ]
  },
  {
   "cell_type": "code",
   "execution_count": 159,
   "id": "b4909909",
   "metadata": {},
   "outputs": [
    {
     "data": {
      "text/plain": [
       "<AxesSubplot:xlabel='Age,Survived'>"
      ]
     },
     "execution_count": 159,
     "metadata": {},
     "output_type": "execute_result"
    },
    {
     "data": {
      "image/png": "[encoded data removed]",
      "text/plain": [
       "<Figure size 432x288 with 1 Axes>"
      ]
     },
     "metadata": {
      "needs_background": "light"
     },
     "output_type": "display_data"
    }
   ],
   "source": [
    "df1[['Age', 'Survived']].value_counts().plot()\n",
    "\n",
    "#Чаще люди спасались в более активном возрасте, а в маленьком или ближе к пожилому, меньше людей "
   ]
  },
  {
   "cell_type": "code",
   "execution_count": 160,
   "id": "b3611007",
   "metadata": {},
   "outputs": [
    {
     "data": {
      "text/plain": [
       "<AxesSubplot:xlabel='Survived,Pclass'>"
      ]
     },
     "execution_count": 160,
     "metadata": {},
     "output_type": "execute_result"
    },
    {
     "data": {
      "image/png": "[encoded data removed]",
      "text/plain": [
       "<Figure size 432x288 with 1 Axes>"
      ]
     },
     "metadata": {
      "needs_background": "light"
     },
     "output_type": "display_data"
    }
   ],
   "source": [
    "df1[['Survived', 'Pclass']].value_counts().plot(kind = 'bar')\n",
    "\n",
    "#тут не очень упорядочено, но видим, что умерло больше всего людей находившихся в 3 классе обслуживания, а больше\n",
    "#всего выжило людей из 1 класса обслуживания, и меньше всего умерло людей из 1 класса "
   ]
  },
  {
   "cell_type": "code",
   "execution_count": 161,
   "id": "d96a9345",
   "metadata": {},
   "outputs": [
    {
     "data": {
      "text/plain": [
       "<AxesSubplot:xlabel='SibSp,Parch,Survived'>"
      ]
     },
     "execution_count": 161,
     "metadata": {},
     "output_type": "execute_result"
    },
    {
     "data": {
      "image/png": "[encoded data removed]",
      "text/plain": [
       "<Figure size 432x288 with 1 Axes>"
      ]
     },
     "metadata": {
      "needs_background": "light"
     },
     "output_type": "display_data"
    }
   ],
   "source": [
    "df1[['SibSp', 'Parch', 'Survived']].value_counts().plot()\n",
    "\n",
    "#не очень показательный график, но тут видно что очень много людей не выжило, кто не имел родственников на борту \n",
    "#имея одного родителя/ребенка или брата/сестру тоже много не выжило, нет четкой закономерности, но на \n",
    "#обучение модели может повлиять(возможно)"
   ]
  },
  {
   "cell_type": "code",
   "execution_count": 168,
   "id": "7a53a0f9",
   "metadata": {},
   "outputs": [],
   "source": [
    "x1 = df1[['Pclass', 'Age', 'SibSp', 'Parch', 'Fare', 'gender']]\n",
    "y1 = df1['Survived']"
   ]
  },
  {
   "cell_type": "code",
   "execution_count": 37,
   "id": "f42a0b5a",
   "metadata": {},
   "outputs": [],
   "source": []
  },
  {
   "cell_type": "code",
   "execution_count": 169,
   "id": "5b5ea476",
   "metadata": {},
   "outputs": [],
   "source": [
    "x1_train, x1_test, y1_train, y1_test = train_test_split(x1, y1, test_size = 0.2, random_state = 7)"
   ]
  },
  {
   "cell_type": "code",
   "execution_count": 170,
   "id": "4e8d3eb9",
   "metadata": {},
   "outputs": [
    {
     "data": {
      "text/plain": [
       "LinearRegression()"
      ]
     },
     "execution_count": 170,
     "metadata": {},
     "output_type": "execute_result"
    }
   ],
   "source": [
    "model = LinearRegression().fit(x1, y1)\n",
    "model"
   ]
  },
  {
   "cell_type": "code",
   "execution_count": 171,
   "id": "bee055c0",
   "metadata": {},
   "outputs": [
    {
     "data": {
      "text/plain": [
       "array([ 0.4318436 ,  0.85261992,  0.65822647,  0.05021829,  0.47532849,\n",
       "        0.55371657,  0.105738  ,  0.59191614, -0.00946181, -0.01698334,\n",
       "        0.68916349,  0.10816939,  0.0492184 ,  0.05357526,  0.28079283,\n",
       "        0.14589463,  0.74641517,  0.12049261,  0.3816027 ,  0.40152589,\n",
       "        0.0389947 ,  0.75345546,  0.12594484,  0.19264205,  0.62839439,\n",
       "       -0.09480432,  0.41982013,  0.66770407,  0.78522396,  0.69974384,\n",
       "        0.51925163,  0.05648025,  0.26274425,  0.65759712,  0.7840944 ,\n",
       "        0.73518082,  0.73931839,  0.35016119,  0.06834443,  0.9704171 ,\n",
       "        1.04620228,  0.0941617 ,  0.5943006 ,  0.40073344,  0.40475851,\n",
       "        0.11042168,  0.12370551,  0.85531512,  0.18044573,  0.70252939,\n",
       "        0.12384959,  0.09831606,  0.74366348, -0.26072269,  0.88941228,\n",
       "        0.23235434,  0.86643945,  0.69366904,  0.90070526,  0.23260589,\n",
       "        0.02183477,  0.41891458,  0.95388974,  0.5943006 ,  0.75057382,\n",
       "        0.23118828,  0.27147199,  0.36327201,  0.09721595,  0.56024447,\n",
       "        0.29980654,  0.57702969,  0.12703251,  0.22494969, -0.01421693,\n",
       "        0.13164505,  0.62839439,  0.12697243,  0.75009849,  0.75312912,\n",
       "        0.07627559,  0.24267035,  0.37999576,  0.47540153,  0.07013797,\n",
       "        0.59353563,  0.09800383,  0.13429874,  0.12706854,  0.12831125,\n",
       "        0.07124265,  0.09800383,  1.00742293,  0.38428085,  0.40321281,\n",
       "        0.1698947 ,  0.10706471,  0.41627802,  0.65113531,  0.05895645,\n",
       "        1.03431058,  0.09822601,  0.14630282,  0.37211188,  0.72807674,\n",
       "        0.12288914,  0.09800383,  0.10838382,  0.40749926,  0.28302166,\n",
       "        0.76801269,  0.62839439,  0.76487854,  0.38984621,  0.0262872 ,\n",
       "        0.06702454,  0.55568061,  0.3598539 ,  0.11713564,  0.05021829,\n",
       "        0.0903219 ,  0.06456446,  0.09776379,  0.21245756,  0.3374631 ,\n",
       "        0.31517096,  0.5943006 ,  0.41442126,  0.0761631 ,  0.40320195,\n",
       "        0.62858054,  0.22546172,  1.08040528,  0.13952388,  0.07461101,\n",
       "        0.11042168,  0.83712112,  0.50565496, -0.26072269,  0.61532665,\n",
       "        0.06802947,  1.03539956,  0.84914638,  1.01285355,  0.42436295,\n",
       "        0.41901142,  0.77327098,  0.09822601,  0.674382  ,  0.01322945,\n",
       "        0.06891932,  0.8826587 ,  0.11567932,  0.40152589,  0.17646935,\n",
       "        0.56301469,  0.05621183,  0.09006975,  0.06355441,  0.79341284,\n",
       "        0.22494969,  0.6491111 ,  0.10263806,  0.60152418])"
      ]
     },
     "execution_count": 171,
     "metadata": {},
     "output_type": "execute_result"
    }
   ],
   "source": [
    "predictions1 = model.predict(x1_test)\n",
    "model.predict(x1_test)"
   ]
  },
  {
   "cell_type": "code",
   "execution_count": 172,
   "id": "19da2e1f",
   "metadata": {},
   "outputs": [
    {
     "data": {
      "text/plain": [
       "0.4004987182089671"
      ]
     },
     "execution_count": 172,
     "metadata": {},
     "output_type": "execute_result"
    }
   ],
   "source": [
    "model.score(x1_train, y1_train) "
   ]
  },
  {
   "cell_type": "code",
   "execution_count": 173,
   "id": "d257e050",
   "metadata": {},
   "outputs": [
    {
     "data": {
      "text/plain": [
       "0.4092948500316166"
      ]
     },
     "execution_count": 173,
     "metadata": {},
     "output_type": "execute_result"
    }
   ],
   "source": [
    "model.score(x1_test, y1_test) "
   ]
  },
  {
   "cell_type": "markdown",
   "id": "2b4b1c5b",
   "metadata": {},
   "source": [
    "Меня не устраивает вероятность в 40%, но лучше у меня не получилось, допускаю что это моя лажа. \n"
   ]
  },
  {
   "cell_type": "markdown",
   "id": "837ed4ab",
   "metadata": {},
   "source": [
    "## ВЫВОДЫ \n",
    "\n",
    "- c данными работать интересно, потому что любой фактор может показаться значительным и наоборот, много аналитической работы. Изначально я почистила датафрейм от тех столбцоы, которые являются абсолютным рандомом или, допустим, абсолютно не важны без доп инфы, которой мы не обладаем( на пример можно было бы оставить порт посадки с предположением того, что в каком-то порту село больше бедных людей, из-за ситуации с работой в определенных регионах, что обозначало бы, что чем дешевле билет - тем дальше от палубы каюты, соответственно меньше шансов на выживаемость, но это я придувыаю уже, потому что для такого размаха нужно изучать отдельные регионы в определенные период времени) . Далее заменили важный строковый формат данных на бинарный вид, что более логично. После чего заменили пропуски на логичные значения(я бы отталкивалась от класса и наиболее встречаемого возраста, то есть ставила бы моду, но по категориям, или к прмеру, в зависимости от кол-ва родных, стоимости билета и тд, но тут нужны были бы полиномеальные фичи). После чего определила явные выбросы, но оставила кучковатые \"выбросы\" что б их учесть при обучении, посколько их не мало было и они могли внести свою лепту ( хотя теперь я думаю, если бы я чисто начисто убрала бы выбросы, возможно оценка точности предсказаний была бы выше). После чего я вновь обучила модель на уже новых и готовых признаках, построила предсказание с помощью линейной регресии и оченила их точность. ПОвторюсь, меня эта точность очень расстроиа :(\n",
    "\n",
    "\n",
    "- В 2 пункте метрика модели была построена на абсолютно абсурдных значениях, поскольку они без доп инфы не имели никакого веса для нас, там точность предсказания составила 13, в новой, второй, метрике модели мы подготовили данные, обработали их, заменили пустые значения, то есть была проделана аналитическая работа, котора в итоге помогла получить 40 процентов точности, хотя душе было бы приятно, если бы было хотя бы больше половины)) \n",
    "\n",
    "\n",
    "- на счет целесообразности работы с данными при машинном обучение: \n",
    "  Аналитическая работа очень круто помогает взглянуть на данные не как на плоский фрагмент \"чего-то\" для \"чего-то\", а помогает взглянуть под другим углом, пощупать, исправить, то есть данные для модели это практически 60, если не больше, процентов от успеха.  Работа с данными не отъемлемая часть развивтия сферы. Понимаю, что звучит избито, но это так. Если задача саентиста состоит в том что бы построить классную модель, которая будем работать на результат ( условно), то аналитическая часть этого процесса = залог лучшего результата. \n",
    "  \n",
    "  \n",
    "- по поводу больших данных. Если есть видимые, не частые, но понтные пропуски, то я считаю что да, нужно. \n",
    "    мое мнение какое, большинство случаев частные, перманентно ничего работать не будет в этой сфере(опять же, условно), если есть потребность, если это зависящий фактор - то, наверно, да. Но скорее всего, я считаю, что при работе с большими данными обработкой этих самых данных никто не занимается, там другой масштаб, проще выкинуть строчку при половине пропусков."
   ]
  },
  {
   "cell_type": "code",
   "execution_count": null,
   "id": "59daf839",
   "metadata": {},
   "outputs": [],
   "source": []
  }
 ],
 "metadata": {
  "kernelspec": {
   "display_name": "Python 3 (ipykernel)",
   "language": "python",
   "name": "python3"
  },
  "language_info": {
   "codemirror_mode": {
    "name": "ipython",
    "version": 3
   },
   "file_extension": ".py",
   "mimetype": "text/x-python",
   "name": "python",
   "nbconvert_exporter": "python",
   "pygments_lexer": "ipython3",
   "version": "3.9.7"
  }
 },
 "nbformat": 4,
 "nbformat_minor": 5
}
