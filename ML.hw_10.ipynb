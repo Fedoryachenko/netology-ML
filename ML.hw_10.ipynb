{
 "cells": [
  {
   "cell_type": "code",
   "execution_count": 250,
   "id": "4c82d986",
   "metadata": {},
   "outputs": [],
   "source": [
    "import math\n",
    "import numpy as np\n",
    "import pandas as pd\n",
    "import matplotlib.pyplot as plt\n",
    "import seaborn as sns\n",
    "from sklearn.datasets import make_classification\n",
    "from sklearn.linear_model import LogisticRegression\n",
    "from sklearn.feature_selection import VarianceThreshold\n",
    "from sklearn.feature_selection import SelectKBest\n",
    "from sklearn.feature_selection import SelectFromModel\n",
    "from sklearn.ensemble import RandomForestClassifier\n",
    "from sklearn.feature_selection import SequentialFeatureSelector\n",
    "from sklearn.model_selection import cross_val_score "
   ]
  },
  {
   "cell_type": "code",
   "execution_count": 251,
   "id": "a8c018e7",
   "metadata": {},
   "outputs": [
    {
     "data": {
      "text/plain": [
       "array([[ 0.43933531,  0.94730673, -1.45904818, ..., -0.88267528,\n",
       "        -0.27343026,  0.86231074],\n",
       "       [ 0.75932523,  0.36864482, -1.03768898, ...,  0.91976585,\n",
       "        -0.73226819, -1.02595256],\n",
       "       [ 0.7803387 ,  1.22562644,  1.58128676, ..., -0.48600028,\n",
       "         0.71280777, -0.71149547],\n",
       "       ...,\n",
       "       [ 1.27753852, -0.05485747, -1.05337209, ...,  0.32472287,\n",
       "        -0.20605404, -0.79060916],\n",
       "       [ 0.30894358, -0.04532537, -0.70760966, ..., -1.26652535,\n",
       "         0.24649693,  0.94006579],\n",
       "       [ 0.0418482 , -0.45173283, -1.11077285, ...,  0.29900939,\n",
       "        -1.91361724, -2.0721183 ]])"
      ]
     },
     "execution_count": 251,
     "metadata": {},
     "output_type": "execute_result"
    }
   ],
   "source": [
    "x, y = make_classification(scale = 1)\n",
    "x"
   ]
  },
  {
   "cell_type": "code",
   "execution_count": 252,
   "id": "d9786d50",
   "metadata": {},
   "outputs": [
    {
     "data": {
      "text/plain": [
       "array([0, 0, 0, 1, 1, 0, 1, 1, 0, 1, 0, 1, 1, 0, 0, 0, 1, 0, 0, 1, 1, 1,\n",
       "       0, 0, 0, 1, 0, 0, 1, 0, 1, 1, 0, 1, 0, 1, 1, 0, 0, 0, 0, 1, 1, 1,\n",
       "       0, 0, 1, 0, 1, 1, 0, 1, 0, 1, 1, 0, 1, 0, 1, 1, 0, 1, 0, 0, 0, 1,\n",
       "       1, 1, 0, 0, 0, 1, 1, 0, 1, 1, 0, 1, 0, 1, 1, 1, 1, 0, 0, 0, 1, 0,\n",
       "       0, 1, 1, 0, 1, 0, 0, 0, 1, 0, 1, 1])"
      ]
     },
     "execution_count": 252,
     "metadata": {},
     "output_type": "execute_result"
    }
   ],
   "source": [
    "y"
   ]
  },
  {
   "cell_type": "code",
   "execution_count": 253,
   "id": "70f02d57",
   "metadata": {},
   "outputs": [
    {
     "data": {
      "text/html": [
       "<div>\n",
       "<style scoped>\n",
       "    .dataframe tbody tr th:only-of-type {\n",
       "        vertical-align: middle;\n",
       "    }\n",
       "\n",
       "    .dataframe tbody tr th {\n",
       "        vertical-align: top;\n",
       "    }\n",
       "\n",
       "    .dataframe thead th {\n",
       "        text-align: right;\n",
       "    }\n",
       "</style>\n",
       "<table border=\"1\" class=\"dataframe\">\n",
       "  <thead>\n",
       "    <tr style=\"text-align: right;\">\n",
       "      <th></th>\n",
       "      <th>0</th>\n",
       "      <th>1</th>\n",
       "      <th>2</th>\n",
       "      <th>3</th>\n",
       "      <th>4</th>\n",
       "      <th>5</th>\n",
       "      <th>6</th>\n",
       "      <th>7</th>\n",
       "      <th>8</th>\n",
       "      <th>9</th>\n",
       "      <th>10</th>\n",
       "      <th>11</th>\n",
       "      <th>12</th>\n",
       "      <th>13</th>\n",
       "      <th>14</th>\n",
       "      <th>15</th>\n",
       "      <th>16</th>\n",
       "      <th>17</th>\n",
       "      <th>18</th>\n",
       "      <th>19</th>\n",
       "    </tr>\n",
       "  </thead>\n",
       "  <tbody>\n",
       "    <tr>\n",
       "      <th>0</th>\n",
       "      <td>0.439335</td>\n",
       "      <td>0.947307</td>\n",
       "      <td>-1.459048</td>\n",
       "      <td>-0.643214</td>\n",
       "      <td>-1.344431</td>\n",
       "      <td>0.836914</td>\n",
       "      <td>-0.685564</td>\n",
       "      <td>1.959171</td>\n",
       "      <td>-0.765674</td>\n",
       "      <td>-1.049777</td>\n",
       "      <td>-0.051305</td>\n",
       "      <td>-0.790169</td>\n",
       "      <td>-0.678882</td>\n",
       "      <td>-0.247674</td>\n",
       "      <td>0.652011</td>\n",
       "      <td>-0.389605</td>\n",
       "      <td>-0.564156</td>\n",
       "      <td>-0.882675</td>\n",
       "      <td>-0.273430</td>\n",
       "      <td>0.862311</td>\n",
       "    </tr>\n",
       "    <tr>\n",
       "      <th>1</th>\n",
       "      <td>0.759325</td>\n",
       "      <td>0.368645</td>\n",
       "      <td>-1.037689</td>\n",
       "      <td>2.631109</td>\n",
       "      <td>-0.784656</td>\n",
       "      <td>-0.992633</td>\n",
       "      <td>-0.986331</td>\n",
       "      <td>1.276436</td>\n",
       "      <td>-0.588889</td>\n",
       "      <td>0.028171</td>\n",
       "      <td>-0.452936</td>\n",
       "      <td>-0.001826</td>\n",
       "      <td>1.232181</td>\n",
       "      <td>-0.363203</td>\n",
       "      <td>-0.597682</td>\n",
       "      <td>-0.693242</td>\n",
       "      <td>0.756726</td>\n",
       "      <td>0.919766</td>\n",
       "      <td>-0.732268</td>\n",
       "      <td>-1.025953</td>\n",
       "    </tr>\n",
       "    <tr>\n",
       "      <th>2</th>\n",
       "      <td>0.780339</td>\n",
       "      <td>1.225626</td>\n",
       "      <td>1.581287</td>\n",
       "      <td>-0.630456</td>\n",
       "      <td>-1.752118</td>\n",
       "      <td>0.257947</td>\n",
       "      <td>-1.352059</td>\n",
       "      <td>0.064824</td>\n",
       "      <td>1.659349</td>\n",
       "      <td>-0.630915</td>\n",
       "      <td>-1.602025</td>\n",
       "      <td>-1.030280</td>\n",
       "      <td>1.146060</td>\n",
       "      <td>0.513859</td>\n",
       "      <td>-0.113275</td>\n",
       "      <td>0.915369</td>\n",
       "      <td>-0.673960</td>\n",
       "      <td>-0.486000</td>\n",
       "      <td>0.712808</td>\n",
       "      <td>-0.711495</td>\n",
       "    </tr>\n",
       "    <tr>\n",
       "      <th>3</th>\n",
       "      <td>1.206429</td>\n",
       "      <td>0.074944</td>\n",
       "      <td>1.698395</td>\n",
       "      <td>-0.604535</td>\n",
       "      <td>1.145709</td>\n",
       "      <td>1.240262</td>\n",
       "      <td>-0.101471</td>\n",
       "      <td>-1.994689</td>\n",
       "      <td>0.999652</td>\n",
       "      <td>-0.277856</td>\n",
       "      <td>-1.250366</td>\n",
       "      <td>-1.294136</td>\n",
       "      <td>1.054902</td>\n",
       "      <td>1.339041</td>\n",
       "      <td>-0.446497</td>\n",
       "      <td>-0.815491</td>\n",
       "      <td>-0.166152</td>\n",
       "      <td>0.480064</td>\n",
       "      <td>1.042949</td>\n",
       "      <td>-0.925476</td>\n",
       "    </tr>\n",
       "    <tr>\n",
       "      <th>4</th>\n",
       "      <td>1.117366</td>\n",
       "      <td>1.065563</td>\n",
       "      <td>-0.392421</td>\n",
       "      <td>0.802268</td>\n",
       "      <td>0.863683</td>\n",
       "      <td>0.891980</td>\n",
       "      <td>-0.324104</td>\n",
       "      <td>-0.308504</td>\n",
       "      <td>-0.522649</td>\n",
       "      <td>-0.178667</td>\n",
       "      <td>-2.273610</td>\n",
       "      <td>-0.943175</td>\n",
       "      <td>-0.203938</td>\n",
       "      <td>2.789720</td>\n",
       "      <td>0.446126</td>\n",
       "      <td>0.240889</td>\n",
       "      <td>-2.304076</td>\n",
       "      <td>0.992996</td>\n",
       "      <td>0.217784</td>\n",
       "      <td>0.410634</td>\n",
       "    </tr>\n",
       "    <tr>\n",
       "      <th>...</th>\n",
       "      <td>...</td>\n",
       "      <td>...</td>\n",
       "      <td>...</td>\n",
       "      <td>...</td>\n",
       "      <td>...</td>\n",
       "      <td>...</td>\n",
       "      <td>...</td>\n",
       "      <td>...</td>\n",
       "      <td>...</td>\n",
       "      <td>...</td>\n",
       "      <td>...</td>\n",
       "      <td>...</td>\n",
       "      <td>...</td>\n",
       "      <td>...</td>\n",
       "      <td>...</td>\n",
       "      <td>...</td>\n",
       "      <td>...</td>\n",
       "      <td>...</td>\n",
       "      <td>...</td>\n",
       "      <td>...</td>\n",
       "    </tr>\n",
       "    <tr>\n",
       "      <th>95</th>\n",
       "      <td>1.274233</td>\n",
       "      <td>0.783151</td>\n",
       "      <td>0.940117</td>\n",
       "      <td>1.451618</td>\n",
       "      <td>-1.052212</td>\n",
       "      <td>-0.731401</td>\n",
       "      <td>-0.339979</td>\n",
       "      <td>0.045720</td>\n",
       "      <td>0.989249</td>\n",
       "      <td>0.527902</td>\n",
       "      <td>0.005321</td>\n",
       "      <td>1.217391</td>\n",
       "      <td>0.942839</td>\n",
       "      <td>0.142827</td>\n",
       "      <td>0.855504</td>\n",
       "      <td>2.355130</td>\n",
       "      <td>-2.004868</td>\n",
       "      <td>0.488664</td>\n",
       "      <td>1.298506</td>\n",
       "      <td>-0.249839</td>\n",
       "    </tr>\n",
       "    <tr>\n",
       "      <th>96</th>\n",
       "      <td>1.045545</td>\n",
       "      <td>0.980547</td>\n",
       "      <td>-2.585140</td>\n",
       "      <td>0.802928</td>\n",
       "      <td>-0.019432</td>\n",
       "      <td>-0.776689</td>\n",
       "      <td>-0.916000</td>\n",
       "      <td>1.860336</td>\n",
       "      <td>-1.967325</td>\n",
       "      <td>-1.089332</td>\n",
       "      <td>1.644018</td>\n",
       "      <td>1.713222</td>\n",
       "      <td>0.130574</td>\n",
       "      <td>-0.397849</td>\n",
       "      <td>-1.322502</td>\n",
       "      <td>-0.996055</td>\n",
       "      <td>-0.473860</td>\n",
       "      <td>0.169629</td>\n",
       "      <td>0.294768</td>\n",
       "      <td>-0.197236</td>\n",
       "    </tr>\n",
       "    <tr>\n",
       "      <th>97</th>\n",
       "      <td>1.277539</td>\n",
       "      <td>-0.054857</td>\n",
       "      <td>-1.053372</td>\n",
       "      <td>-0.911725</td>\n",
       "      <td>-1.287223</td>\n",
       "      <td>0.067190</td>\n",
       "      <td>-0.326196</td>\n",
       "      <td>1.630309</td>\n",
       "      <td>-0.470949</td>\n",
       "      <td>-1.281424</td>\n",
       "      <td>-0.179020</td>\n",
       "      <td>-1.708561</td>\n",
       "      <td>-0.767800</td>\n",
       "      <td>-0.041560</td>\n",
       "      <td>2.051840</td>\n",
       "      <td>-1.606952</td>\n",
       "      <td>-0.501932</td>\n",
       "      <td>0.324723</td>\n",
       "      <td>-0.206054</td>\n",
       "      <td>-0.790609</td>\n",
       "    </tr>\n",
       "    <tr>\n",
       "      <th>98</th>\n",
       "      <td>0.308944</td>\n",
       "      <td>-0.045325</td>\n",
       "      <td>-0.707610</td>\n",
       "      <td>-1.007994</td>\n",
       "      <td>-1.226581</td>\n",
       "      <td>1.064440</td>\n",
       "      <td>-0.396646</td>\n",
       "      <td>1.341913</td>\n",
       "      <td>-0.222822</td>\n",
       "      <td>-0.352554</td>\n",
       "      <td>-1.131052</td>\n",
       "      <td>-1.282093</td>\n",
       "      <td>0.598145</td>\n",
       "      <td>0.578495</td>\n",
       "      <td>-1.819566</td>\n",
       "      <td>0.329930</td>\n",
       "      <td>-0.333454</td>\n",
       "      <td>-1.266525</td>\n",
       "      <td>0.246497</td>\n",
       "      <td>0.940066</td>\n",
       "    </tr>\n",
       "    <tr>\n",
       "      <th>99</th>\n",
       "      <td>0.041848</td>\n",
       "      <td>-0.451733</td>\n",
       "      <td>-1.110773</td>\n",
       "      <td>1.240211</td>\n",
       "      <td>0.616213</td>\n",
       "      <td>-0.253715</td>\n",
       "      <td>1.043317</td>\n",
       "      <td>0.373493</td>\n",
       "      <td>-1.006753</td>\n",
       "      <td>-0.420694</td>\n",
       "      <td>-1.427588</td>\n",
       "      <td>-0.578950</td>\n",
       "      <td>0.304840</td>\n",
       "      <td>-0.085851</td>\n",
       "      <td>0.455145</td>\n",
       "      <td>-0.020880</td>\n",
       "      <td>-0.028869</td>\n",
       "      <td>0.299009</td>\n",
       "      <td>-1.913617</td>\n",
       "      <td>-2.072118</td>\n",
       "    </tr>\n",
       "  </tbody>\n",
       "</table>\n",
       "<p>100 rows × 20 columns</p>\n",
       "</div>"
      ],
      "text/plain": [
       "          0         1         2         3         4         5         6   \\\n",
       "0   0.439335  0.947307 -1.459048 -0.643214 -1.344431  0.836914 -0.685564   \n",
       "1   0.759325  0.368645 -1.037689  2.631109 -0.784656 -0.992633 -0.986331   \n",
       "2   0.780339  1.225626  1.581287 -0.630456 -1.752118  0.257947 -1.352059   \n",
       "3   1.206429  0.074944  1.698395 -0.604535  1.145709  1.240262 -0.101471   \n",
       "4   1.117366  1.065563 -0.392421  0.802268  0.863683  0.891980 -0.324104   \n",
       "..       ...       ...       ...       ...       ...       ...       ...   \n",
       "95  1.274233  0.783151  0.940117  1.451618 -1.052212 -0.731401 -0.339979   \n",
       "96  1.045545  0.980547 -2.585140  0.802928 -0.019432 -0.776689 -0.916000   \n",
       "97  1.277539 -0.054857 -1.053372 -0.911725 -1.287223  0.067190 -0.326196   \n",
       "98  0.308944 -0.045325 -0.707610 -1.007994 -1.226581  1.064440 -0.396646   \n",
       "99  0.041848 -0.451733 -1.110773  1.240211  0.616213 -0.253715  1.043317   \n",
       "\n",
       "          7         8         9         10        11        12        13  \\\n",
       "0   1.959171 -0.765674 -1.049777 -0.051305 -0.790169 -0.678882 -0.247674   \n",
       "1   1.276436 -0.588889  0.028171 -0.452936 -0.001826  1.232181 -0.363203   \n",
       "2   0.064824  1.659349 -0.630915 -1.602025 -1.030280  1.146060  0.513859   \n",
       "3  -1.994689  0.999652 -0.277856 -1.250366 -1.294136  1.054902  1.339041   \n",
       "4  -0.308504 -0.522649 -0.178667 -2.273610 -0.943175 -0.203938  2.789720   \n",
       "..       ...       ...       ...       ...       ...       ...       ...   \n",
       "95  0.045720  0.989249  0.527902  0.005321  1.217391  0.942839  0.142827   \n",
       "96  1.860336 -1.967325 -1.089332  1.644018  1.713222  0.130574 -0.397849   \n",
       "97  1.630309 -0.470949 -1.281424 -0.179020 -1.708561 -0.767800 -0.041560   \n",
       "98  1.341913 -0.222822 -0.352554 -1.131052 -1.282093  0.598145  0.578495   \n",
       "99  0.373493 -1.006753 -0.420694 -1.427588 -0.578950  0.304840 -0.085851   \n",
       "\n",
       "          14        15        16        17        18        19  \n",
       "0   0.652011 -0.389605 -0.564156 -0.882675 -0.273430  0.862311  \n",
       "1  -0.597682 -0.693242  0.756726  0.919766 -0.732268 -1.025953  \n",
       "2  -0.113275  0.915369 -0.673960 -0.486000  0.712808 -0.711495  \n",
       "3  -0.446497 -0.815491 -0.166152  0.480064  1.042949 -0.925476  \n",
       "4   0.446126  0.240889 -2.304076  0.992996  0.217784  0.410634  \n",
       "..       ...       ...       ...       ...       ...       ...  \n",
       "95  0.855504  2.355130 -2.004868  0.488664  1.298506 -0.249839  \n",
       "96 -1.322502 -0.996055 -0.473860  0.169629  0.294768 -0.197236  \n",
       "97  2.051840 -1.606952 -0.501932  0.324723 -0.206054 -0.790609  \n",
       "98 -1.819566  0.329930 -0.333454 -1.266525  0.246497  0.940066  \n",
       "99  0.455145 -0.020880 -0.028869  0.299009 -1.913617 -2.072118  \n",
       "\n",
       "[100 rows x 20 columns]"
      ]
     },
     "execution_count": 253,
     "metadata": {},
     "output_type": "execute_result"
    }
   ],
   "source": [
    "x = pd.DataFrame(x)\n",
    "x"
   ]
  },
  {
   "cell_type": "code",
   "execution_count": 254,
   "id": "d285db86",
   "metadata": {},
   "outputs": [
    {
     "data": {
      "text/html": [
       "<div>\n",
       "<style scoped>\n",
       "    .dataframe tbody tr th:only-of-type {\n",
       "        vertical-align: middle;\n",
       "    }\n",
       "\n",
       "    .dataframe tbody tr th {\n",
       "        vertical-align: top;\n",
       "    }\n",
       "\n",
       "    .dataframe thead th {\n",
       "        text-align: right;\n",
       "    }\n",
       "</style>\n",
       "<table border=\"1\" class=\"dataframe\">\n",
       "  <thead>\n",
       "    <tr style=\"text-align: right;\">\n",
       "      <th></th>\n",
       "      <th>0</th>\n",
       "    </tr>\n",
       "  </thead>\n",
       "  <tbody>\n",
       "    <tr>\n",
       "      <th>0</th>\n",
       "      <td>0</td>\n",
       "    </tr>\n",
       "    <tr>\n",
       "      <th>1</th>\n",
       "      <td>0</td>\n",
       "    </tr>\n",
       "    <tr>\n",
       "      <th>2</th>\n",
       "      <td>0</td>\n",
       "    </tr>\n",
       "    <tr>\n",
       "      <th>3</th>\n",
       "      <td>1</td>\n",
       "    </tr>\n",
       "    <tr>\n",
       "      <th>4</th>\n",
       "      <td>1</td>\n",
       "    </tr>\n",
       "    <tr>\n",
       "      <th>...</th>\n",
       "      <td>...</td>\n",
       "    </tr>\n",
       "    <tr>\n",
       "      <th>95</th>\n",
       "      <td>0</td>\n",
       "    </tr>\n",
       "    <tr>\n",
       "      <th>96</th>\n",
       "      <td>1</td>\n",
       "    </tr>\n",
       "    <tr>\n",
       "      <th>97</th>\n",
       "      <td>0</td>\n",
       "    </tr>\n",
       "    <tr>\n",
       "      <th>98</th>\n",
       "      <td>1</td>\n",
       "    </tr>\n",
       "    <tr>\n",
       "      <th>99</th>\n",
       "      <td>1</td>\n",
       "    </tr>\n",
       "  </tbody>\n",
       "</table>\n",
       "<p>100 rows × 1 columns</p>\n",
       "</div>"
      ],
      "text/plain": [
       "    0\n",
       "0   0\n",
       "1   0\n",
       "2   0\n",
       "3   1\n",
       "4   1\n",
       ".. ..\n",
       "95  0\n",
       "96  1\n",
       "97  0\n",
       "98  1\n",
       "99  1\n",
       "\n",
       "[100 rows x 1 columns]"
      ]
     },
     "execution_count": 254,
     "metadata": {},
     "output_type": "execute_result"
    }
   ],
   "source": [
    "y = pd.DataFrame(y)\n",
    "y"
   ]
  },
  {
   "cell_type": "code",
   "execution_count": 255,
   "id": "b47995f3",
   "metadata": {},
   "outputs": [
    {
     "name": "stderr",
     "output_type": "stream",
     "text": [
      "/Users/anastasiafedoracenko/opt/anaconda3/lib/python3.9/site-packages/sklearn/utils/validation.py:63: DataConversionWarning: A column-vector y was passed when a 1d array was expected. Please change the shape of y to (n_samples, ), for example using ravel().\n",
      "  return f(*args, **kwargs)\n",
      "/Users/anastasiafedoracenko/opt/anaconda3/lib/python3.9/site-packages/sklearn/utils/validation.py:63: DataConversionWarning: A column-vector y was passed when a 1d array was expected. Please change the shape of y to (n_samples, ), for example using ravel().\n",
      "  return f(*args, **kwargs)\n",
      "/Users/anastasiafedoracenko/opt/anaconda3/lib/python3.9/site-packages/sklearn/utils/validation.py:63: DataConversionWarning: A column-vector y was passed when a 1d array was expected. Please change the shape of y to (n_samples, ), for example using ravel().\n",
      "  return f(*args, **kwargs)\n",
      "/Users/anastasiafedoracenko/opt/anaconda3/lib/python3.9/site-packages/sklearn/utils/validation.py:63: DataConversionWarning: A column-vector y was passed when a 1d array was expected. Please change the shape of y to (n_samples, ), for example using ravel().\n",
      "  return f(*args, **kwargs)\n",
      "/Users/anastasiafedoracenko/opt/anaconda3/lib/python3.9/site-packages/sklearn/utils/validation.py:63: DataConversionWarning: A column-vector y was passed when a 1d array was expected. Please change the shape of y to (n_samples, ), for example using ravel().\n",
      "  return f(*args, **kwargs)\n"
     ]
    },
    {
     "data": {
      "text/plain": [
       "0.89"
      ]
     },
     "execution_count": 255,
     "metadata": {},
     "output_type": "execute_result"
    }
   ],
   "source": [
    "model = LogisticRegression()\n",
    "c = cross_val_score(model, x, y, scoring = 'accuracy').mean()\n",
    "c"
   ]
  },
  {
   "cell_type": "markdown",
   "id": "4889a303",
   "metadata": {},
   "source": [
    "Средняя точность модели = 0.869, очень хорошо "
   ]
  },
  {
   "cell_type": "code",
   "execution_count": 256,
   "id": "3b1dbc1d",
   "metadata": {},
   "outputs": [
    {
     "data": {
      "image/png": "[encoded data removed]",
      "text/plain": [
       "<Figure size 1440x1008 with 2 Axes>"
      ]
     },
     "metadata": {
      "needs_background": "light"
     },
     "output_type": "display_data"
    }
   ],
   "source": [
    "corr = x.corr()\n",
    "plt.figure(figsize = (20, 14))\n",
    "sns.heatmap(corr, annot = True)\n",
    "plt.show()"
   ]
  },
  {
   "cell_type": "code",
   "execution_count": 293,
   "id": "d6142576",
   "metadata": {},
   "outputs": [],
   "source": [
    "a = [2, 8]"
   ]
  },
  {
   "cell_type": "code",
   "execution_count": 294,
   "id": "6d811991",
   "metadata": {},
   "outputs": [
    {
     "name": "stdout",
     "output_type": "stream",
     "text": [
      "Незначимые признаки: [0, 1, 3, 4, 5, 6, 7, 9, 10, 11, 12, 13, 14, 15, 16, 17, 18, 19]\n"
     ]
    }
   ],
   "source": [
    "a3 = [i for i in range(20) if i not in a]\n",
    "print(f'Незначимые признаки: {a3}')"
   ]
  },
  {
   "cell_type": "code",
   "execution_count": 295,
   "id": "1e948850",
   "metadata": {},
   "outputs": [
    {
     "data": {
      "text/plain": [
       "(100, 2)"
      ]
     },
     "execution_count": 295,
     "metadata": {},
     "output_type": "execute_result"
    }
   ],
   "source": [
    "x1 = x.drop(a3, axis = 1)\n",
    "x1.shape"
   ]
  },
  {
   "cell_type": "code",
   "execution_count": 296,
   "id": "43c4f976",
   "metadata": {},
   "outputs": [
    {
     "name": "stderr",
     "output_type": "stream",
     "text": [
      "/Users/anastasiafedoracenko/opt/anaconda3/lib/python3.9/site-packages/sklearn/utils/validation.py:63: DataConversionWarning: A column-vector y was passed when a 1d array was expected. Please change the shape of y to (n_samples, ), for example using ravel().\n",
      "  return f(*args, **kwargs)\n",
      "/Users/anastasiafedoracenko/opt/anaconda3/lib/python3.9/site-packages/sklearn/utils/validation.py:63: DataConversionWarning: A column-vector y was passed when a 1d array was expected. Please change the shape of y to (n_samples, ), for example using ravel().\n",
      "  return f(*args, **kwargs)\n",
      "/Users/anastasiafedoracenko/opt/anaconda3/lib/python3.9/site-packages/sklearn/utils/validation.py:63: DataConversionWarning: A column-vector y was passed when a 1d array was expected. Please change the shape of y to (n_samples, ), for example using ravel().\n",
      "  return f(*args, **kwargs)\n",
      "/Users/anastasiafedoracenko/opt/anaconda3/lib/python3.9/site-packages/sklearn/utils/validation.py:63: DataConversionWarning: A column-vector y was passed when a 1d array was expected. Please change the shape of y to (n_samples, ), for example using ravel().\n",
      "  return f(*args, **kwargs)\n",
      "/Users/anastasiafedoracenko/opt/anaconda3/lib/python3.9/site-packages/sklearn/utils/validation.py:63: DataConversionWarning: A column-vector y was passed when a 1d array was expected. Please change the shape of y to (n_samples, ), for example using ravel().\n",
      "  return f(*args, **kwargs)\n"
     ]
    },
    {
     "data": {
      "text/plain": [
       "0.9199999999999999"
      ]
     },
     "execution_count": 296,
     "metadata": {},
     "output_type": "execute_result"
    }
   ],
   "source": [
    "c1 = cross_val_score(model, x1, y, scoring = 'accuracy').mean()\n",
    "c1"
   ]
  },
  {
   "cell_type": "code",
   "execution_count": 261,
   "id": "def5425d",
   "metadata": {},
   "outputs": [],
   "source": [
    "x2 = pd.DataFrame(x)\n",
    "y2 = pd.DataFrame(y)"
   ]
  },
  {
   "cell_type": "code",
   "execution_count": 262,
   "id": "2cfb5ca4",
   "metadata": {},
   "outputs": [],
   "source": [
    "selector = VarianceThreshold(threshold = 1.1)\n",
    "s = selector.fit_transform(x2)"
   ]
  },
  {
   "cell_type": "code",
   "execution_count": 263,
   "id": "c3760d8c",
   "metadata": {},
   "outputs": [],
   "source": [
    "ftr = selector.get_support()"
   ]
  },
  {
   "cell_type": "code",
   "execution_count": 299,
   "id": "6829b696",
   "metadata": {},
   "outputs": [
    {
     "name": "stdout",
     "output_type": "stream",
     "text": [
      "Значимые признаки: [2, 4, 5, 7, 8, 14, 19]\n"
     ]
    }
   ],
   "source": [
    "print(f'Значимые признаки: {[i for i, e in enumerate(ftr) if e]}')"
   ]
  },
  {
   "cell_type": "code",
   "execution_count": 265,
   "id": "6e428ac4",
   "metadata": {},
   "outputs": [
    {
     "name": "stdout",
     "output_type": "stream",
     "text": [
      "Незначимые признаки: [0, 1, 3, 6, 9, 10, 11, 12, 13, 15, 16, 17, 18]\n"
     ]
    }
   ],
   "source": [
    "concol = [i for i, e in enumerate(ftr) if not e]\n",
    "print(f'Незначимые признаки: {concol}')"
   ]
  },
  {
   "cell_type": "code",
   "execution_count": 266,
   "id": "55dba05c",
   "metadata": {},
   "outputs": [
    {
     "data": {
      "text/plain": [
       "(100, 7)"
      ]
     },
     "execution_count": 266,
     "metadata": {},
     "output_type": "execute_result"
    }
   ],
   "source": [
    "x2 = x2.drop(concol, axis = 1)\n",
    "x2.shape"
   ]
  },
  {
   "cell_type": "code",
   "execution_count": 267,
   "id": "6d091e00",
   "metadata": {},
   "outputs": [
    {
     "name": "stderr",
     "output_type": "stream",
     "text": [
      "/Users/anastasiafedoracenko/opt/anaconda3/lib/python3.9/site-packages/sklearn/utils/validation.py:63: DataConversionWarning: A column-vector y was passed when a 1d array was expected. Please change the shape of y to (n_samples, ), for example using ravel().\n",
      "  return f(*args, **kwargs)\n",
      "/Users/anastasiafedoracenko/opt/anaconda3/lib/python3.9/site-packages/sklearn/utils/validation.py:63: DataConversionWarning: A column-vector y was passed when a 1d array was expected. Please change the shape of y to (n_samples, ), for example using ravel().\n",
      "  return f(*args, **kwargs)\n",
      "/Users/anastasiafedoracenko/opt/anaconda3/lib/python3.9/site-packages/sklearn/utils/validation.py:63: DataConversionWarning: A column-vector y was passed when a 1d array was expected. Please change the shape of y to (n_samples, ), for example using ravel().\n",
      "  return f(*args, **kwargs)\n",
      "/Users/anastasiafedoracenko/opt/anaconda3/lib/python3.9/site-packages/sklearn/utils/validation.py:63: DataConversionWarning: A column-vector y was passed when a 1d array was expected. Please change the shape of y to (n_samples, ), for example using ravel().\n",
      "  return f(*args, **kwargs)\n",
      "/Users/anastasiafedoracenko/opt/anaconda3/lib/python3.9/site-packages/sklearn/utils/validation.py:63: DataConversionWarning: A column-vector y was passed when a 1d array was expected. Please change the shape of y to (n_samples, ), for example using ravel().\n",
      "  return f(*args, **kwargs)\n"
     ]
    },
    {
     "data": {
      "text/plain": [
       "0.89"
      ]
     },
     "execution_count": 267,
     "metadata": {},
     "output_type": "execute_result"
    }
   ],
   "source": [
    "c2 = cross_val_score(model, x2, y2, scoring = 'accuracy').mean()\n",
    "c2"
   ]
  },
  {
   "cell_type": "code",
   "execution_count": 268,
   "id": "04138957",
   "metadata": {},
   "outputs": [],
   "source": [
    "x3 = pd.DataFrame(x)\n",
    "y3 = pd.DataFrame(y)"
   ]
  },
  {
   "cell_type": "code",
   "execution_count": 269,
   "id": "2899b5c8",
   "metadata": {},
   "outputs": [
    {
     "name": "stderr",
     "output_type": "stream",
     "text": [
      "/Users/anastasiafedoracenko/opt/anaconda3/lib/python3.9/site-packages/sklearn/utils/validation.py:63: DataConversionWarning: A column-vector y was passed when a 1d array was expected. Please change the shape of y to (n_samples, ), for example using ravel().\n",
      "  return f(*args, **kwargs)\n"
     ]
    }
   ],
   "source": [
    "select = SelectKBest(k = 5)\n",
    "z = select.fit_transform(x3, y3)"
   ]
  },
  {
   "cell_type": "code",
   "execution_count": 270,
   "id": "e058e075",
   "metadata": {},
   "outputs": [
    {
     "name": "stdout",
     "output_type": "stream",
     "text": [
      "[False False False  True  True False False  True  True False False False\n",
      " False False False  True False False False False] \n",
      "\n",
      "5 лучших признаков: Int64Index([3, 4, 7, 8, 15], dtype='int64')\n"
     ]
    }
   ],
   "source": [
    "filter_ = select.get_support()\n",
    "features = x3.columns\n",
    "print(filter_, '\\n')\n",
    "print(f\"5 лучших признаков: {features[filter_]}\")"
   ]
  },
  {
   "cell_type": "code",
   "execution_count": 271,
   "id": "839d0a89",
   "metadata": {},
   "outputs": [
    {
     "name": "stdout",
     "output_type": "stream",
     "text": [
      "Незначимые признаки: [0, 1, 2, 5, 6, 9, 10, 11, 12, 13, 14, 16, 17, 18, 19]\n"
     ]
    }
   ],
   "source": [
    "concol2 = [i for i, e in enumerate(filter_) if not e]\n",
    "print(f'Незначимые признаки: {concol2}')"
   ]
  },
  {
   "cell_type": "code",
   "execution_count": 272,
   "id": "56dc5104",
   "metadata": {},
   "outputs": [
    {
     "data": {
      "text/plain": [
       "(100, 5)"
      ]
     },
     "execution_count": 272,
     "metadata": {},
     "output_type": "execute_result"
    }
   ],
   "source": [
    "x3 = x3.drop(concol2, axis = 1)\n",
    "x3.shape"
   ]
  },
  {
   "cell_type": "code",
   "execution_count": 273,
   "id": "928a330a",
   "metadata": {},
   "outputs": [
    {
     "name": "stderr",
     "output_type": "stream",
     "text": [
      "/Users/anastasiafedoracenko/opt/anaconda3/lib/python3.9/site-packages/sklearn/utils/validation.py:63: DataConversionWarning: A column-vector y was passed when a 1d array was expected. Please change the shape of y to (n_samples, ), for example using ravel().\n",
      "  return f(*args, **kwargs)\n",
      "/Users/anastasiafedoracenko/opt/anaconda3/lib/python3.9/site-packages/sklearn/utils/validation.py:63: DataConversionWarning: A column-vector y was passed when a 1d array was expected. Please change the shape of y to (n_samples, ), for example using ravel().\n",
      "  return f(*args, **kwargs)\n",
      "/Users/anastasiafedoracenko/opt/anaconda3/lib/python3.9/site-packages/sklearn/utils/validation.py:63: DataConversionWarning: A column-vector y was passed when a 1d array was expected. Please change the shape of y to (n_samples, ), for example using ravel().\n",
      "  return f(*args, **kwargs)\n",
      "/Users/anastasiafedoracenko/opt/anaconda3/lib/python3.9/site-packages/sklearn/utils/validation.py:63: DataConversionWarning: A column-vector y was passed when a 1d array was expected. Please change the shape of y to (n_samples, ), for example using ravel().\n",
      "  return f(*args, **kwargs)\n",
      "/Users/anastasiafedoracenko/opt/anaconda3/lib/python3.9/site-packages/sklearn/utils/validation.py:63: DataConversionWarning: A column-vector y was passed when a 1d array was expected. Please change the shape of y to (n_samples, ), for example using ravel().\n",
      "  return f(*args, **kwargs)\n"
     ]
    },
    {
     "data": {
      "text/plain": [
       "0.9400000000000001"
      ]
     },
     "execution_count": 273,
     "metadata": {},
     "output_type": "execute_result"
    }
   ],
   "source": [
    "c3 = cross_val_score(model, x3, y3, scoring = 'accuracy').mean()\n",
    "c3"
   ]
  },
  {
   "cell_type": "code",
   "execution_count": 274,
   "id": "241a44a6",
   "metadata": {},
   "outputs": [],
   "source": [
    "x4 = pd.DataFrame(x)\n",
    "y4 = pd.DataFrame(y)"
   ]
  },
  {
   "cell_type": "code",
   "execution_count": 275,
   "id": "d2144448",
   "metadata": {},
   "outputs": [
    {
     "name": "stderr",
     "output_type": "stream",
     "text": [
      "/Users/anastasiafedoracenko/opt/anaconda3/lib/python3.9/site-packages/sklearn/utils/validation.py:63: DataConversionWarning: A column-vector y was passed when a 1d array was expected. Please change the shape of y to (n_samples, ), for example using ravel().\n",
      "  return f(*args, **kwargs)\n"
     ]
    }
   ],
   "source": [
    "sel_ = SelectFromModel(LogisticRegression(C = 1, penalty = 'l1', solver = 'liblinear'))\n",
    "zz = sel_.fit(x4, y4)"
   ]
  },
  {
   "cell_type": "code",
   "execution_count": 276,
   "id": "349e4645",
   "metadata": {},
   "outputs": [
    {
     "name": "stdout",
     "output_type": "stream",
     "text": [
      "Значимые признаки: [1, 4, 5, 6, 8, 10, 12, 14, 15, 16, 19]\n"
     ]
    }
   ],
   "source": [
    "filter1 = sel_.get_support()\n",
    "\n",
    "print(f'Значимые признаки: {[i for i, e in enumerate(filter1) if e]}')"
   ]
  },
  {
   "cell_type": "code",
   "execution_count": 277,
   "id": "af714bf5",
   "metadata": {},
   "outputs": [
    {
     "name": "stdout",
     "output_type": "stream",
     "text": [
      "Hезначимые признаки: [0, 2, 3, 7, 9, 11, 13, 17, 18]\n"
     ]
    }
   ],
   "source": [
    "concol3 = [i for i, e in enumerate(filter1) if not e]\n",
    "print(f'Hезначимые признаки: {concol3}')"
   ]
  },
  {
   "cell_type": "code",
   "execution_count": 278,
   "id": "e3e7f8af",
   "metadata": {},
   "outputs": [
    {
     "data": {
      "text/plain": [
       "(100, 11)"
      ]
     },
     "execution_count": 278,
     "metadata": {},
     "output_type": "execute_result"
    }
   ],
   "source": [
    "x4 = x4.drop(concol3, axis = 1)\n",
    "x4.shape"
   ]
  },
  {
   "cell_type": "code",
   "execution_count": 279,
   "id": "663ab233",
   "metadata": {},
   "outputs": [
    {
     "name": "stderr",
     "output_type": "stream",
     "text": [
      "/Users/anastasiafedoracenko/opt/anaconda3/lib/python3.9/site-packages/sklearn/utils/validation.py:63: DataConversionWarning: A column-vector y was passed when a 1d array was expected. Please change the shape of y to (n_samples, ), for example using ravel().\n",
      "  return f(*args, **kwargs)\n",
      "/Users/anastasiafedoracenko/opt/anaconda3/lib/python3.9/site-packages/sklearn/utils/validation.py:63: DataConversionWarning: A column-vector y was passed when a 1d array was expected. Please change the shape of y to (n_samples, ), for example using ravel().\n",
      "  return f(*args, **kwargs)\n",
      "/Users/anastasiafedoracenko/opt/anaconda3/lib/python3.9/site-packages/sklearn/utils/validation.py:63: DataConversionWarning: A column-vector y was passed when a 1d array was expected. Please change the shape of y to (n_samples, ), for example using ravel().\n",
      "  return f(*args, **kwargs)\n",
      "/Users/anastasiafedoracenko/opt/anaconda3/lib/python3.9/site-packages/sklearn/utils/validation.py:63: DataConversionWarning: A column-vector y was passed when a 1d array was expected. Please change the shape of y to (n_samples, ), for example using ravel().\n",
      "  return f(*args, **kwargs)\n",
      "/Users/anastasiafedoracenko/opt/anaconda3/lib/python3.9/site-packages/sklearn/utils/validation.py:63: DataConversionWarning: A column-vector y was passed when a 1d array was expected. Please change the shape of y to (n_samples, ), for example using ravel().\n",
      "  return f(*args, **kwargs)\n"
     ]
    },
    {
     "data": {
      "text/plain": [
       "0.9"
      ]
     },
     "execution_count": 279,
     "metadata": {},
     "output_type": "execute_result"
    }
   ],
   "source": [
    "c4 = cross_val_score(model, x4, y4, scoring = 'accuracy').mean()\n",
    "c4"
   ]
  },
  {
   "cell_type": "code",
   "execution_count": 280,
   "id": "d0f79549",
   "metadata": {},
   "outputs": [],
   "source": [
    "x5 = pd.DataFrame(x)\n",
    "y5 = pd.DataFrame(y)"
   ]
  },
  {
   "cell_type": "code",
   "execution_count": 281,
   "id": "c5c1c8d9",
   "metadata": {},
   "outputs": [
    {
     "name": "stderr",
     "output_type": "stream",
     "text": [
      "/var/folders/0l/5d6rpb6j07zbqghq7qmrdvgw0000gn/T/ipykernel_22595/615470956.py:2: DataConversionWarning: A column-vector y was passed when a 1d array was expected. Please change the shape of y to (n_samples,), for example using ravel().\n",
      "  forest.fit(x5, y5)\n"
     ]
    },
    {
     "data": {
      "text/plain": [
       "RandomForestClassifier()"
      ]
     },
     "execution_count": 281,
     "metadata": {},
     "output_type": "execute_result"
    }
   ],
   "source": [
    "forest = RandomForestClassifier()\n",
    "forest.fit(x5, y5)"
   ]
  },
  {
   "cell_type": "code",
   "execution_count": 282,
   "id": "45d0f7e1",
   "metadata": {},
   "outputs": [
    {
     "data": {
      "image/png": "[encoded data removed]",
      "text/plain": [
       "<Figure size 432x288 with 1 Axes>"
      ]
     },
     "metadata": {
      "needs_background": "light"
     },
     "output_type": "display_data"
    }
   ],
   "source": [
    "importance = forest.feature_importances_\n",
    "\n",
    "plt.bar([x for x in range(len(importance))], importance)\n",
    "plt.show()"
   ]
  },
  {
   "cell_type": "code",
   "execution_count": 283,
   "id": "ee430ce7",
   "metadata": {},
   "outputs": [
    {
     "name": "stdout",
     "output_type": "stream",
     "text": [
      "Hезначимые признаки: [0, 1, 2, 3, 5, 6, 9, 10, 11, 12, 13, 14, 15, 16, 17, 18, 19]\n"
     ]
    }
   ],
   "source": [
    "concol4 = [i for i, e in enumerate(importance) if e < 0.1]\n",
    "print(f'Hезначимые признаки: {concol4}')"
   ]
  },
  {
   "cell_type": "code",
   "execution_count": 284,
   "id": "c6b522af",
   "metadata": {},
   "outputs": [
    {
     "data": {
      "text/plain": [
       "(100, 3)"
      ]
     },
     "execution_count": 284,
     "metadata": {},
     "output_type": "execute_result"
    }
   ],
   "source": [
    "x5 = x5.drop(concol4, axis = 1)\n",
    "x5.shape"
   ]
  },
  {
   "cell_type": "code",
   "execution_count": 285,
   "id": "1fd44aa2",
   "metadata": {},
   "outputs": [
    {
     "name": "stderr",
     "output_type": "stream",
     "text": [
      "/Users/anastasiafedoracenko/opt/anaconda3/lib/python3.9/site-packages/sklearn/utils/validation.py:63: DataConversionWarning: A column-vector y was passed when a 1d array was expected. Please change the shape of y to (n_samples, ), for example using ravel().\n",
      "  return f(*args, **kwargs)\n",
      "/Users/anastasiafedoracenko/opt/anaconda3/lib/python3.9/site-packages/sklearn/utils/validation.py:63: DataConversionWarning: A column-vector y was passed when a 1d array was expected. Please change the shape of y to (n_samples, ), for example using ravel().\n",
      "  return f(*args, **kwargs)\n",
      "/Users/anastasiafedoracenko/opt/anaconda3/lib/python3.9/site-packages/sklearn/utils/validation.py:63: DataConversionWarning: A column-vector y was passed when a 1d array was expected. Please change the shape of y to (n_samples, ), for example using ravel().\n",
      "  return f(*args, **kwargs)\n",
      "/Users/anastasiafedoracenko/opt/anaconda3/lib/python3.9/site-packages/sklearn/utils/validation.py:63: DataConversionWarning: A column-vector y was passed when a 1d array was expected. Please change the shape of y to (n_samples, ), for example using ravel().\n",
      "  return f(*args, **kwargs)\n",
      "/Users/anastasiafedoracenko/opt/anaconda3/lib/python3.9/site-packages/sklearn/utils/validation.py:63: DataConversionWarning: A column-vector y was passed when a 1d array was expected. Please change the shape of y to (n_samples, ), for example using ravel().\n",
      "  return f(*args, **kwargs)\n"
     ]
    },
    {
     "data": {
      "text/plain": [
       "0.9199999999999999"
      ]
     },
     "execution_count": 285,
     "metadata": {},
     "output_type": "execute_result"
    }
   ],
   "source": [
    "c5 = cross_val_score(model, x5, y5, scoring = 'accuracy').mean()\n",
    "c5"
   ]
  },
  {
   "cell_type": "code",
   "execution_count": 286,
   "id": "a6e34383",
   "metadata": {},
   "outputs": [],
   "source": [
    "x6 = pd.DataFrame(x)\n",
    "y6 = pd.DataFrame(y)"
   ]
  },
  {
   "cell_type": "code",
   "execution_count": 287,
   "id": "28d2753f",
   "metadata": {},
   "outputs": [],
   "source": [
    "feature_select = SequentialFeatureSelector(LogisticRegression())\n",
    "feature_select.fit(x_data_generated, y_data_generated)\n",
    "fiter_features = feature_select.support_"
   ]
  },
  {
   "cell_type": "code",
   "execution_count": 288,
   "id": "59de1970",
   "metadata": {},
   "outputs": [
    {
     "name": "stdout",
     "output_type": "stream",
     "text": [
      "Значимые признаки: [0, 1, 2, 3, 4, 5, 6, 7, 9, 10]\n"
     ]
    }
   ],
   "source": [
    "features_true = [i for i, e in enumerate(fiter_features) if e]\n",
    "print(f'Значимые признаки: {features_true}')"
   ]
  },
  {
   "cell_type": "code",
   "execution_count": 289,
   "id": "1a87a8a4",
   "metadata": {},
   "outputs": [
    {
     "name": "stdout",
     "output_type": "stream",
     "text": [
      "Hезначимые признаки: [8, 11, 12, 13, 14, 15, 16, 17, 18, 19]\n"
     ]
    }
   ],
   "source": [
    "concol5 = [i for i, e in enumerate(fiter_features) if not e]\n",
    "print(f'Hезначимые признаки: {concol5}')"
   ]
  },
  {
   "cell_type": "code",
   "execution_count": 290,
   "id": "7c55baba",
   "metadata": {},
   "outputs": [
    {
     "data": {
      "text/plain": [
       "(100, 10)"
      ]
     },
     "execution_count": 290,
     "metadata": {},
     "output_type": "execute_result"
    }
   ],
   "source": [
    "x6 = x6.drop(concol5, axis = 1)\n",
    "x6.shape"
   ]
  },
  {
   "cell_type": "code",
   "execution_count": 291,
   "id": "2c32ac66",
   "metadata": {},
   "outputs": [
    {
     "name": "stderr",
     "output_type": "stream",
     "text": [
      "/Users/anastasiafedoracenko/opt/anaconda3/lib/python3.9/site-packages/sklearn/utils/validation.py:63: DataConversionWarning: A column-vector y was passed when a 1d array was expected. Please change the shape of y to (n_samples, ), for example using ravel().\n",
      "  return f(*args, **kwargs)\n",
      "/Users/anastasiafedoracenko/opt/anaconda3/lib/python3.9/site-packages/sklearn/utils/validation.py:63: DataConversionWarning: A column-vector y was passed when a 1d array was expected. Please change the shape of y to (n_samples, ), for example using ravel().\n",
      "  return f(*args, **kwargs)\n",
      "/Users/anastasiafedoracenko/opt/anaconda3/lib/python3.9/site-packages/sklearn/utils/validation.py:63: DataConversionWarning: A column-vector y was passed when a 1d array was expected. Please change the shape of y to (n_samples, ), for example using ravel().\n",
      "  return f(*args, **kwargs)\n",
      "/Users/anastasiafedoracenko/opt/anaconda3/lib/python3.9/site-packages/sklearn/utils/validation.py:63: DataConversionWarning: A column-vector y was passed when a 1d array was expected. Please change the shape of y to (n_samples, ), for example using ravel().\n",
      "  return f(*args, **kwargs)\n",
      "/Users/anastasiafedoracenko/opt/anaconda3/lib/python3.9/site-packages/sklearn/utils/validation.py:63: DataConversionWarning: A column-vector y was passed when a 1d array was expected. Please change the shape of y to (n_samples, ), for example using ravel().\n",
      "  return f(*args, **kwargs)\n"
     ]
    },
    {
     "data": {
      "text/plain": [
       "0.85"
      ]
     },
     "execution_count": 291,
     "metadata": {},
     "output_type": "execute_result"
    }
   ],
   "source": [
    "c6 = cross_val_score(model, x6, y6, scoring = 'accuracy').mean()\n",
    "c6"
   ]
  },
  {
   "cell_type": "code",
   "execution_count": 300,
   "id": "ad429103",
   "metadata": {},
   "outputs": [
    {
     "data": {
      "text/html": [
       "<div>\n",
       "<style scoped>\n",
       "    .dataframe tbody tr th:only-of-type {\n",
       "        vertical-align: middle;\n",
       "    }\n",
       "\n",
       "    .dataframe tbody tr th {\n",
       "        vertical-align: top;\n",
       "    }\n",
       "\n",
       "    .dataframe thead th {\n",
       "        text-align: right;\n",
       "    }\n",
       "</style>\n",
       "<table border=\"1\" class=\"dataframe\">\n",
       "  <thead>\n",
       "    <tr style=\"text-align: right;\">\n",
       "      <th></th>\n",
       "      <th>way</th>\n",
       "      <th>number of signs</th>\n",
       "      <th>average accuracy</th>\n",
       "    </tr>\n",
       "  </thead>\n",
       "  <tbody>\n",
       "    <tr>\n",
       "      <th>0</th>\n",
       "      <td>Initial data</td>\n",
       "      <td>100</td>\n",
       "      <td>0.89</td>\n",
       "    </tr>\n",
       "    <tr>\n",
       "      <th>1</th>\n",
       "      <td>corr matrix</td>\n",
       "      <td>2</td>\n",
       "      <td>0.92</td>\n",
       "    </tr>\n",
       "    <tr>\n",
       "      <th>2</th>\n",
       "      <td>variance threshold</td>\n",
       "      <td>13</td>\n",
       "      <td>0.89</td>\n",
       "    </tr>\n",
       "    <tr>\n",
       "      <th>3</th>\n",
       "      <td>SelectKBest</td>\n",
       "      <td>15</td>\n",
       "      <td>0.94</td>\n",
       "    </tr>\n",
       "    <tr>\n",
       "      <th>4</th>\n",
       "      <td>L1 регуляризация</td>\n",
       "      <td>9</td>\n",
       "      <td>0.90</td>\n",
       "    </tr>\n",
       "    <tr>\n",
       "      <th>5</th>\n",
       "      <td>random forest classifier</td>\n",
       "      <td>17</td>\n",
       "      <td>0.92</td>\n",
       "    </tr>\n",
       "    <tr>\n",
       "      <th>6</th>\n",
       "      <td>sequential feature selector</td>\n",
       "      <td>10</td>\n",
       "      <td>0.85</td>\n",
       "    </tr>\n",
       "  </tbody>\n",
       "</table>\n",
       "</div>"
      ],
      "text/plain": [
       "                           way  number of signs   average accuracy\n",
       "0                 Initial data               100              0.89\n",
       "1                  corr matrix                 2              0.92\n",
       "2           variance threshold                13              0.89\n",
       "3                  SelectKBest                15              0.94\n",
       "4             L1 регуляризация                 9              0.90\n",
       "5     random forest classifier                17              0.92\n",
       "6  sequential feature selector                10              0.85"
      ]
     },
     "execution_count": 300,
     "metadata": {},
     "output_type": "execute_result"
    }
   ],
   "source": [
    "my_df = pd.DataFrame({'way': ['Initial data', 'corr matrix', 'variance threshold',\n",
    "                                'SelectKBest', 'L1 регуляризация', 'random forest classifier',\n",
    "                             'sequential feature selector'], \n",
    "                      'number of signs ': [len(x), len(a), len(concol), len(concol2), len(concol3), \n",
    "                                           len(concol4), len(concol5)],\n",
    "                      'average accuracy': [c, c1, c2, c3, c4, c5, c6]})\n",
    "my_df"
   ]
  },
  {
   "cell_type": "markdown",
   "id": "f44c818c",
   "metadata": {},
   "source": [
    "### Вывод \n",
    "\n",
    "Отбрасывая незначительные признаки можно улучшить качество модели. Визуальный медот на основе матирицы коррелляции уже дает видимый эффект. Лучший результат показал метод выбора 5 лучших признаков с помощью скоринговой функции, то есть SelectKBest. "
   ]
  }
 ],
 "metadata": {
  "kernelspec": {
   "display_name": "Python 3 (ipykernel)",
   "language": "python",
   "name": "python3"
  },
  "language_info": {
   "codemirror_mode": {
    "name": "ipython",
    "version": 3
   },
   "file_extension": ".py",
   "mimetype": "text/x-python",
   "name": "python",
   "nbconvert_exporter": "python",
   "pygments_lexer": "ipython3",
   "version": "3.9.7"
  }
 },
 "nbformat": 4,
 "nbformat_minor": 5
}
