{
 "cells": [
  {
   "cell_type": "code",
   "execution_count": 238,
   "id": "cacf5934",
   "metadata": {},
   "outputs": [],
   "source": [
    "import pandas as pd \n",
    "import numpy as np\n",
    "import matplotlib.pyplot as plt\n",
    "from sklearn.model_selection import train_test_split \n",
    "from sklearn.linear_model import LogisticRegression\n",
    "from sklearn.metrics import roc_curve\n",
    "from sklearn.metrics import roc_auc_score\n",
    "from sklearn.metrics import precision_recall_curve\n",
    "from sklearn.metrics import recall_score, precision_score"
   ]
  },
  {
   "cell_type": "code",
   "execution_count": 239,
   "id": "f4295385",
   "metadata": {},
   "outputs": [
    {
     "data": {
      "text/html": [
       "<div>\n",
       "<style scoped>\n",
       "    .dataframe tbody tr th:only-of-type {\n",
       "        vertical-align: middle;\n",
       "    }\n",
       "\n",
       "    .dataframe tbody tr th {\n",
       "        vertical-align: top;\n",
       "    }\n",
       "\n",
       "    .dataframe thead th {\n",
       "        text-align: right;\n",
       "    }\n",
       "</style>\n",
       "<table border=\"1\" class=\"dataframe\">\n",
       "  <thead>\n",
       "    <tr style=\"text-align: right;\">\n",
       "      <th></th>\n",
       "      <th>id</th>\n",
       "      <th>name</th>\n",
       "      <th>nationality</th>\n",
       "      <th>sex</th>\n",
       "      <th>dob</th>\n",
       "      <th>height</th>\n",
       "      <th>weight</th>\n",
       "      <th>sport</th>\n",
       "      <th>gold</th>\n",
       "      <th>silver</th>\n",
       "      <th>bronze</th>\n",
       "    </tr>\n",
       "  </thead>\n",
       "  <tbody>\n",
       "    <tr>\n",
       "      <th>0</th>\n",
       "      <td>736041664</td>\n",
       "      <td>A Jesus Garcia</td>\n",
       "      <td>ESP</td>\n",
       "      <td>male</td>\n",
       "      <td>10/17/69</td>\n",
       "      <td>1.72</td>\n",
       "      <td>64.0</td>\n",
       "      <td>athletics</td>\n",
       "      <td>0</td>\n",
       "      <td>0</td>\n",
       "      <td>0</td>\n",
       "    </tr>\n",
       "    <tr>\n",
       "      <th>1</th>\n",
       "      <td>532037425</td>\n",
       "      <td>A Lam Shin</td>\n",
       "      <td>KOR</td>\n",
       "      <td>female</td>\n",
       "      <td>9/23/86</td>\n",
       "      <td>1.68</td>\n",
       "      <td>56.0</td>\n",
       "      <td>fencing</td>\n",
       "      <td>0</td>\n",
       "      <td>0</td>\n",
       "      <td>0</td>\n",
       "    </tr>\n",
       "    <tr>\n",
       "      <th>2</th>\n",
       "      <td>435962603</td>\n",
       "      <td>Aaron Brown</td>\n",
       "      <td>CAN</td>\n",
       "      <td>male</td>\n",
       "      <td>5/27/92</td>\n",
       "      <td>1.98</td>\n",
       "      <td>79.0</td>\n",
       "      <td>athletics</td>\n",
       "      <td>0</td>\n",
       "      <td>0</td>\n",
       "      <td>1</td>\n",
       "    </tr>\n",
       "    <tr>\n",
       "      <th>3</th>\n",
       "      <td>521041435</td>\n",
       "      <td>Aaron Cook</td>\n",
       "      <td>MDA</td>\n",
       "      <td>male</td>\n",
       "      <td>1/2/91</td>\n",
       "      <td>1.83</td>\n",
       "      <td>80.0</td>\n",
       "      <td>taekwondo</td>\n",
       "      <td>0</td>\n",
       "      <td>0</td>\n",
       "      <td>0</td>\n",
       "    </tr>\n",
       "    <tr>\n",
       "      <th>4</th>\n",
       "      <td>33922579</td>\n",
       "      <td>Aaron Gate</td>\n",
       "      <td>NZL</td>\n",
       "      <td>male</td>\n",
       "      <td>11/26/90</td>\n",
       "      <td>1.81</td>\n",
       "      <td>71.0</td>\n",
       "      <td>cycling</td>\n",
       "      <td>0</td>\n",
       "      <td>0</td>\n",
       "      <td>0</td>\n",
       "    </tr>\n",
       "    <tr>\n",
       "      <th>5</th>\n",
       "      <td>173071782</td>\n",
       "      <td>Aaron Royle</td>\n",
       "      <td>AUS</td>\n",
       "      <td>male</td>\n",
       "      <td>1/26/90</td>\n",
       "      <td>1.80</td>\n",
       "      <td>67.0</td>\n",
       "      <td>triathlon</td>\n",
       "      <td>0</td>\n",
       "      <td>0</td>\n",
       "      <td>0</td>\n",
       "    </tr>\n",
       "    <tr>\n",
       "      <th>6</th>\n",
       "      <td>266237702</td>\n",
       "      <td>Aaron Russell</td>\n",
       "      <td>USA</td>\n",
       "      <td>male</td>\n",
       "      <td>6/4/93</td>\n",
       "      <td>2.05</td>\n",
       "      <td>98.0</td>\n",
       "      <td>volleyball</td>\n",
       "      <td>0</td>\n",
       "      <td>0</td>\n",
       "      <td>1</td>\n",
       "    </tr>\n",
       "    <tr>\n",
       "      <th>7</th>\n",
       "      <td>382571888</td>\n",
       "      <td>Aaron Younger</td>\n",
       "      <td>AUS</td>\n",
       "      <td>male</td>\n",
       "      <td>9/25/91</td>\n",
       "      <td>1.93</td>\n",
       "      <td>100.0</td>\n",
       "      <td>aquatics</td>\n",
       "      <td>0</td>\n",
       "      <td>0</td>\n",
       "      <td>0</td>\n",
       "    </tr>\n",
       "    <tr>\n",
       "      <th>8</th>\n",
       "      <td>87689776</td>\n",
       "      <td>Aauri Lorena Bokesa</td>\n",
       "      <td>ESP</td>\n",
       "      <td>female</td>\n",
       "      <td>12/14/88</td>\n",
       "      <td>1.80</td>\n",
       "      <td>62.0</td>\n",
       "      <td>athletics</td>\n",
       "      <td>0</td>\n",
       "      <td>0</td>\n",
       "      <td>0</td>\n",
       "    </tr>\n",
       "    <tr>\n",
       "      <th>9</th>\n",
       "      <td>997877719</td>\n",
       "      <td>Ababel Yeshaneh</td>\n",
       "      <td>ETH</td>\n",
       "      <td>female</td>\n",
       "      <td>7/22/91</td>\n",
       "      <td>1.65</td>\n",
       "      <td>54.0</td>\n",
       "      <td>athletics</td>\n",
       "      <td>0</td>\n",
       "      <td>0</td>\n",
       "      <td>0</td>\n",
       "    </tr>\n",
       "  </tbody>\n",
       "</table>\n",
       "</div>"
      ],
      "text/plain": [
       "          id                 name nationality     sex       dob  height  \\\n",
       "0  736041664       A Jesus Garcia         ESP    male  10/17/69    1.72   \n",
       "1  532037425           A Lam Shin         KOR  female   9/23/86    1.68   \n",
       "2  435962603          Aaron Brown         CAN    male   5/27/92    1.98   \n",
       "3  521041435           Aaron Cook         MDA    male    1/2/91    1.83   \n",
       "4   33922579           Aaron Gate         NZL    male  11/26/90    1.81   \n",
       "5  173071782          Aaron Royle         AUS    male   1/26/90    1.80   \n",
       "6  266237702        Aaron Russell         USA    male    6/4/93    2.05   \n",
       "7  382571888        Aaron Younger         AUS    male   9/25/91    1.93   \n",
       "8   87689776  Aauri Lorena Bokesa         ESP  female  12/14/88    1.80   \n",
       "9  997877719      Ababel Yeshaneh         ETH  female   7/22/91    1.65   \n",
       "\n",
       "   weight       sport  gold  silver  bronze  \n",
       "0    64.0   athletics     0       0       0  \n",
       "1    56.0     fencing     0       0       0  \n",
       "2    79.0   athletics     0       0       1  \n",
       "3    80.0   taekwondo     0       0       0  \n",
       "4    71.0     cycling     0       0       0  \n",
       "5    67.0   triathlon     0       0       0  \n",
       "6    98.0  volleyball     0       0       1  \n",
       "7   100.0    aquatics     0       0       0  \n",
       "8    62.0   athletics     0       0       0  \n",
       "9    54.0   athletics     0       0       0  "
      ]
     },
     "execution_count": 239,
     "metadata": {},
     "output_type": "execute_result"
    }
   ],
   "source": [
    "df = pd.read_csv('/Users/anastasiafedoracenko/Desktop/athletes.csv')\n",
    "df.head(10)"
   ]
  },
  {
   "cell_type": "code",
   "execution_count": 240,
   "id": "b2389ba8",
   "metadata": {},
   "outputs": [
    {
     "name": "stdout",
     "output_type": "stream",
     "text": [
      "<class 'pandas.core.frame.DataFrame'>\n",
      "RangeIndex: 11538 entries, 0 to 11537\n",
      "Data columns (total 11 columns):\n",
      " #   Column       Non-Null Count  Dtype  \n",
      "---  ------       --------------  -----  \n",
      " 0   id           11538 non-null  int64  \n",
      " 1   name         11538 non-null  object \n",
      " 2   nationality  11538 non-null  object \n",
      " 3   sex          11538 non-null  object \n",
      " 4   dob          11537 non-null  object \n",
      " 5   height       11208 non-null  float64\n",
      " 6   weight       10879 non-null  float64\n",
      " 7   sport        11538 non-null  object \n",
      " 8   gold         11538 non-null  int64  \n",
      " 9   silver       11538 non-null  int64  \n",
      " 10  bronze       11538 non-null  int64  \n",
      "dtypes: float64(2), int64(4), object(5)\n",
      "memory usage: 991.7+ KB\n"
     ]
    }
   ],
   "source": [
    "df.info()"
   ]
  },
  {
   "cell_type": "code",
   "execution_count": 241,
   "id": "8e5bd230",
   "metadata": {},
   "outputs": [
    {
     "data": {
      "text/plain": [
       "id               0\n",
       "name             0\n",
       "nationality      0\n",
       "sex              0\n",
       "dob              1\n",
       "height         330\n",
       "weight         659\n",
       "sport            0\n",
       "gold             0\n",
       "silver           0\n",
       "bronze           0\n",
       "dtype: int64"
      ]
     },
     "execution_count": 241,
     "metadata": {},
     "output_type": "execute_result"
    }
   ],
   "source": [
    "df.isna().sum()"
   ]
  },
  {
   "cell_type": "markdown",
   "id": "fe1730a8",
   "metadata": {},
   "source": [
    "Учитывая то, что дату рождения мы не сможем подставить, потому, что это не зависящий фактор, то этот пропуск проще удалить. \n",
    "На счет веса и роста: учитыая то, что в зависимости от гендера, вида спорта и известного роста/веса можно вычлинить рседнее и подставить ее, скорее всего, так и сделаю, но в случаях, если в одной строчке отсутствуют сразу оба значения, то вернее будет удалить эти значения, что б не косить данные. "
   ]
  },
  {
   "cell_type": "code",
   "execution_count": 242,
   "id": "0e64140b",
   "metadata": {},
   "outputs": [],
   "source": [
    "df = df[~(df['dob'].isna())]"
   ]
  },
  {
   "cell_type": "code",
   "execution_count": 243,
   "id": "795744b0",
   "metadata": {
    "scrolled": true
   },
   "outputs": [
    {
     "name": "stdout",
     "output_type": "stream",
     "text": [
      "athletics            2363\n",
      "aquatics             1445\n",
      "football              611\n",
      "rowing                547\n",
      "cycling               525\n",
      "hockey                432\n",
      "judo                  392\n",
      "shooting              390\n",
      "volleyball            384\n",
      "sailing               379\n",
      "handball              363\n",
      "wrestling             353\n",
      "canoe                 331\n",
      "gymnastics            324\n",
      "rugby sevens          300\n",
      "basketball            288\n",
      "boxing                286\n",
      "weightlifting         258\n",
      "fencing               246\n",
      "equestrian            222\n",
      "tennis                196\n",
      "badminton             172\n",
      "table tennis          172\n",
      "archery               128\n",
      "taekwondo             128\n",
      "golf                  120\n",
      "triathlon             110\n",
      "modern pentathlon      72\n",
      "Name: sport, dtype: int64\n",
      "athletics\n"
     ]
    }
   ],
   "source": [
    "print(df['sport'].value_counts())\n",
    "print(df['sport'].mode()[0])"
   ]
  },
  {
   "cell_type": "code",
   "execution_count": 244,
   "id": "efea425b",
   "metadata": {},
   "outputs": [
    {
     "name": "stdout",
     "output_type": "stream",
     "text": [
      "1.80    580\n",
      "1.70    579\n",
      "1.75    484\n",
      "1.78    453\n",
      "1.73    424\n",
      "       ... \n",
      "1.34      1\n",
      "2.17      1\n",
      "1.42      1\n",
      "1.40      1\n",
      "2.14      1\n",
      "Name: height, Length: 82, dtype: int64\n",
      "1.8\n"
     ]
    }
   ],
   "source": [
    "print(df['height'].value_counts())\n",
    "print(df['height'].mode()[0])"
   ]
  },
  {
   "cell_type": "code",
   "execution_count": 245,
   "id": "2f68c375",
   "metadata": {},
   "outputs": [
    {
     "name": "stdout",
     "output_type": "stream",
     "text": [
      "70.0     482\n",
      "60.0     387\n",
      "65.0     382\n",
      "75.0     342\n",
      "58.0     336\n",
      "        ... \n",
      "36.0       1\n",
      "165.0      1\n",
      "31.0       1\n",
      "163.0      1\n",
      "33.0       1\n",
      "Name: weight, Length: 123, dtype: int64\n",
      "70.0\n"
     ]
    }
   ],
   "source": [
    "print(df['weight'].value_counts())\n",
    "print(df['weight'].mode()[0])"
   ]
  },
  {
   "cell_type": "markdown",
   "id": "3bbc18cc",
   "metadata": {},
   "source": [
    "По выше указанным характеристикам можно увидеть, какие виды спорта встречаются чаще всего (athletics,  aquatics), по поводу роста все не однозначно, отрыв очень не велик у первых двух наиболее часто встречающихся замеров( разница в замерах 10см), в среднем, как и ситуация с весом. \n",
    "\n",
    "Думаю будет логично перевести гендер в бинарный вид, разделить данные по мужчинам и женщинам, вычленить оттуда вес  и рост в зависимости от вида спорта и гендера и тогда на пустые значения вставить моду или рандом от двух наиболее часто встречающихся показателей. НО только в случае, если отсутствует только один показатель(кстати говоря, строчки данных с отсутствием и веса, и роста можно сразу отсеить) "
   ]
  },
  {
   "cell_type": "code",
   "execution_count": 246,
   "id": "8e023c74",
   "metadata": {},
   "outputs": [],
   "source": [
    "df = df.drop(np.where(df['weight'] is None and df['height'] is None)[0])"
   ]
  },
  {
   "cell_type": "code",
   "execution_count": 247,
   "id": "b2732772",
   "metadata": {},
   "outputs": [
    {
     "data": {
      "text/html": [
       "<div>\n",
       "<style scoped>\n",
       "    .dataframe tbody tr th:only-of-type {\n",
       "        vertical-align: middle;\n",
       "    }\n",
       "\n",
       "    .dataframe tbody tr th {\n",
       "        vertical-align: top;\n",
       "    }\n",
       "\n",
       "    .dataframe thead th {\n",
       "        text-align: right;\n",
       "    }\n",
       "</style>\n",
       "<table border=\"1\" class=\"dataframe\">\n",
       "  <thead>\n",
       "    <tr style=\"text-align: right;\">\n",
       "      <th></th>\n",
       "      <th>id</th>\n",
       "      <th>name</th>\n",
       "      <th>nationality</th>\n",
       "      <th>sex</th>\n",
       "      <th>dob</th>\n",
       "      <th>height</th>\n",
       "      <th>weight</th>\n",
       "      <th>sport</th>\n",
       "      <th>gold</th>\n",
       "      <th>silver</th>\n",
       "      <th>bronze</th>\n",
       "      <th>gender</th>\n",
       "    </tr>\n",
       "  </thead>\n",
       "  <tbody>\n",
       "    <tr>\n",
       "      <th>0</th>\n",
       "      <td>736041664</td>\n",
       "      <td>A Jesus Garcia</td>\n",
       "      <td>ESP</td>\n",
       "      <td>male</td>\n",
       "      <td>10/17/69</td>\n",
       "      <td>1.72</td>\n",
       "      <td>64.0</td>\n",
       "      <td>athletics</td>\n",
       "      <td>0</td>\n",
       "      <td>0</td>\n",
       "      <td>0</td>\n",
       "      <td>1</td>\n",
       "    </tr>\n",
       "    <tr>\n",
       "      <th>1</th>\n",
       "      <td>532037425</td>\n",
       "      <td>A Lam Shin</td>\n",
       "      <td>KOR</td>\n",
       "      <td>female</td>\n",
       "      <td>9/23/86</td>\n",
       "      <td>1.68</td>\n",
       "      <td>56.0</td>\n",
       "      <td>fencing</td>\n",
       "      <td>0</td>\n",
       "      <td>0</td>\n",
       "      <td>0</td>\n",
       "      <td>0</td>\n",
       "    </tr>\n",
       "    <tr>\n",
       "      <th>2</th>\n",
       "      <td>435962603</td>\n",
       "      <td>Aaron Brown</td>\n",
       "      <td>CAN</td>\n",
       "      <td>male</td>\n",
       "      <td>5/27/92</td>\n",
       "      <td>1.98</td>\n",
       "      <td>79.0</td>\n",
       "      <td>athletics</td>\n",
       "      <td>0</td>\n",
       "      <td>0</td>\n",
       "      <td>1</td>\n",
       "      <td>1</td>\n",
       "    </tr>\n",
       "    <tr>\n",
       "      <th>3</th>\n",
       "      <td>521041435</td>\n",
       "      <td>Aaron Cook</td>\n",
       "      <td>MDA</td>\n",
       "      <td>male</td>\n",
       "      <td>1/2/91</td>\n",
       "      <td>1.83</td>\n",
       "      <td>80.0</td>\n",
       "      <td>taekwondo</td>\n",
       "      <td>0</td>\n",
       "      <td>0</td>\n",
       "      <td>0</td>\n",
       "      <td>1</td>\n",
       "    </tr>\n",
       "    <tr>\n",
       "      <th>4</th>\n",
       "      <td>33922579</td>\n",
       "      <td>Aaron Gate</td>\n",
       "      <td>NZL</td>\n",
       "      <td>male</td>\n",
       "      <td>11/26/90</td>\n",
       "      <td>1.81</td>\n",
       "      <td>71.0</td>\n",
       "      <td>cycling</td>\n",
       "      <td>0</td>\n",
       "      <td>0</td>\n",
       "      <td>0</td>\n",
       "      <td>1</td>\n",
       "    </tr>\n",
       "  </tbody>\n",
       "</table>\n",
       "</div>"
      ],
      "text/plain": [
       "          id            name nationality     sex       dob  height  weight  \\\n",
       "0  736041664  A Jesus Garcia         ESP    male  10/17/69    1.72    64.0   \n",
       "1  532037425      A Lam Shin         KOR  female   9/23/86    1.68    56.0   \n",
       "2  435962603     Aaron Brown         CAN    male   5/27/92    1.98    79.0   \n",
       "3  521041435      Aaron Cook         MDA    male    1/2/91    1.83    80.0   \n",
       "4   33922579      Aaron Gate         NZL    male  11/26/90    1.81    71.0   \n",
       "\n",
       "       sport  gold  silver  bronze  gender  \n",
       "0  athletics     0       0       0       1  \n",
       "1    fencing     0       0       0       0  \n",
       "2  athletics     0       0       1       1  \n",
       "3  taekwondo     0       0       0       1  \n",
       "4    cycling     0       0       0       1  "
      ]
     },
     "execution_count": 247,
     "metadata": {},
     "output_type": "execute_result"
    }
   ],
   "source": [
    "df['sex'] = df['sex'].astype('category')\n",
    "df['gender'] = df['sex'].cat.codes\n",
    "df.head()\n",
    "\n",
    "#перевели пол в бинарный вид"
   ]
  },
  {
   "cell_type": "code",
   "execution_count": 248,
   "id": "fc11aa50",
   "metadata": {},
   "outputs": [],
   "source": [
    "d1 = df[df['gender'] == 1]\n",
    "d0 = df[df['gender'] == 0]"
   ]
  },
  {
   "cell_type": "markdown",
   "id": "1228ec8c",
   "metadata": {},
   "source": [
    "Хочу вывести топ 2 по видам спорта (athletics, aquatics ) и смотреть по ним значения и зависимости, потому что с остальными будет сложнее из-за маленькой разницы в количестве спортсменов. "
   ]
  },
  {
   "cell_type": "code",
   "execution_count": 249,
   "id": "c63964f7",
   "metadata": {},
   "outputs": [
    {
     "name": "stdout",
     "output_type": "stream",
     "text": [
      "athletics            1226\n",
      "aquatics              729\n",
      "football              347\n",
      "rowing                331\n",
      "cycling               325\n",
      "boxing                250\n",
      "wrestling             239\n",
      "shooting              239\n",
      "judo                  239\n",
      "canoe                 220\n",
      "hockey                216\n",
      "sailing               216\n",
      "volleyball            192\n",
      "handball              183\n",
      "weightlifting         154\n",
      "rugby sevens          152\n",
      "basketball            144\n",
      "equestrian            137\n",
      "fencing               122\n",
      "gymnastics            114\n",
      "tennis                105\n",
      "badminton              86\n",
      "table tennis           86\n",
      "taekwondo              64\n",
      "archery                64\n",
      "golf                   61\n",
      "triathlon              55\n",
      "modern pentathlon      36\n",
      "Name: sport, dtype: int64\n",
      "athletics\n"
     ]
    }
   ],
   "source": [
    "print(d1['sport'].value_counts())\n",
    "print(d1['sport'].mode()[0])\n",
    "\n",
    "#проверила, что в топе спорта до сих пор остаются те же два вида"
   ]
  },
  {
   "cell_type": "code",
   "execution_count": 250,
   "id": "153ece58",
   "metadata": {},
   "outputs": [
    {
     "data": {
      "text/html": [
       "<div>\n",
       "<style scoped>\n",
       "    .dataframe tbody tr th:only-of-type {\n",
       "        vertical-align: middle;\n",
       "    }\n",
       "\n",
       "    .dataframe tbody tr th {\n",
       "        vertical-align: top;\n",
       "    }\n",
       "\n",
       "    .dataframe thead th {\n",
       "        text-align: right;\n",
       "    }\n",
       "</style>\n",
       "<table border=\"1\" class=\"dataframe\">\n",
       "  <thead>\n",
       "    <tr style=\"text-align: right;\">\n",
       "      <th></th>\n",
       "      <th>id</th>\n",
       "      <th>name</th>\n",
       "      <th>nationality</th>\n",
       "      <th>sex</th>\n",
       "      <th>dob</th>\n",
       "      <th>height</th>\n",
       "      <th>weight</th>\n",
       "      <th>sport</th>\n",
       "      <th>gold</th>\n",
       "      <th>silver</th>\n",
       "      <th>bronze</th>\n",
       "      <th>gender</th>\n",
       "    </tr>\n",
       "  </thead>\n",
       "  <tbody>\n",
       "    <tr>\n",
       "      <th>0</th>\n",
       "      <td>736041664</td>\n",
       "      <td>A Jesus Garcia</td>\n",
       "      <td>ESP</td>\n",
       "      <td>male</td>\n",
       "      <td>10/17/69</td>\n",
       "      <td>1.72</td>\n",
       "      <td>64.0</td>\n",
       "      <td>athletics</td>\n",
       "      <td>0</td>\n",
       "      <td>0</td>\n",
       "      <td>0</td>\n",
       "      <td>1</td>\n",
       "    </tr>\n",
       "    <tr>\n",
       "      <th>2</th>\n",
       "      <td>435962603</td>\n",
       "      <td>Aaron Brown</td>\n",
       "      <td>CAN</td>\n",
       "      <td>male</td>\n",
       "      <td>5/27/92</td>\n",
       "      <td>1.98</td>\n",
       "      <td>79.0</td>\n",
       "      <td>athletics</td>\n",
       "      <td>0</td>\n",
       "      <td>0</td>\n",
       "      <td>1</td>\n",
       "      <td>1</td>\n",
       "    </tr>\n",
       "    <tr>\n",
       "      <th>7</th>\n",
       "      <td>382571888</td>\n",
       "      <td>Aaron Younger</td>\n",
       "      <td>AUS</td>\n",
       "      <td>male</td>\n",
       "      <td>9/25/91</td>\n",
       "      <td>1.93</td>\n",
       "      <td>100.0</td>\n",
       "      <td>aquatics</td>\n",
       "      <td>0</td>\n",
       "      <td>0</td>\n",
       "      <td>0</td>\n",
       "      <td>1</td>\n",
       "    </tr>\n",
       "    <tr>\n",
       "      <th>10</th>\n",
       "      <td>343694681</td>\n",
       "      <td>Abadi Hadis</td>\n",
       "      <td>ETH</td>\n",
       "      <td>male</td>\n",
       "      <td>11/6/97</td>\n",
       "      <td>1.70</td>\n",
       "      <td>63.0</td>\n",
       "      <td>athletics</td>\n",
       "      <td>0</td>\n",
       "      <td>0</td>\n",
       "      <td>0</td>\n",
       "      <td>1</td>\n",
       "    </tr>\n",
       "    <tr>\n",
       "      <th>11</th>\n",
       "      <td>591319906</td>\n",
       "      <td>Abbas Abubakar Abbas</td>\n",
       "      <td>BRN</td>\n",
       "      <td>male</td>\n",
       "      <td>5/17/96</td>\n",
       "      <td>1.75</td>\n",
       "      <td>66.0</td>\n",
       "      <td>athletics</td>\n",
       "      <td>0</td>\n",
       "      <td>0</td>\n",
       "      <td>0</td>\n",
       "      <td>1</td>\n",
       "    </tr>\n",
       "    <tr>\n",
       "      <th>12</th>\n",
       "      <td>258556239</td>\n",
       "      <td>Abbas Qali</td>\n",
       "      <td>IOA</td>\n",
       "      <td>male</td>\n",
       "      <td>10/11/92</td>\n",
       "      <td>NaN</td>\n",
       "      <td>NaN</td>\n",
       "      <td>aquatics</td>\n",
       "      <td>0</td>\n",
       "      <td>0</td>\n",
       "      <td>0</td>\n",
       "      <td>1</td>\n",
       "    </tr>\n",
       "    <tr>\n",
       "      <th>20</th>\n",
       "      <td>215053268</td>\n",
       "      <td>Abdalaati Iguider</td>\n",
       "      <td>MAR</td>\n",
       "      <td>male</td>\n",
       "      <td>3/25/87</td>\n",
       "      <td>1.73</td>\n",
       "      <td>57.0</td>\n",
       "      <td>athletics</td>\n",
       "      <td>0</td>\n",
       "      <td>0</td>\n",
       "      <td>0</td>\n",
       "      <td>1</td>\n",
       "    </tr>\n",
       "    <tr>\n",
       "      <th>21</th>\n",
       "      <td>763711985</td>\n",
       "      <td>Abdalelah Haroun</td>\n",
       "      <td>QAT</td>\n",
       "      <td>male</td>\n",
       "      <td>1/1/97</td>\n",
       "      <td>1.85</td>\n",
       "      <td>80.0</td>\n",
       "      <td>athletics</td>\n",
       "      <td>0</td>\n",
       "      <td>0</td>\n",
       "      <td>0</td>\n",
       "      <td>1</td>\n",
       "    </tr>\n",
       "    <tr>\n",
       "      <th>22</th>\n",
       "      <td>924593601</td>\n",
       "      <td>Abdalla Targan</td>\n",
       "      <td>SUD</td>\n",
       "      <td>male</td>\n",
       "      <td>9/28/96</td>\n",
       "      <td>1.77</td>\n",
       "      <td>65.0</td>\n",
       "      <td>athletics</td>\n",
       "      <td>0</td>\n",
       "      <td>0</td>\n",
       "      <td>0</td>\n",
       "      <td>1</td>\n",
       "    </tr>\n",
       "    <tr>\n",
       "      <th>24</th>\n",
       "      <td>890222258</td>\n",
       "      <td>Abdelati El Guesse</td>\n",
       "      <td>MAR</td>\n",
       "      <td>male</td>\n",
       "      <td>2/27/93</td>\n",
       "      <td>1.90</td>\n",
       "      <td>72.0</td>\n",
       "      <td>athletics</td>\n",
       "      <td>0</td>\n",
       "      <td>0</td>\n",
       "      <td>0</td>\n",
       "      <td>1</td>\n",
       "    </tr>\n",
       "  </tbody>\n",
       "</table>\n",
       "</div>"
      ],
      "text/plain": [
       "           id                  name nationality   sex       dob  height  \\\n",
       "0   736041664        A Jesus Garcia         ESP  male  10/17/69    1.72   \n",
       "2   435962603           Aaron Brown         CAN  male   5/27/92    1.98   \n",
       "7   382571888         Aaron Younger         AUS  male   9/25/91    1.93   \n",
       "10  343694681           Abadi Hadis         ETH  male   11/6/97    1.70   \n",
       "11  591319906  Abbas Abubakar Abbas         BRN  male   5/17/96    1.75   \n",
       "12  258556239            Abbas Qali         IOA  male  10/11/92     NaN   \n",
       "20  215053268     Abdalaati Iguider         MAR  male   3/25/87    1.73   \n",
       "21  763711985      Abdalelah Haroun         QAT  male    1/1/97    1.85   \n",
       "22  924593601        Abdalla Targan         SUD  male   9/28/96    1.77   \n",
       "24  890222258    Abdelati El Guesse         MAR  male   2/27/93    1.90   \n",
       "\n",
       "    weight      sport  gold  silver  bronze  gender  \n",
       "0     64.0  athletics     0       0       0       1  \n",
       "2     79.0  athletics     0       0       1       1  \n",
       "7    100.0   aquatics     0       0       0       1  \n",
       "10    63.0  athletics     0       0       0       1  \n",
       "11    66.0  athletics     0       0       0       1  \n",
       "12     NaN   aquatics     0       0       0       1  \n",
       "20    57.0  athletics     0       0       0       1  \n",
       "21    80.0  athletics     0       0       0       1  \n",
       "22    65.0  athletics     0       0       0       1  \n",
       "24    72.0  athletics     0       0       0       1  "
      ]
     },
     "execution_count": 250,
     "metadata": {},
     "output_type": "execute_result"
    }
   ],
   "source": [
    "d1_filter = d1['sport'].isin(['athletics', 'aquatics']) \n",
    "d1[d1_filter].head(10)"
   ]
  },
  {
   "cell_type": "code",
   "execution_count": 251,
   "id": "b351a139",
   "metadata": {},
   "outputs": [
    {
     "data": {
      "text/plain": [
       "sport      height\n",
       "athletics  1.80      73\n",
       "           1.78      63\n",
       "           1.83      63\n",
       "           1.85      58\n",
       "           1.75      57\n",
       "           1.88      48\n",
       "aquatics   1.85      46\n",
       "athletics  1.90      45\n",
       "aquatics   1.90      43\n",
       "athletics  1.70      42\n",
       "dtype: int64"
      ]
     },
     "execution_count": 251,
     "metadata": {},
     "output_type": "execute_result"
    }
   ],
   "source": [
    "d1[d1_filter][['sport', 'height']].value_counts().head(10)"
   ]
  },
  {
   "cell_type": "markdown",
   "id": "322edec0",
   "metadata": {},
   "source": [
    "Тут видим, что больше всего рябет в атлетике с ростом от 1.78 до 1.83, а в водных видах чащ всего встречаются спортсмены с ростом 1.85 и 1.90, так что думаю, что сможем подставить эти значения в некоторые пропуски."
   ]
  },
  {
   "cell_type": "code",
   "execution_count": 252,
   "id": "a7ac1fd6",
   "metadata": {},
   "outputs": [
    {
     "data": {
      "text/plain": [
       "sport      weight\n",
       "athletics  70.0      67\n",
       "           65.0      46\n",
       "           60.0      46\n",
       "           74.0      42\n",
       "           62.0      40\n",
       "           72.0      40\n",
       "aquatics   85.0      38\n",
       "           75.0      37\n",
       "athletics  80.0      36\n",
       "           68.0      35\n",
       "           64.0      35\n",
       "           58.0      35\n",
       "aquatics   80.0      35\n",
       "athletics  78.0      34\n",
       "aquatics   90.0      33\n",
       "athletics  75.0      33\n",
       "           63.0      32\n",
       "aquatics   82.0      28\n",
       "athletics  77.0      27\n",
       "aquatics   77.0      26\n",
       "dtype: int64"
      ]
     },
     "execution_count": 252,
     "metadata": {},
     "output_type": "execute_result"
    }
   ],
   "source": [
    "d1[d1_filter][['sport', 'weight']].value_counts().head(20)"
   ]
  },
  {
   "cell_type": "markdown",
   "id": "7f6d68c6",
   "metadata": {},
   "source": [
    "А теперь видим, что вес 70кг самый частый в атлетике, при этом в водных вида спорта самые частые веса = 85кг и 75 кг, хотя разница в кол-ве ребят с весом в 80кг всего пара человек, так что думаю что все эти три веса в топе. "
   ]
  },
  {
   "cell_type": "code",
   "execution_count": 253,
   "id": "c3ec930e",
   "metadata": {},
   "outputs": [
    {
     "data": {
      "text/html": [
       "<div>\n",
       "<style scoped>\n",
       "    .dataframe tbody tr th:only-of-type {\n",
       "        vertical-align: middle;\n",
       "    }\n",
       "\n",
       "    .dataframe tbody tr th {\n",
       "        vertical-align: top;\n",
       "    }\n",
       "\n",
       "    .dataframe thead th {\n",
       "        text-align: right;\n",
       "    }\n",
       "</style>\n",
       "<table border=\"1\" class=\"dataframe\">\n",
       "  <thead>\n",
       "    <tr style=\"text-align: right;\">\n",
       "      <th></th>\n",
       "      <th>id</th>\n",
       "      <th>name</th>\n",
       "      <th>nationality</th>\n",
       "      <th>sex</th>\n",
       "      <th>dob</th>\n",
       "      <th>height</th>\n",
       "      <th>weight</th>\n",
       "      <th>sport</th>\n",
       "      <th>gold</th>\n",
       "      <th>silver</th>\n",
       "      <th>bronze</th>\n",
       "      <th>gender</th>\n",
       "    </tr>\n",
       "  </thead>\n",
       "  <tbody>\n",
       "    <tr>\n",
       "      <th>8</th>\n",
       "      <td>87689776</td>\n",
       "      <td>Aauri Lorena Bokesa</td>\n",
       "      <td>ESP</td>\n",
       "      <td>female</td>\n",
       "      <td>12/14/88</td>\n",
       "      <td>1.80</td>\n",
       "      <td>62.0</td>\n",
       "      <td>athletics</td>\n",
       "      <td>0</td>\n",
       "      <td>0</td>\n",
       "      <td>0</td>\n",
       "      <td>0</td>\n",
       "    </tr>\n",
       "    <tr>\n",
       "      <th>9</th>\n",
       "      <td>997877719</td>\n",
       "      <td>Ababel Yeshaneh</td>\n",
       "      <td>ETH</td>\n",
       "      <td>female</td>\n",
       "      <td>7/22/91</td>\n",
       "      <td>1.65</td>\n",
       "      <td>54.0</td>\n",
       "      <td>athletics</td>\n",
       "      <td>0</td>\n",
       "      <td>0</td>\n",
       "      <td>0</td>\n",
       "      <td>0</td>\n",
       "    </tr>\n",
       "    <tr>\n",
       "      <th>13</th>\n",
       "      <td>376068084</td>\n",
       "      <td>Abbey D'Agostino</td>\n",
       "      <td>USA</td>\n",
       "      <td>female</td>\n",
       "      <td>5/25/92</td>\n",
       "      <td>1.61</td>\n",
       "      <td>49.0</td>\n",
       "      <td>athletics</td>\n",
       "      <td>0</td>\n",
       "      <td>0</td>\n",
       "      <td>0</td>\n",
       "      <td>0</td>\n",
       "    </tr>\n",
       "    <tr>\n",
       "      <th>14</th>\n",
       "      <td>162792594</td>\n",
       "      <td>Abbey Weitzeil</td>\n",
       "      <td>USA</td>\n",
       "      <td>female</td>\n",
       "      <td>12/3/96</td>\n",
       "      <td>1.78</td>\n",
       "      <td>68.0</td>\n",
       "      <td>aquatics</td>\n",
       "      <td>1</td>\n",
       "      <td>1</td>\n",
       "      <td>0</td>\n",
       "      <td>0</td>\n",
       "    </tr>\n",
       "    <tr>\n",
       "      <th>64</th>\n",
       "      <td>884912136</td>\n",
       "      <td>Abigail Johnston</td>\n",
       "      <td>USA</td>\n",
       "      <td>female</td>\n",
       "      <td>11/16/89</td>\n",
       "      <td>1.66</td>\n",
       "      <td>61.0</td>\n",
       "      <td>aquatics</td>\n",
       "      <td>0</td>\n",
       "      <td>0</td>\n",
       "      <td>0</td>\n",
       "      <td>0</td>\n",
       "    </tr>\n",
       "    <tr>\n",
       "      <th>...</th>\n",
       "      <td>...</td>\n",
       "      <td>...</td>\n",
       "      <td>...</td>\n",
       "      <td>...</td>\n",
       "      <td>...</td>\n",
       "      <td>...</td>\n",
       "      <td>...</td>\n",
       "      <td>...</td>\n",
       "      <td>...</td>\n",
       "      <td>...</td>\n",
       "      <td>...</td>\n",
       "      <td>...</td>\n",
       "    </tr>\n",
       "    <tr>\n",
       "      <th>11512</th>\n",
       "      <td>371106012</td>\n",
       "      <td>Zohar Shikler</td>\n",
       "      <td>ISR</td>\n",
       "      <td>female</td>\n",
       "      <td>7/8/97</td>\n",
       "      <td>1.78</td>\n",
       "      <td>61.0</td>\n",
       "      <td>aquatics</td>\n",
       "      <td>0</td>\n",
       "      <td>0</td>\n",
       "      <td>0</td>\n",
       "      <td>0</td>\n",
       "    </tr>\n",
       "    <tr>\n",
       "      <th>11525</th>\n",
       "      <td>999437858</td>\n",
       "      <td>Zsofia Erdelyi</td>\n",
       "      <td>HUN</td>\n",
       "      <td>female</td>\n",
       "      <td>12/10/87</td>\n",
       "      <td>1.64</td>\n",
       "      <td>53.0</td>\n",
       "      <td>athletics</td>\n",
       "      <td>0</td>\n",
       "      <td>0</td>\n",
       "      <td>0</td>\n",
       "      <td>0</td>\n",
       "    </tr>\n",
       "    <tr>\n",
       "      <th>11530</th>\n",
       "      <td>739315046</td>\n",
       "      <td>Zsuzsanna Jakabos</td>\n",
       "      <td>HUN</td>\n",
       "      <td>female</td>\n",
       "      <td>4/3/89</td>\n",
       "      <td>1.85</td>\n",
       "      <td>70.0</td>\n",
       "      <td>aquatics</td>\n",
       "      <td>0</td>\n",
       "      <td>0</td>\n",
       "      <td>0</td>\n",
       "      <td>0</td>\n",
       "    </tr>\n",
       "    <tr>\n",
       "      <th>11533</th>\n",
       "      <td>265605954</td>\n",
       "      <td>Zurian Hechavarria</td>\n",
       "      <td>CUB</td>\n",
       "      <td>female</td>\n",
       "      <td>8/10/95</td>\n",
       "      <td>1.64</td>\n",
       "      <td>58.0</td>\n",
       "      <td>athletics</td>\n",
       "      <td>0</td>\n",
       "      <td>0</td>\n",
       "      <td>0</td>\n",
       "      <td>0</td>\n",
       "    </tr>\n",
       "    <tr>\n",
       "      <th>11534</th>\n",
       "      <td>214461847</td>\n",
       "      <td>Zuzana Hejnova</td>\n",
       "      <td>CZE</td>\n",
       "      <td>female</td>\n",
       "      <td>12/19/86</td>\n",
       "      <td>1.73</td>\n",
       "      <td>63.0</td>\n",
       "      <td>athletics</td>\n",
       "      <td>0</td>\n",
       "      <td>0</td>\n",
       "      <td>0</td>\n",
       "      <td>0</td>\n",
       "    </tr>\n",
       "  </tbody>\n",
       "</table>\n",
       "<p>1853 rows × 12 columns</p>\n",
       "</div>"
      ],
      "text/plain": [
       "              id                 name nationality     sex       dob  height  \\\n",
       "8       87689776  Aauri Lorena Bokesa         ESP  female  12/14/88    1.80   \n",
       "9      997877719      Ababel Yeshaneh         ETH  female   7/22/91    1.65   \n",
       "13     376068084     Abbey D'Agostino         USA  female   5/25/92    1.61   \n",
       "14     162792594       Abbey Weitzeil         USA  female   12/3/96    1.78   \n",
       "64     884912136     Abigail Johnston         USA  female  11/16/89    1.66   \n",
       "...          ...                  ...         ...     ...       ...     ...   \n",
       "11512  371106012        Zohar Shikler         ISR  female    7/8/97    1.78   \n",
       "11525  999437858       Zsofia Erdelyi         HUN  female  12/10/87    1.64   \n",
       "11530  739315046    Zsuzsanna Jakabos         HUN  female    4/3/89    1.85   \n",
       "11533  265605954   Zurian Hechavarria         CUB  female   8/10/95    1.64   \n",
       "11534  214461847       Zuzana Hejnova         CZE  female  12/19/86    1.73   \n",
       "\n",
       "       weight      sport  gold  silver  bronze  gender  \n",
       "8        62.0  athletics     0       0       0       0  \n",
       "9        54.0  athletics     0       0       0       0  \n",
       "13       49.0  athletics     0       0       0       0  \n",
       "14       68.0   aquatics     1       1       0       0  \n",
       "64       61.0   aquatics     0       0       0       0  \n",
       "...       ...        ...   ...     ...     ...     ...  \n",
       "11512    61.0   aquatics     0       0       0       0  \n",
       "11525    53.0  athletics     0       0       0       0  \n",
       "11530    70.0   aquatics     0       0       0       0  \n",
       "11533    58.0  athletics     0       0       0       0  \n",
       "11534    63.0  athletics     0       0       0       0  \n",
       "\n",
       "[1853 rows x 12 columns]"
      ]
     },
     "execution_count": 253,
     "metadata": {},
     "output_type": "execute_result"
    }
   ],
   "source": [
    "d0_filter = d0['sport'].isin(['athletics', 'aquatics']) \n",
    "d0[d0_filter]"
   ]
  },
  {
   "cell_type": "code",
   "execution_count": 254,
   "id": "d7489e1e",
   "metadata": {},
   "outputs": [
    {
     "data": {
      "text/plain": [
       "sport      height\n",
       "athletics  1.70      91\n",
       "           1.68      74\n",
       "           1.65      65\n",
       "           1.73      59\n",
       "           1.75      51\n",
       "aquatics   1.70      50\n",
       "athletics  1.60      44\n",
       "           1.78      43\n",
       "           1.67      43\n",
       "aquatics   1.73      43\n",
       "dtype: int64"
      ]
     },
     "execution_count": 254,
     "metadata": {},
     "output_type": "execute_result"
    }
   ],
   "source": [
    "d0[d0_filter][['sport', 'height']].value_counts().head(10)"
   ]
  },
  {
   "cell_type": "markdown",
   "id": "c9ad2f51",
   "metadata": {},
   "source": [
    "Тут видим, что больше всего женщин в атлетике с ростом от 1.68 до 1.70, а в водных видах спорта 1.70."
   ]
  },
  {
   "cell_type": "code",
   "execution_count": 255,
   "id": "d01253cb",
   "metadata": {},
   "outputs": [
    {
     "data": {
      "text/plain": [
       "sport      weight\n",
       "athletics  58.0      71\n",
       "           50.0      57\n",
       "           55.0      56\n",
       "aquatics   60.0      49\n",
       "athletics  57.0      48\n",
       "           52.0      48\n",
       "           53.0      46\n",
       "aquatics   62.0      45\n",
       "athletics  54.0      44\n",
       "           56.0      40\n",
       "dtype: int64"
      ]
     },
     "execution_count": 255,
     "metadata": {},
     "output_type": "execute_result"
    }
   ],
   "source": [
    "d0[d0_filter][['sport', 'weight']].value_counts().head(10)"
   ]
  },
  {
   "cell_type": "markdown",
   "id": "189f14d8",
   "metadata": {},
   "source": [
    "В атлетике чаще всего встречаются спортсменки с весом 58кг, а в водных видах чаще всего 60кг. Думаю нам хватит этих данных что б подправить некоторые значения из основного фрейма данных. "
   ]
  },
  {
   "cell_type": "code",
   "execution_count": 256,
   "id": "9fa56ef1",
   "metadata": {},
   "outputs": [
    {
     "data": {
      "text/plain": [
       "id               0\n",
       "name             0\n",
       "nationality      0\n",
       "sex              0\n",
       "dob              0\n",
       "height         329\n",
       "weight         658\n",
       "sport            0\n",
       "gold             0\n",
       "silver           0\n",
       "bronze           0\n",
       "gender           0\n",
       "dtype: int64"
      ]
     },
     "execution_count": 256,
     "metadata": {},
     "output_type": "execute_result"
    }
   ],
   "source": [
    "\n",
    "for row in df:\n",
    "    if df['height'] is None and df['sport'] == 'athletics' and df['gender'] == 1 :\n",
    "        df['height'].fillna( '1.80' , inplace = True)\n",
    "    elif df['height'] is None and df['sport'] == 'aquatics' and df['gender'] == 1:\n",
    "        df['height'].fillna( '1.85' , inplace = True)\n",
    "    elif df['height'] is None and df['sport'] == 'athletics' and df['gender'] == 0:\n",
    "        df['height'].fillna( '1.70' , inplace = True)\n",
    "    elif df['height'] is None and df['sport'] == 'aquatics' and df['gender'] == 0:\n",
    "        df['height'].fillna( '1.70' , inplace = True)\n",
    "    elif df['weight'] is None and df['sport'] == 'athletics' and df['gender'] == 1 :\n",
    "        df['weight'].fillna( '70' , inplace = True)\n",
    "    elif df['weight'] is None and df['sport'] == 'aquatics' and df['gender'] == 1:\n",
    "        df['weight'].fillna( '85' , inplace = True)\n",
    "    elif df['weight'] is None and df['sport'] == 'athletics' and df['gender'] == 0:\n",
    "        df['weight'].fillna( '58' , inplace = True)\n",
    "    elif df['weight'] is None and df['sport'] == 'aquatics' and df['gender'] == 0:\n",
    "        df['weight'].fillna( '60' , inplace = True)\n",
    "        \n",
    "df.isna().sum()"
   ]
  },
  {
   "cell_type": "markdown",
   "id": "a9616472",
   "metadata": {},
   "source": [
    "Выше сложно читаемый код, но по каждому виду спорта и гендеру я попыталась подставить значения, но по условию ничего не подошло, а жаль. Придется просто чистить данные. "
   ]
  },
  {
   "cell_type": "code",
   "execution_count": 257,
   "id": "1a4e54a7",
   "metadata": {},
   "outputs": [
    {
     "name": "stdout",
     "output_type": "stream",
     "text": [
      "<class 'pandas.core.frame.DataFrame'>\n",
      "Int64Index: 10858 entries, 0 to 11537\n",
      "Data columns (total 12 columns):\n",
      " #   Column       Non-Null Count  Dtype   \n",
      "---  ------       --------------  -----   \n",
      " 0   id           10858 non-null  int64   \n",
      " 1   name         10858 non-null  object  \n",
      " 2   nationality  10858 non-null  object  \n",
      " 3   sex          10858 non-null  category\n",
      " 4   dob          10858 non-null  object  \n",
      " 5   height       10858 non-null  float64 \n",
      " 6   weight       10858 non-null  float64 \n",
      " 7   sport        10858 non-null  object  \n",
      " 8   gold         10858 non-null  int64   \n",
      " 9   silver       10858 non-null  int64   \n",
      " 10  bronze       10858 non-null  int64   \n",
      " 11  gender       10858 non-null  int8    \n",
      "dtypes: category(1), float64(2), int64(4), int8(1), object(4)\n",
      "memory usage: 954.4+ KB\n"
     ]
    }
   ],
   "source": [
    "df = df[~(df['weight'].isna())]\n",
    "df = df[~(df['height'].isna())]\n",
    "df.info()"
   ]
  },
  {
   "cell_type": "markdown",
   "id": "a33b074b",
   "metadata": {},
   "source": [
    "В итоге почистили все данные, немного изучив. Дальше делю их на test/train == 20/80 "
   ]
  },
  {
   "cell_type": "code",
   "execution_count": 258,
   "id": "d2f7cc09",
   "metadata": {},
   "outputs": [
    {
     "data": {
      "text/html": [
       "<div>\n",
       "<style scoped>\n",
       "    .dataframe tbody tr th:only-of-type {\n",
       "        vertical-align: middle;\n",
       "    }\n",
       "\n",
       "    .dataframe tbody tr th {\n",
       "        vertical-align: top;\n",
       "    }\n",
       "\n",
       "    .dataframe thead th {\n",
       "        text-align: right;\n",
       "    }\n",
       "</style>\n",
       "<table border=\"1\" class=\"dataframe\">\n",
       "  <thead>\n",
       "    <tr style=\"text-align: right;\">\n",
       "      <th></th>\n",
       "      <th>gold</th>\n",
       "      <th>silver</th>\n",
       "      <th>bronze</th>\n",
       "      <th>height</th>\n",
       "      <th>weight</th>\n",
       "      <th>sport_aquatics</th>\n",
       "      <th>sport_archery</th>\n",
       "      <th>sport_athletics</th>\n",
       "      <th>sport_badminton</th>\n",
       "      <th>sport_basketball</th>\n",
       "      <th>...</th>\n",
       "      <th>sport_rugby sevens</th>\n",
       "      <th>sport_sailing</th>\n",
       "      <th>sport_shooting</th>\n",
       "      <th>sport_table tennis</th>\n",
       "      <th>sport_taekwondo</th>\n",
       "      <th>sport_tennis</th>\n",
       "      <th>sport_triathlon</th>\n",
       "      <th>sport_volleyball</th>\n",
       "      <th>sport_weightlifting</th>\n",
       "      <th>sport_wrestling</th>\n",
       "    </tr>\n",
       "  </thead>\n",
       "  <tbody>\n",
       "    <tr>\n",
       "      <th>0</th>\n",
       "      <td>0</td>\n",
       "      <td>0</td>\n",
       "      <td>0</td>\n",
       "      <td>1.72</td>\n",
       "      <td>64.0</td>\n",
       "      <td>0</td>\n",
       "      <td>0</td>\n",
       "      <td>1</td>\n",
       "      <td>0</td>\n",
       "      <td>0</td>\n",
       "      <td>...</td>\n",
       "      <td>0</td>\n",
       "      <td>0</td>\n",
       "      <td>0</td>\n",
       "      <td>0</td>\n",
       "      <td>0</td>\n",
       "      <td>0</td>\n",
       "      <td>0</td>\n",
       "      <td>0</td>\n",
       "      <td>0</td>\n",
       "      <td>0</td>\n",
       "    </tr>\n",
       "    <tr>\n",
       "      <th>1</th>\n",
       "      <td>0</td>\n",
       "      <td>0</td>\n",
       "      <td>0</td>\n",
       "      <td>1.68</td>\n",
       "      <td>56.0</td>\n",
       "      <td>0</td>\n",
       "      <td>0</td>\n",
       "      <td>0</td>\n",
       "      <td>0</td>\n",
       "      <td>0</td>\n",
       "      <td>...</td>\n",
       "      <td>0</td>\n",
       "      <td>0</td>\n",
       "      <td>0</td>\n",
       "      <td>0</td>\n",
       "      <td>0</td>\n",
       "      <td>0</td>\n",
       "      <td>0</td>\n",
       "      <td>0</td>\n",
       "      <td>0</td>\n",
       "      <td>0</td>\n",
       "    </tr>\n",
       "    <tr>\n",
       "      <th>2</th>\n",
       "      <td>0</td>\n",
       "      <td>0</td>\n",
       "      <td>1</td>\n",
       "      <td>1.98</td>\n",
       "      <td>79.0</td>\n",
       "      <td>0</td>\n",
       "      <td>0</td>\n",
       "      <td>1</td>\n",
       "      <td>0</td>\n",
       "      <td>0</td>\n",
       "      <td>...</td>\n",
       "      <td>0</td>\n",
       "      <td>0</td>\n",
       "      <td>0</td>\n",
       "      <td>0</td>\n",
       "      <td>0</td>\n",
       "      <td>0</td>\n",
       "      <td>0</td>\n",
       "      <td>0</td>\n",
       "      <td>0</td>\n",
       "      <td>0</td>\n",
       "    </tr>\n",
       "    <tr>\n",
       "      <th>3</th>\n",
       "      <td>0</td>\n",
       "      <td>0</td>\n",
       "      <td>0</td>\n",
       "      <td>1.83</td>\n",
       "      <td>80.0</td>\n",
       "      <td>0</td>\n",
       "      <td>0</td>\n",
       "      <td>0</td>\n",
       "      <td>0</td>\n",
       "      <td>0</td>\n",
       "      <td>...</td>\n",
       "      <td>0</td>\n",
       "      <td>0</td>\n",
       "      <td>0</td>\n",
       "      <td>0</td>\n",
       "      <td>1</td>\n",
       "      <td>0</td>\n",
       "      <td>0</td>\n",
       "      <td>0</td>\n",
       "      <td>0</td>\n",
       "      <td>0</td>\n",
       "    </tr>\n",
       "    <tr>\n",
       "      <th>4</th>\n",
       "      <td>0</td>\n",
       "      <td>0</td>\n",
       "      <td>0</td>\n",
       "      <td>1.81</td>\n",
       "      <td>71.0</td>\n",
       "      <td>0</td>\n",
       "      <td>0</td>\n",
       "      <td>0</td>\n",
       "      <td>0</td>\n",
       "      <td>0</td>\n",
       "      <td>...</td>\n",
       "      <td>0</td>\n",
       "      <td>0</td>\n",
       "      <td>0</td>\n",
       "      <td>0</td>\n",
       "      <td>0</td>\n",
       "      <td>0</td>\n",
       "      <td>0</td>\n",
       "      <td>0</td>\n",
       "      <td>0</td>\n",
       "      <td>0</td>\n",
       "    </tr>\n",
       "    <tr>\n",
       "      <th>...</th>\n",
       "      <td>...</td>\n",
       "      <td>...</td>\n",
       "      <td>...</td>\n",
       "      <td>...</td>\n",
       "      <td>...</td>\n",
       "      <td>...</td>\n",
       "      <td>...</td>\n",
       "      <td>...</td>\n",
       "      <td>...</td>\n",
       "      <td>...</td>\n",
       "      <td>...</td>\n",
       "      <td>...</td>\n",
       "      <td>...</td>\n",
       "      <td>...</td>\n",
       "      <td>...</td>\n",
       "      <td>...</td>\n",
       "      <td>...</td>\n",
       "      <td>...</td>\n",
       "      <td>...</td>\n",
       "      <td>...</td>\n",
       "      <td>...</td>\n",
       "    </tr>\n",
       "    <tr>\n",
       "      <th>11533</th>\n",
       "      <td>0</td>\n",
       "      <td>0</td>\n",
       "      <td>0</td>\n",
       "      <td>1.64</td>\n",
       "      <td>58.0</td>\n",
       "      <td>0</td>\n",
       "      <td>0</td>\n",
       "      <td>1</td>\n",
       "      <td>0</td>\n",
       "      <td>0</td>\n",
       "      <td>...</td>\n",
       "      <td>0</td>\n",
       "      <td>0</td>\n",
       "      <td>0</td>\n",
       "      <td>0</td>\n",
       "      <td>0</td>\n",
       "      <td>0</td>\n",
       "      <td>0</td>\n",
       "      <td>0</td>\n",
       "      <td>0</td>\n",
       "      <td>0</td>\n",
       "    </tr>\n",
       "    <tr>\n",
       "      <th>11534</th>\n",
       "      <td>0</td>\n",
       "      <td>0</td>\n",
       "      <td>0</td>\n",
       "      <td>1.73</td>\n",
       "      <td>63.0</td>\n",
       "      <td>0</td>\n",
       "      <td>0</td>\n",
       "      <td>1</td>\n",
       "      <td>0</td>\n",
       "      <td>0</td>\n",
       "      <td>...</td>\n",
       "      <td>0</td>\n",
       "      <td>0</td>\n",
       "      <td>0</td>\n",
       "      <td>0</td>\n",
       "      <td>0</td>\n",
       "      <td>0</td>\n",
       "      <td>0</td>\n",
       "      <td>0</td>\n",
       "      <td>0</td>\n",
       "      <td>0</td>\n",
       "    </tr>\n",
       "    <tr>\n",
       "      <th>11535</th>\n",
       "      <td>0</td>\n",
       "      <td>0</td>\n",
       "      <td>0</td>\n",
       "      <td>1.85</td>\n",
       "      <td>100.0</td>\n",
       "      <td>0</td>\n",
       "      <td>0</td>\n",
       "      <td>0</td>\n",
       "      <td>0</td>\n",
       "      <td>0</td>\n",
       "      <td>...</td>\n",
       "      <td>0</td>\n",
       "      <td>0</td>\n",
       "      <td>0</td>\n",
       "      <td>0</td>\n",
       "      <td>0</td>\n",
       "      <td>0</td>\n",
       "      <td>0</td>\n",
       "      <td>0</td>\n",
       "      <td>0</td>\n",
       "      <td>1</td>\n",
       "    </tr>\n",
       "    <tr>\n",
       "      <th>11536</th>\n",
       "      <td>0</td>\n",
       "      <td>0</td>\n",
       "      <td>0</td>\n",
       "      <td>1.60</td>\n",
       "      <td>56.0</td>\n",
       "      <td>0</td>\n",
       "      <td>0</td>\n",
       "      <td>0</td>\n",
       "      <td>0</td>\n",
       "      <td>0</td>\n",
       "      <td>...</td>\n",
       "      <td>0</td>\n",
       "      <td>0</td>\n",
       "      <td>0</td>\n",
       "      <td>0</td>\n",
       "      <td>0</td>\n",
       "      <td>0</td>\n",
       "      <td>0</td>\n",
       "      <td>0</td>\n",
       "      <td>1</td>\n",
       "      <td>0</td>\n",
       "    </tr>\n",
       "    <tr>\n",
       "      <th>11537</th>\n",
       "      <td>0</td>\n",
       "      <td>0</td>\n",
       "      <td>0</td>\n",
       "      <td>1.85</td>\n",
       "      <td>70.0</td>\n",
       "      <td>0</td>\n",
       "      <td>0</td>\n",
       "      <td>1</td>\n",
       "      <td>0</td>\n",
       "      <td>0</td>\n",
       "      <td>...</td>\n",
       "      <td>0</td>\n",
       "      <td>0</td>\n",
       "      <td>0</td>\n",
       "      <td>0</td>\n",
       "      <td>0</td>\n",
       "      <td>0</td>\n",
       "      <td>0</td>\n",
       "      <td>0</td>\n",
       "      <td>0</td>\n",
       "      <td>0</td>\n",
       "    </tr>\n",
       "  </tbody>\n",
       "</table>\n",
       "<p>10858 rows × 32 columns</p>\n",
       "</div>"
      ],
      "text/plain": [
       "       gold  silver  bronze  height  weight  sport_aquatics  sport_archery  \\\n",
       "0         0       0       0    1.72    64.0               0              0   \n",
       "1         0       0       0    1.68    56.0               0              0   \n",
       "2         0       0       1    1.98    79.0               0              0   \n",
       "3         0       0       0    1.83    80.0               0              0   \n",
       "4         0       0       0    1.81    71.0               0              0   \n",
       "...     ...     ...     ...     ...     ...             ...            ...   \n",
       "11533     0       0       0    1.64    58.0               0              0   \n",
       "11534     0       0       0    1.73    63.0               0              0   \n",
       "11535     0       0       0    1.85   100.0               0              0   \n",
       "11536     0       0       0    1.60    56.0               0              0   \n",
       "11537     0       0       0    1.85    70.0               0              0   \n",
       "\n",
       "       sport_athletics  sport_badminton  sport_basketball  ...  \\\n",
       "0                    1                0                 0  ...   \n",
       "1                    0                0                 0  ...   \n",
       "2                    1                0                 0  ...   \n",
       "3                    0                0                 0  ...   \n",
       "4                    0                0                 0  ...   \n",
       "...                ...              ...               ...  ...   \n",
       "11533                1                0                 0  ...   \n",
       "11534                1                0                 0  ...   \n",
       "11535                0                0                 0  ...   \n",
       "11536                0                0                 0  ...   \n",
       "11537                1                0                 0  ...   \n",
       "\n",
       "       sport_rugby sevens  sport_sailing  sport_shooting  sport_table tennis  \\\n",
       "0                       0              0               0                   0   \n",
       "1                       0              0               0                   0   \n",
       "2                       0              0               0                   0   \n",
       "3                       0              0               0                   0   \n",
       "4                       0              0               0                   0   \n",
       "...                   ...            ...             ...                 ...   \n",
       "11533                   0              0               0                   0   \n",
       "11534                   0              0               0                   0   \n",
       "11535                   0              0               0                   0   \n",
       "11536                   0              0               0                   0   \n",
       "11537                   0              0               0                   0   \n",
       "\n",
       "       sport_taekwondo  sport_tennis  sport_triathlon  sport_volleyball  \\\n",
       "0                    0             0                0                 0   \n",
       "1                    0             0                0                 0   \n",
       "2                    0             0                0                 0   \n",
       "3                    1             0                0                 0   \n",
       "4                    0             0                0                 0   \n",
       "...                ...           ...              ...               ...   \n",
       "11533                0             0                0                 0   \n",
       "11534                0             0                0                 0   \n",
       "11535                0             0                0                 0   \n",
       "11536                0             0                0                 0   \n",
       "11537                0             0                0                 0   \n",
       "\n",
       "       sport_weightlifting  sport_wrestling  \n",
       "0                        0                0  \n",
       "1                        0                0  \n",
       "2                        0                0  \n",
       "3                        0                0  \n",
       "4                        0                0  \n",
       "...                    ...              ...  \n",
       "11533                    0                0  \n",
       "11534                    0                0  \n",
       "11535                    0                1  \n",
       "11536                    1                0  \n",
       "11537                    0                0  \n",
       "\n",
       "[10858 rows x 32 columns]"
      ]
     },
     "execution_count": 258,
     "metadata": {},
     "output_type": "execute_result"
    }
   ],
   "source": [
    "s_columns = df[[ 'sport', 'gold', 'silver', 'bronze', 'height', 'weight']]\n",
    "x = pd.get_dummies(s_columns, columns = [ 'sport'])\n",
    "x"
   ]
  },
  {
   "cell_type": "code",
   "execution_count": 259,
   "id": "02e84528",
   "metadata": {},
   "outputs": [
    {
     "data": {
      "text/plain": [
       "0        1\n",
       "1        0\n",
       "2        1\n",
       "3        1\n",
       "4        1\n",
       "        ..\n",
       "11533    0\n",
       "11534    0\n",
       "11535    1\n",
       "11536    1\n",
       "11537    1\n",
       "Name: gender, Length: 10858, dtype: int8"
      ]
     },
     "execution_count": 259,
     "metadata": {},
     "output_type": "execute_result"
    }
   ],
   "source": [
    "y = df['gender']\n",
    "y"
   ]
  },
  {
   "cell_type": "code",
   "execution_count": 260,
   "id": "d2270984",
   "metadata": {},
   "outputs": [],
   "source": [
    "x_train, x_test, y_train, y_test = train_test_split(x, y, test_size = 0.2, random_state = 42)"
   ]
  },
  {
   "cell_type": "code",
   "execution_count": 261,
   "id": "1e0389fc",
   "metadata": {},
   "outputs": [
    {
     "name": "stderr",
     "output_type": "stream",
     "text": [
      "/Users/anastasiafedoracenko/opt/anaconda3/lib/python3.9/site-packages/sklearn/linear_model/_logistic.py:763: ConvergenceWarning: lbfgs failed to converge (status=1):\n",
      "STOP: TOTAL NO. of ITERATIONS REACHED LIMIT.\n",
      "\n",
      "Increase the number of iterations (max_iter) or scale the data as shown in:\n",
      "    https://scikit-learn.org/stable/modules/preprocessing.html\n",
      "Please also refer to the documentation for alternative solver options:\n",
      "    https://scikit-learn.org/stable/modules/linear_model.html#logistic-regression\n",
      "  n_iter_i = _check_optimize_result(\n"
     ]
    },
    {
     "data": {
      "text/plain": [
       "LogisticRegression()"
      ]
     },
     "execution_count": 261,
     "metadata": {},
     "output_type": "execute_result"
    }
   ],
   "source": [
    "model = LogisticRegression()\n",
    "model.fit(x_train, y_train)"
   ]
  },
  {
   "cell_type": "code",
   "execution_count": 262,
   "id": "120c1d9e",
   "metadata": {},
   "outputs": [],
   "source": [
    "predictions = model.predict_proba(x_test)"
   ]
  },
  {
   "cell_type": "code",
   "execution_count": 263,
   "id": "b882fcd0",
   "metadata": {},
   "outputs": [
    {
     "data": {
      "text/plain": [
       "0.8073912042367027"
      ]
     },
     "execution_count": 263,
     "metadata": {},
     "output_type": "execute_result"
    }
   ],
   "source": [
    "model.score(x_train, y_train)"
   ]
  },
  {
   "cell_type": "code",
   "execution_count": 264,
   "id": "24523287",
   "metadata": {},
   "outputs": [
    {
     "data": {
      "text/plain": [
       "0.7955801104972375"
      ]
     },
     "execution_count": 264,
     "metadata": {},
     "output_type": "execute_result"
    }
   ],
   "source": [
    "model.score(x_test, y_test)"
   ]
  },
  {
   "cell_type": "markdown",
   "id": "627c2dad",
   "metadata": {},
   "source": [
    "Для построения ROC кривой нужно найти TPR, FPR, а для этого надо найти tp, fp, tn, fn. "
   ]
  },
  {
   "cell_type": "code",
   "execution_count": 265,
   "id": "aabe741a",
   "metadata": {},
   "outputs": [],
   "source": [
    "tp = 0 \n",
    "fp = 0 \n",
    "fn = 0 \n",
    "tn = 0 \n",
    "\n",
    "predictions = model.predict_proba( x_test )\n",
    "for predicted_prob, actual in zip( predictions[:, 1], y_test ):    \n",
    "    if predicted_prob >= 0.5:\n",
    "        predicted = 1\n",
    "    else:\n",
    "        predicted = 0\n",
    "    \n",
    "    if predicted == 1:\n",
    "        if actual == 1:\n",
    "            tp += 1\n",
    "        else:\n",
    "            fp += 1\n",
    "    \n",
    "    else:\n",
    "        if actual == 1:\n",
    "            fn += 1\n",
    "        else:\n",
    "            tn += 1"
   ]
  },
  {
   "cell_type": "code",
   "execution_count": 266,
   "id": "c3e98dbb",
   "metadata": {},
   "outputs": [
    {
     "data": {
      "text/plain": [
       "(970, 226, 218, 758)"
      ]
     },
     "execution_count": 266,
     "metadata": {},
     "output_type": "execute_result"
    }
   ],
   "source": [
    "pred = model.predict(x_test)\n",
    "\n",
    "\n",
    "tp, fp, fn, tn"
   ]
  },
  {
   "cell_type": "markdown",
   "id": "7ccc7f13",
   "metadata": {},
   "source": [
    "Проверяем точность "
   ]
  },
  {
   "cell_type": "code",
   "execution_count": 267,
   "id": "068915b7",
   "metadata": {},
   "outputs": [
    {
     "data": {
      "text/plain": [
       "0.7955801104972375"
      ]
     },
     "execution_count": 267,
     "metadata": {},
     "output_type": "execute_result"
    }
   ],
   "source": [
    "(tp + tn) / (tp + fp + fn + tn)"
   ]
  },
  {
   "cell_type": "code",
   "execution_count": 268,
   "id": "c8982117",
   "metadata": {},
   "outputs": [
    {
     "data": {
      "text/plain": [
       "0.8110367892976589"
      ]
     },
     "execution_count": 268,
     "metadata": {},
     "output_type": "execute_result"
    }
   ],
   "source": [
    "precision = tp / (tp + fp)\n",
    "precision"
   ]
  },
  {
   "cell_type": "code",
   "execution_count": 269,
   "id": "c46a0a89",
   "metadata": {},
   "outputs": [
    {
     "data": {
      "text/plain": [
       "0.8164983164983165"
      ]
     },
     "execution_count": 269,
     "metadata": {},
     "output_type": "execute_result"
    }
   ],
   "source": [
    "recall = tp / (tp + fn)\n",
    "recall"
   ]
  },
  {
   "cell_type": "code",
   "execution_count": 270,
   "id": "088faad6",
   "metadata": {},
   "outputs": [
    {
     "data": {
      "text/plain": [
       "0.8164983164983165"
      ]
     },
     "execution_count": 270,
     "metadata": {},
     "output_type": "execute_result"
    }
   ],
   "source": [
    "recall_score(y_test, pred)"
   ]
  },
  {
   "cell_type": "code",
   "execution_count": 271,
   "id": "efe39b9f",
   "metadata": {},
   "outputs": [
    {
     "data": {
      "text/plain": [
       "0.8110367892976589"
      ]
     },
     "execution_count": 271,
     "metadata": {},
     "output_type": "execute_result"
    }
   ],
   "source": [
    "precision_score(y_test, pred)"
   ]
  },
  {
   "cell_type": "code",
   "execution_count": 272,
   "id": "115b5713",
   "metadata": {},
   "outputs": [],
   "source": [
    "fpr, tpr, thres = roc_curve( y_test, predictions[:, 1] )"
   ]
  },
  {
   "cell_type": "code",
   "execution_count": 273,
   "id": "07d4977c",
   "metadata": {},
   "outputs": [
    {
     "name": "stdout",
     "output_type": "stream",
     "text": [
      "(0.0, 0.0, 1.999995722237063)\n",
      "(0.0, 0.0008417508417508417, 0.999995722237063)\n",
      "(0.0, 0.010942760942760943, 0.9998440202500147)\n",
      "(0.0010162601626016261, 0.010942760942760943, 0.9997872945625585)\n",
      "(0.0010162601626016261, 0.01936026936026936, 0.9993734465403218)\n",
      "(0.0020325203252032522, 0.01936026936026936, 0.9993712114803117)\n",
      "(0.0020325203252032522, 0.021043771043771045, 0.999340960389953)\n",
      "(0.003048780487804878, 0.021043771043771045, 0.999239791479959)\n",
      "(0.003048780487804878, 0.022727272727272728, 0.9990439827620128)\n",
      "(0.003048780487804878, 0.02441077441077441, 0.9989423913671888)\n",
      "(0.003048780487804878, 0.034511784511784514, 0.9967994286227607)\n",
      "(0.0040650406504065045, 0.034511784511784514, 0.9967738490755536)\n",
      "(0.0040650406504065045, 0.03872053872053872, 0.9952901374563697)\n",
      "(0.00508130081300813, 0.03872053872053872, 0.9950970290319885)\n",
      "(0.00508130081300813, 0.041245791245791245, 0.9949413455940699)\n",
      "(0.006097560975609756, 0.041245791245791245, 0.9948622036735381)\n",
      "(0.006097560975609756, 0.050505050505050504, 0.9932313039129291)\n",
      "(0.006097560975609756, 0.05218855218855219, 0.9931299522055976)\n",
      "(0.006097560975609756, 0.054713804713804715, 0.9926297835590018)\n",
      "(0.007113821138211382, 0.054713804713804715, 0.9925683557222025)\n"
     ]
    }
   ],
   "source": [
    "for line in zip( fpr[:20], tpr[:20], thres[:20] ):\n",
    "    print( line )"
   ]
  },
  {
   "cell_type": "code",
   "execution_count": 274,
   "id": "4b6c3571",
   "metadata": {},
   "outputs": [
    {
     "data": {
      "image/png": "[encoded data removed]",
      "text/plain": [
       "<Figure size 432x288 with 1 Axes>"
      ]
     },
     "metadata": {
      "needs_background": "light"
     },
     "output_type": "display_data"
    }
   ],
   "source": [
    "plt.plot( fpr, tpr )\n",
    "plt.grid()"
   ]
  },
  {
   "cell_type": "code",
   "execution_count": 275,
   "id": "3764aa34",
   "metadata": {},
   "outputs": [],
   "source": [
    "model2 = LogisticRegression()"
   ]
  },
  {
   "cell_type": "code",
   "execution_count": 276,
   "id": "9168e449",
   "metadata": {},
   "outputs": [
    {
     "name": "stderr",
     "output_type": "stream",
     "text": [
      "/Users/anastasiafedoracenko/opt/anaconda3/lib/python3.9/site-packages/sklearn/linear_model/_logistic.py:763: ConvergenceWarning: lbfgs failed to converge (status=1):\n",
      "STOP: TOTAL NO. of ITERATIONS REACHED LIMIT.\n",
      "\n",
      "Increase the number of iterations (max_iter) or scale the data as shown in:\n",
      "    https://scikit-learn.org/stable/modules/preprocessing.html\n",
      "Please also refer to the documentation for alternative solver options:\n",
      "    https://scikit-learn.org/stable/modules/linear_model.html#logistic-regression\n",
      "  n_iter_i = _check_optimize_result(\n"
     ]
    },
    {
     "data": {
      "text/plain": [
       "LogisticRegression()"
      ]
     },
     "execution_count": 276,
     "metadata": {},
     "output_type": "execute_result"
    }
   ],
   "source": [
    "model2.fit( x_train, y_train )"
   ]
  },
  {
   "cell_type": "code",
   "execution_count": 277,
   "id": "7e466ceb",
   "metadata": {},
   "outputs": [],
   "source": [
    "predictions2 = model2.predict_proba( x_test )"
   ]
  },
  {
   "cell_type": "code",
   "execution_count": 278,
   "id": "46eb6a73",
   "metadata": {},
   "outputs": [
    {
     "data": {
      "text/plain": [
       "0.877326790944677"
      ]
     },
     "execution_count": 278,
     "metadata": {},
     "output_type": "execute_result"
    }
   ],
   "source": [
    "roc_auc_score( y_test, predictions[:, 1] )"
   ]
  },
  {
   "cell_type": "code",
   "execution_count": 279,
   "id": "29df5164",
   "metadata": {},
   "outputs": [
    {
     "data": {
      "text/plain": [
       "0.877326790944677"
      ]
     },
     "execution_count": 279,
     "metadata": {},
     "output_type": "execute_result"
    }
   ],
   "source": [
    "roc_auc_score( y_test, predictions2[:, 1] )"
   ]
  },
  {
   "cell_type": "code",
   "execution_count": 280,
   "id": "76b9e926",
   "metadata": {},
   "outputs": [
    {
     "name": "stderr",
     "output_type": "stream",
     "text": [
      "/Users/anastasiafedoracenko/opt/anaconda3/lib/python3.9/site-packages/sklearn/linear_model/_logistic.py:763: ConvergenceWarning: lbfgs failed to converge (status=1):\n",
      "STOP: TOTAL NO. of ITERATIONS REACHED LIMIT.\n",
      "\n",
      "Increase the number of iterations (max_iter) or scale the data as shown in:\n",
      "    https://scikit-learn.org/stable/modules/preprocessing.html\n",
      "Please also refer to the documentation for alternative solver options:\n",
      "    https://scikit-learn.org/stable/modules/linear_model.html#logistic-regression\n",
      "  n_iter_i = _check_optimize_result(\n"
     ]
    }
   ],
   "source": [
    "model2.fit(x_train, y_train)\n",
    "tpr1 = []\n",
    "fpr1 = []\n",
    "\n",
    "for threshold in np.arange(0,1,0.1):\n",
    "    tp1 = 0 \n",
    "    fp1 = 0 \n",
    "    fn1 = 0 \n",
    "    tn1 = 0 \n",
    "    predictions2 = model2.predict_proba( x_test )\n",
    "    for predicted_prob, actual in zip( predictions2[:,1], y_test ):    \n",
    "        if predicted_prob >= threshold:\n",
    "            predicted = 1\n",
    "        else:\n",
    "            predicted = 0\n",
    "        \n",
    "        if predicted == 1:\n",
    "            if actual == 1:\n",
    "                tp1 += 1\n",
    "            else:\n",
    "                fp1 += 1\n",
    "        \n",
    "        else:\n",
    "            if actual == 1:\n",
    "                fn1 += 1\n",
    "            else:\n",
    "                tn1 += 1\n",
    "    tpr1.append(tp1 / (tp1 + fn1))\n",
    "    fpr1.append(fp1 / (fp1 + tn1))\n"
   ]
  },
  {
   "cell_type": "code",
   "execution_count": 281,
   "id": "643459f4",
   "metadata": {},
   "outputs": [
    {
     "data": {
      "image/png": "[encoded data removed]",
      "text/plain": [
       "<Figure size 432x288 with 1 Axes>"
      ]
     },
     "metadata": {
      "needs_background": "light"
     },
     "output_type": "display_data"
    }
   ],
   "source": [
    "plt.plot( fpr1, tpr1 )\n",
    "plt.grid()"
   ]
  },
  {
   "cell_type": "code",
   "execution_count": 282,
   "id": "031a4774",
   "metadata": {},
   "outputs": [
    {
     "data": {
      "image/png": "[encoded data removed]",
      "text/plain": [
       "<Figure size 432x288 with 1 Axes>"
      ]
     },
     "metadata": {
      "needs_background": "light"
     },
     "output_type": "display_data"
    }
   ],
   "source": [
    "plt.plot( fpr, tpr, label = ' ROC-кривая с помощью готовой функции' )\n",
    "plt.plot( fpr1, tpr1, label = 'ROC-кривая с помощью ручных подсчетов' )\n",
    "\n",
    "plt.xlabel('False Positive Rate')\n",
    "plt.ylabel('True Positive Rate')\n",
    "\n",
    "plt.legend( loc = 0 )\n",
    "plt.grid()\n",
    "plt.show()"
   ]
  },
  {
   "cell_type": "markdown",
   "id": "3fcaf1e7",
   "metadata": {},
   "source": [
    "Кривые почти одинаковые, в функции с ручным посчетом меньше ступеней, она более прямая. "
   ]
  },
  {
   "cell_type": "code",
   "execution_count": 283,
   "id": "e7473c1f",
   "metadata": {},
   "outputs": [],
   "source": [
    "pr, re, thres = precision_recall_curve( y_test, predictions[:, 1] )"
   ]
  },
  {
   "cell_type": "code",
   "execution_count": 284,
   "id": "b945b6bf",
   "metadata": {},
   "outputs": [
    {
     "data": {
      "text/plain": [
       "((1975,), (1974,))"
      ]
     },
     "execution_count": 284,
     "metadata": {},
     "output_type": "execute_result"
    }
   ],
   "source": [
    "pr.shape, thres.shape"
   ]
  },
  {
   "cell_type": "code",
   "execution_count": 285,
   "id": "39823f00",
   "metadata": {},
   "outputs": [
    {
     "name": "stdout",
     "output_type": "stream",
     "text": [
      "(0.5590588235294117, 1.0, 0.0313531643001333)\n",
      "(0.5588512241054614, 0.9991582491582491, 0.03150114168249158)\n",
      "(0.5591144606688648, 0.9991582491582491, 0.03213880235351766)\n",
      "(0.55937794533459, 0.9991582491582491, 0.03217459249455499)\n",
      "(0.5596416784535596, 0.9991582491582491, 0.032294604277179645)\n",
      "(0.5599056603773584, 0.9991582491582491, 0.03242110478565363)\n",
      "(0.560169891458235, 0.9991582491582491, 0.03393577079460909)\n",
      "(0.560434372049103, 0.9991582491582491, 0.03436921698716008)\n",
      "(0.5606991025035427, 0.9991582491582491, 0.03459921265650179)\n",
      "(0.5609640831758034, 0.9991582491582491, 0.03475993305176617)\n",
      "(0.5612293144208038, 0.9991582491582491, 0.035313912844959536)\n",
      "(0.5614947965941344, 0.9991582491582491, 0.03563164094180424)\n",
      "(0.5612872692853762, 0.9983164983164983, 0.03584933875943893)\n",
      "(0.5615530303030303, 0.9983164983164983, 0.03756665913198527)\n",
      "(0.561819043107532, 0.9983164983164983, 0.03790811263709582)\n",
      "(0.5620853080568721, 0.9983164983164983, 0.03894615777770688)\n",
      "(0.5623518255097203, 0.9983164983164983, 0.03923045361187798)\n",
      "(0.562618595825427, 0.9983164983164983, 0.03986143219741426)\n",
      "(0.5624110109159943, 0.9974747474747475, 0.041227463467046435)\n",
      "(0.5626780626780626, 0.9974747474747475, 0.04240611162856747)\n"
     ]
    }
   ],
   "source": [
    "for line in zip( pr[:20], re[:20], thres[:20] ):\n",
    "    print( line )"
   ]
  },
  {
   "cell_type": "code",
   "execution_count": 286,
   "id": "6ccfffba",
   "metadata": {},
   "outputs": [
    {
     "data": {
      "text/plain": [
       "(0.0, 1.0)"
      ]
     },
     "execution_count": 286,
     "metadata": {},
     "output_type": "execute_result"
    },
    {
     "data": {
      "image/png": "[encoded data removed]",
      "text/plain": [
       "<Figure size 432x288 with 1 Axes>"
      ]
     },
     "metadata": {
      "needs_background": "light"
     },
     "output_type": "display_data"
    }
   ],
   "source": [
    "plt.plot(re, pr)\n",
    "plt.grid()\n",
    "plt.xlim(0,1)\n",
    "plt.ylim(0,1)"
   ]
  },
  {
   "cell_type": "markdown",
   "id": "e031c1f7",
   "metadata": {},
   "source": [
    "Осталось только объеденить все три графика "
   ]
  },
  {
   "cell_type": "code",
   "execution_count": 287,
   "id": "bd7b39ce",
   "metadata": {},
   "outputs": [
    {
     "data": {
      "image/png": "[encoded data removed]",
      "text/plain": [
       "<Figure size 432x288 with 1 Axes>"
      ]
     },
     "metadata": {
      "needs_background": "light"
     },
     "output_type": "display_data"
    }
   ],
   "source": [
    "plt.plot( fpr, tpr, label = 'ROC-кривая с помощью готовой функции' )\n",
    "plt.plot( fpr1, tpr1, label = 'ROC-кривая с помощью ручных подсчетов' )\n",
    "plt.plot( re, pr, label = 'график Precision-Recall' )\n",
    "\n",
    "plt.xlabel('False Positive Rate')\n",
    "plt.ylabel('True Positive Rate')\n",
    "\n",
    "plt.legend( loc = 0 )\n",
    "plt.show()"
   ]
  },
  {
   "cell_type": "code",
   "execution_count": null,
   "id": "5fa4344c",
   "metadata": {},
   "outputs": [],
   "source": []
  },
  {
   "cell_type": "code",
   "execution_count": null,
   "id": "60bef7dc",
   "metadata": {},
   "outputs": [],
   "source": []
  }
 ],
 "metadata": {
  "kernelspec": {
   "display_name": "Python 3 (ipykernel)",
   "language": "python",
   "name": "python3"
  },
  "language_info": {
   "codemirror_mode": {
    "name": "ipython",
    "version": 3
   },
   "file_extension": ".py",
   "mimetype": "text/x-python",
   "name": "python",
   "nbconvert_exporter": "python",
   "pygments_lexer": "ipython3",
   "version": "3.9.7"
  }
 },
 "nbformat": 4,
 "nbformat_minor": 5
}
