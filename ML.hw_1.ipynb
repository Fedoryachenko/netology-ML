{
 "cells": [
  {
   "cell_type": "code",
   "execution_count": 90,
   "id": "7ef9dab6",
   "metadata": {},
   "outputs": [],
   "source": [
    "#проверить, все ли библиотеки нужны \n",
    "\n",
    "import pandas as pd \n",
    "import matplotlib.pyplot as plt\n",
    "import numpy as np\n",
    "from sklearn.linear_model import LogisticRegression\n",
    "from sklearn.preprocessing import LabelEncoder\n",
    "from sklearn.pipeline import make_pipeline\n",
    "from sklearn.preprocessing import StandardScaler\n",
    "from sklearn.model_selection import train_test_split \n",
    "from sklearn.svm import SVC"
   ]
  },
  {
   "cell_type": "code",
   "execution_count": 2,
   "id": "2d1e2437",
   "metadata": {},
   "outputs": [
    {
     "data": {
      "text/html": [
       "<div>\n",
       "<style scoped>\n",
       "    .dataframe tbody tr th:only-of-type {\n",
       "        vertical-align: middle;\n",
       "    }\n",
       "\n",
       "    .dataframe tbody tr th {\n",
       "        vertical-align: top;\n",
       "    }\n",
       "\n",
       "    .dataframe thead th {\n",
       "        text-align: right;\n",
       "    }\n",
       "</style>\n",
       "<table border=\"1\" class=\"dataframe\">\n",
       "  <thead>\n",
       "    <tr style=\"text-align: right;\">\n",
       "      <th></th>\n",
       "      <th>age</th>\n",
       "      <th>workclass</th>\n",
       "      <th>fnlwgt</th>\n",
       "      <th>education</th>\n",
       "      <th>educational-num</th>\n",
       "      <th>marital-status</th>\n",
       "      <th>occupation</th>\n",
       "      <th>relationship</th>\n",
       "      <th>race</th>\n",
       "      <th>gender</th>\n",
       "      <th>capital-gain</th>\n",
       "      <th>capital-loss</th>\n",
       "      <th>hours-per-week</th>\n",
       "      <th>native-country</th>\n",
       "      <th>income</th>\n",
       "    </tr>\n",
       "  </thead>\n",
       "  <tbody>\n",
       "    <tr>\n",
       "      <th>0</th>\n",
       "      <td>25</td>\n",
       "      <td>Private</td>\n",
       "      <td>226802</td>\n",
       "      <td>11th</td>\n",
       "      <td>7</td>\n",
       "      <td>Never-married</td>\n",
       "      <td>Machine-op-inspct</td>\n",
       "      <td>Own-child</td>\n",
       "      <td>Black</td>\n",
       "      <td>Male</td>\n",
       "      <td>0</td>\n",
       "      <td>0</td>\n",
       "      <td>40</td>\n",
       "      <td>United-States</td>\n",
       "      <td>&lt;=50K</td>\n",
       "    </tr>\n",
       "    <tr>\n",
       "      <th>1</th>\n",
       "      <td>38</td>\n",
       "      <td>Private</td>\n",
       "      <td>89814</td>\n",
       "      <td>HS-grad</td>\n",
       "      <td>9</td>\n",
       "      <td>Married-civ-spouse</td>\n",
       "      <td>Farming-fishing</td>\n",
       "      <td>Husband</td>\n",
       "      <td>White</td>\n",
       "      <td>Male</td>\n",
       "      <td>0</td>\n",
       "      <td>0</td>\n",
       "      <td>50</td>\n",
       "      <td>United-States</td>\n",
       "      <td>&lt;=50K</td>\n",
       "    </tr>\n",
       "    <tr>\n",
       "      <th>2</th>\n",
       "      <td>28</td>\n",
       "      <td>Local-gov</td>\n",
       "      <td>336951</td>\n",
       "      <td>Assoc-acdm</td>\n",
       "      <td>12</td>\n",
       "      <td>Married-civ-spouse</td>\n",
       "      <td>Protective-serv</td>\n",
       "      <td>Husband</td>\n",
       "      <td>White</td>\n",
       "      <td>Male</td>\n",
       "      <td>0</td>\n",
       "      <td>0</td>\n",
       "      <td>40</td>\n",
       "      <td>United-States</td>\n",
       "      <td>&gt;50K</td>\n",
       "    </tr>\n",
       "    <tr>\n",
       "      <th>3</th>\n",
       "      <td>44</td>\n",
       "      <td>Private</td>\n",
       "      <td>160323</td>\n",
       "      <td>Some-college</td>\n",
       "      <td>10</td>\n",
       "      <td>Married-civ-spouse</td>\n",
       "      <td>Machine-op-inspct</td>\n",
       "      <td>Husband</td>\n",
       "      <td>Black</td>\n",
       "      <td>Male</td>\n",
       "      <td>7688</td>\n",
       "      <td>0</td>\n",
       "      <td>40</td>\n",
       "      <td>United-States</td>\n",
       "      <td>&gt;50K</td>\n",
       "    </tr>\n",
       "    <tr>\n",
       "      <th>4</th>\n",
       "      <td>18</td>\n",
       "      <td>?</td>\n",
       "      <td>103497</td>\n",
       "      <td>Some-college</td>\n",
       "      <td>10</td>\n",
       "      <td>Never-married</td>\n",
       "      <td>?</td>\n",
       "      <td>Own-child</td>\n",
       "      <td>White</td>\n",
       "      <td>Female</td>\n",
       "      <td>0</td>\n",
       "      <td>0</td>\n",
       "      <td>30</td>\n",
       "      <td>United-States</td>\n",
       "      <td>&lt;=50K</td>\n",
       "    </tr>\n",
       "  </tbody>\n",
       "</table>\n",
       "</div>"
      ],
      "text/plain": [
       "   age  workclass  fnlwgt     education  educational-num      marital-status  \\\n",
       "0   25    Private  226802          11th                7       Never-married   \n",
       "1   38    Private   89814       HS-grad                9  Married-civ-spouse   \n",
       "2   28  Local-gov  336951    Assoc-acdm               12  Married-civ-spouse   \n",
       "3   44    Private  160323  Some-college               10  Married-civ-spouse   \n",
       "4   18          ?  103497  Some-college               10       Never-married   \n",
       "\n",
       "          occupation relationship   race  gender  capital-gain  capital-loss  \\\n",
       "0  Machine-op-inspct    Own-child  Black    Male             0             0   \n",
       "1    Farming-fishing      Husband  White    Male             0             0   \n",
       "2    Protective-serv      Husband  White    Male             0             0   \n",
       "3  Machine-op-inspct      Husband  Black    Male          7688             0   \n",
       "4                  ?    Own-child  White  Female             0             0   \n",
       "\n",
       "   hours-per-week native-country income  \n",
       "0              40  United-States  <=50K  \n",
       "1              50  United-States  <=50K  \n",
       "2              40  United-States   >50K  \n",
       "3              40  United-States   >50K  \n",
       "4              30  United-States  <=50K  "
      ]
     },
     "execution_count": 2,
     "metadata": {},
     "output_type": "execute_result"
    }
   ],
   "source": [
    "df = pd.read_csv('/Users/anastasiafedoracenko/Desktop/adult.csv')\n",
    "df.head()"
   ]
  },
  {
   "cell_type": "code",
   "execution_count": 3,
   "id": "2d9ab4bf",
   "metadata": {},
   "outputs": [
    {
     "data": {
      "text/plain": [
       "count    48842.000000\n",
       "mean        38.643585\n",
       "std         13.710510\n",
       "min         17.000000\n",
       "25%         28.000000\n",
       "50%         37.000000\n",
       "75%         48.000000\n",
       "max         90.000000\n",
       "Name: age, dtype: float64"
      ]
     },
     "execution_count": 3,
     "metadata": {},
     "output_type": "execute_result"
    }
   ],
   "source": [
    "df['age'].describe()\n",
    "\n",
    "#тут мы исследовали возраст всех \"опрашиваемых\", видим, что возраст варьируется от 17 до 90"
   ]
  },
  {
   "cell_type": "code",
   "execution_count": 4,
   "id": "e3d3d78a",
   "metadata": {},
   "outputs": [
    {
     "name": "stdout",
     "output_type": "stream",
     "text": [
      "<class 'pandas.core.frame.DataFrame'>\n",
      "RangeIndex: 48842 entries, 0 to 48841\n",
      "Data columns (total 15 columns):\n",
      " #   Column           Non-Null Count  Dtype \n",
      "---  ------           --------------  ----- \n",
      " 0   age              48842 non-null  int64 \n",
      " 1   workclass        48842 non-null  object\n",
      " 2   fnlwgt           48842 non-null  int64 \n",
      " 3   education        48842 non-null  object\n",
      " 4   educational-num  48842 non-null  int64 \n",
      " 5   marital-status   48842 non-null  object\n",
      " 6   occupation       48842 non-null  object\n",
      " 7   relationship     48842 non-null  object\n",
      " 8   race             48842 non-null  object\n",
      " 9   gender           48842 non-null  object\n",
      " 10  capital-gain     48842 non-null  int64 \n",
      " 11  capital-loss     48842 non-null  int64 \n",
      " 12  hours-per-week   48842 non-null  int64 \n",
      " 13  native-country   48842 non-null  object\n",
      " 14  income           48842 non-null  object\n",
      "dtypes: int64(6), object(9)\n",
      "memory usage: 5.6+ MB\n"
     ]
    }
   ],
   "source": [
    "df.info()\n",
    "\n",
    "#видим, что пропусков в данных нет, но есть некорректыне данные, выявим все колонки и выкинем из выборки "
   ]
  },
  {
   "cell_type": "code",
   "execution_count": 5,
   "id": "f7f4a89b",
   "metadata": {},
   "outputs": [
    {
     "name": "stdout",
     "output_type": "stream",
     "text": [
      "................................\n",
      "age\n",
      "[25 38 28 44 18 34 29 63 24 55 65 36 26 58 48 43 20 37 40 72 45 22 23 54\n",
      " 32 46 56 17 39 52 21 42 33 30 47 41 19 69 50 31 59 49 51 27 57 61 64 79\n",
      " 73 53 77 80 62 35 68 66 75 60 67 71 70 90 81 74 78 82 83 85 76 84 89 88\n",
      " 87 86]\n",
      "................................\n",
      "workclass\n",
      "['Private' 'Local-gov' '?' 'Self-emp-not-inc' 'Federal-gov' 'State-gov'\n",
      " 'Self-emp-inc' 'Without-pay' 'Never-worked']\n",
      "................................\n",
      "marital-status\n",
      "['Never-married' 'Married-civ-spouse' 'Widowed' 'Divorced' 'Separated'\n",
      " 'Married-spouse-absent' 'Married-AF-spouse']\n",
      "................................\n",
      "education\n",
      "['11th' 'HS-grad' 'Assoc-acdm' 'Some-college' '10th' 'Prof-school'\n",
      " '7th-8th' 'Bachelors' 'Masters' 'Doctorate' '5th-6th' 'Assoc-voc' '9th'\n",
      " '12th' '1st-4th' 'Preschool']\n",
      "................................\n",
      "educational-num \n",
      "[ 7  9 12 10  6 15  4 13 14 16  3 11  5  8  2  1]\n",
      "................................\n",
      "occupation\n",
      "['Machine-op-inspct' 'Farming-fishing' 'Protective-serv' '?'\n",
      " 'Other-service' 'Prof-specialty' 'Craft-repair' 'Adm-clerical'\n",
      " 'Exec-managerial' 'Tech-support' 'Sales' 'Priv-house-serv'\n",
      " 'Transport-moving' 'Handlers-cleaners' 'Armed-Forces']\n",
      "................................\n",
      "relationship\n",
      "['Own-child' 'Husband' 'Not-in-family' 'Unmarried' 'Wife' 'Other-relative']\n",
      "................................\n",
      "race\n",
      "['Black' 'White' 'Asian-Pac-Islander' 'Other' 'Amer-Indian-Eskimo']\n",
      "................................\n",
      "gender\n",
      "['Male' 'Female']\n",
      "................................\n",
      "capital-gain \n",
      "[    0  7688  3103  6418  7298  3908 14084  5178 15024 99999  2597  2907\n",
      "  4650  6497  1055  5013 27828  4934  4064  3674  2174 10605  3418   114\n",
      "  2580  3411  4508  4386  8614 13550  6849  2463  3137  2885  2964  1471\n",
      " 10566  2354  1424  1455  3325  4416 25236   594  2105  4787  2829   401\n",
      "  4865  1264  1506 10520  3464  2653 20051  4101  1797  2407  3471  1086\n",
      "  1848 14344  1151  2993  2290 15020  9386  2202  3818  2176  5455 11678\n",
      "  7978  7262  6514 41310  3456  7430  2414  2062 34095  1831  6723  5060\n",
      " 15831  2977  2346  3273  2329  9562  2635  4931  1731  6097   914  7896\n",
      "  5556  1409  3781  3942  2538  3887 25124  7443  5721  1173  4687  6612\n",
      "  6767  2961   991  2036  2936  2050  1111  2228 22040  3432  6360  2009\n",
      "  1639 18481  2387]\n",
      "................................\n",
      "capital-loss  \n",
      "[   0 1721 1876 2415 1887  625 1977 2057 1429 1590 1485 2051 2377 1672\n",
      " 1628 1902 1602 1741 2444 1408 2001 2042 1740 1825 1848 1719 3004 2179\n",
      " 1573 2205 1258 2339 1726 2258 1340 1504 2559 1668 1974 1980 1564 2547\n",
      " 2002 1669 1617  323 3175 2472 2174 1579 2129 1510 1735 2282 1870 1411\n",
      " 1911 1651 1092 1762 2457 2231 2238  653 1138 2246 2603 2392 1944 1380\n",
      " 2465 1421 3770 1594  213 2149 2824 1844 2467 2163 1816 1648 2206 2352\n",
      "  419 1539  880  810  974 4356 2489 1755 3683 2267 2080  155 3900 2201\n",
      " 2754]\n",
      "................................\n",
      "hours-per-week\n",
      "[40 50 30 32 10 39 35 48 25 20 45 47  6 43 90 54 60 38 36 18 24 44 56 28\n",
      " 16 41 22 55 14 33 37  8 12 70 15 75 52 84 42 80 68 99 65  5 17 72 53 29\n",
      " 96 21 46  3  1 23 49 67 76  7  2 58 26 34  4 51 78 63 31 92 77 27 85 13\n",
      " 19 98 62 66 57 11 86 59  9 64 73 61 88 79 89 74 69 87 97 94 82 91 81 95]\n",
      "................................\n",
      "native-country\n",
      "['United-States' '?' 'Peru' 'Guatemala' 'Mexico' 'Dominican-Republic'\n",
      " 'Ireland' 'Germany' 'Philippines' 'Thailand' 'Haiti' 'El-Salvador'\n",
      " 'Puerto-Rico' 'Vietnam' 'South' 'Columbia' 'Japan' 'India' 'Cambodia'\n",
      " 'Poland' 'Laos' 'England' 'Cuba' 'Taiwan' 'Italy' 'Canada' 'Portugal'\n",
      " 'China' 'Nicaragua' 'Honduras' 'Iran' 'Scotland' 'Jamaica' 'Ecuador'\n",
      " 'Yugoslavia' 'Hungary' 'Hong' 'Greece' 'Trinadad&Tobago'\n",
      " 'Outlying-US(Guam-USVI-etc)' 'France' 'Holand-Netherlands']\n",
      "................................\n",
      "income\n",
      "['<=50K' '>50K']\n"
     ]
    }
   ],
   "source": [
    "print('................................')\n",
    "print('age')\n",
    "print(df['age'].unique())\n",
    "print('................................')\n",
    "print('workclass')\n",
    "print(df['workclass'].unique())\n",
    "print('................................')\n",
    "print('marital-status')\n",
    "print(df['marital-status'].unique())\n",
    "print('................................')\n",
    "print('education')\n",
    "print(df['education'].unique())\n",
    "print('................................')\n",
    "print('educational-num ')\n",
    "print(df['educational-num'].unique())\n",
    "print('................................')\n",
    "print('occupation')\n",
    "print(df['occupation'].unique())\n",
    "print('................................')\n",
    "print('relationship')\n",
    "print(df['relationship'].unique())\n",
    "print('................................')\n",
    "print('race')\n",
    "print(df['race'].unique())\n",
    "print('................................')\n",
    "print('gender')\n",
    "print(df['gender'].unique())\n",
    "print('................................')\n",
    "print('capital-gain ')\n",
    "print(df['capital-gain'].unique())\n",
    "print('................................')\n",
    "print('capital-loss  ')\n",
    "print(df['capital-loss'].unique())\n",
    "print('................................')\n",
    "print('hours-per-week')\n",
    "print(df['hours-per-week'].unique())\n",
    "print('................................')\n",
    "print('native-country')\n",
    "print(df['native-country'].unique())\n",
    "print('................................')\n",
    "print('income')\n",
    "print(df['income'].unique())\n",
    "\n",
    "\n",
    "\n",
    "# Итак, информации много, но тем не менее видим, что нежелательные данные, т.е. \"?\", есть в столбцах\n",
    "# workclass, occupation и native-country. Можно провести небольшую аналитику, что б выяснить характеристику опрошенных \n",
    "# в данных категориях, выяснить важна ли нам эта категория и подставить туда значения ( по моде или опираясь на \n",
    "# схожие харктеристики), или удалить полностью столбец за ненадобностью. \n",
    "\n",
    "\n",
    "# Заранее выскажу свое личное мненение, я бы провела анализ, выявила бы статистику или закономерности \n",
    "# того или иного дохода в зависимости от предполагаемых данных на пустых значениях в столбцax workclass и occupation \n",
    "# и подставила бы.  \n",
    "# Потому что доход зависит от места работы и класса, а вот родная страна, скорее нет. Потому что родная страна не означает \n",
    "# страну где тот самый доход реализован, так что критейрий отосительный по важности, я считаю. "
   ]
  },
  {
   "cell_type": "code",
   "execution_count": 6,
   "id": "4c0ef6c2",
   "metadata": {},
   "outputs": [
    {
     "data": {
      "text/plain": [
       "age                   0\n",
       "workclass          2799\n",
       "fnlwgt                0\n",
       "education             0\n",
       "educational-num       0\n",
       "marital-status        0\n",
       "occupation         2809\n",
       "relationship          0\n",
       "race                  0\n",
       "gender                0\n",
       "capital-gain          0\n",
       "capital-loss          0\n",
       "hours-per-week        0\n",
       "native-country      857\n",
       "income                0\n",
       "dtype: int64"
      ]
     },
     "execution_count": 6,
     "metadata": {},
     "output_type": "execute_result"
    }
   ],
   "source": [
    "#Для начала хочу выяснить, кто те, у кого прощуны данные о месте работы\n",
    "# Для этого заменим ? на NaN и посмотрим новую статистику по данным \n",
    "\n",
    " \n",
    "df.loc[df['workclass'] == '?', 'workclass'] = np.nan \n",
    "df.loc[df['occupation'] == '?', 'occupation'] = np.nan \n",
    "df.loc[df['native-country'] == '?', 'native-country'] = np.nan \n",
    "\n",
    "df.isna().sum()\n",
    "\n",
    "#количество пропусков"
   ]
  },
  {
   "cell_type": "code",
   "execution_count": 7,
   "id": "ec8c1139",
   "metadata": {},
   "outputs": [
    {
     "name": "stdout",
     "output_type": "stream",
     "text": [
      "Private             33906\n",
      "Self-emp-not-inc     3862\n",
      "Local-gov            3136\n",
      "State-gov            1981\n",
      "Self-emp-inc         1695\n",
      "Federal-gov          1432\n",
      "Without-pay            21\n",
      "Never-worked           10\n",
      "Name: workclass, dtype: int64\n",
      "\t\n",
      "Prof-specialty       6172\n",
      "Craft-repair         6112\n",
      "Exec-managerial      6086\n",
      "Adm-clerical         5611\n",
      "Sales                5504\n",
      "Other-service        4923\n",
      "Machine-op-inspct    3022\n",
      "Transport-moving     2355\n",
      "Handlers-cleaners    2072\n",
      "Farming-fishing      1490\n",
      "Tech-support         1446\n",
      "Protective-serv       983\n",
      "Priv-house-serv       242\n",
      "Armed-Forces           15\n",
      "Name: occupation, dtype: int64\n",
      "\t\n",
      "United-States                 43832\n",
      "Mexico                          951\n",
      "Philippines                     295\n",
      "Germany                         206\n",
      "Puerto-Rico                     184\n",
      "Canada                          182\n",
      "El-Salvador                     155\n",
      "India                           151\n",
      "Cuba                            138\n",
      "England                         127\n",
      "China                           122\n",
      "South                           115\n",
      "Jamaica                         106\n",
      "Italy                           105\n",
      "Dominican-Republic              103\n",
      "Japan                            92\n",
      "Guatemala                        88\n",
      "Poland                           87\n",
      "Vietnam                          86\n",
      "Columbia                         85\n",
      "Haiti                            75\n",
      "Portugal                         67\n",
      "Taiwan                           65\n",
      "Iran                             59\n",
      "Greece                           49\n",
      "Nicaragua                        49\n",
      "Peru                             46\n",
      "Ecuador                          45\n",
      "France                           38\n",
      "Ireland                          37\n",
      "Hong                             30\n",
      "Thailand                         30\n",
      "Cambodia                         28\n",
      "Trinadad&Tobago                  27\n",
      "Yugoslavia                       23\n",
      "Outlying-US(Guam-USVI-etc)       23\n",
      "Laos                             23\n",
      "Scotland                         21\n",
      "Honduras                         20\n",
      "Hungary                          19\n",
      "Holand-Netherlands                1\n",
      "Name: native-country, dtype: int64\n"
     ]
    }
   ],
   "source": [
    "print(df['workclass'].value_counts())\n",
    "print('\\t')\n",
    "print(df['occupation'].value_counts())\n",
    "print('\\t')\n",
    "print(df['native-country'].value_counts())\n",
    "\n",
    "#чаще всего вид занятости: частный; по профессии сложно сказать однозначно, чаще всего встречается 5 категорий; \n",
    "#а родная страна чаще является Штатами. "
   ]
  },
  {
   "cell_type": "code",
   "execution_count": 8,
   "id": "1b3a7f08",
   "metadata": {},
   "outputs": [],
   "source": [
    "#Пропуски по виду деятельности можно по умолчанию заменить на частный(по моде)\n",
    "#Пропуски по роднуй стране можно заменить на штаты(по моде)\n",
    "#Проспуски по профессии проще удалить, что б сильно не косить статистику, но как вариант можно было бы\n",
    "#рандомом выставить 1 из 5\n"
   ]
  },
  {
   "cell_type": "code",
   "execution_count": 9,
   "id": "35819706",
   "metadata": {},
   "outputs": [
    {
     "name": "stdout",
     "output_type": "stream",
     "text": [
      "<class 'pandas.core.frame.DataFrame'>\n",
      "Int64Index: 45222 entries, 0 to 48841\n",
      "Data columns (total 15 columns):\n",
      " #   Column           Non-Null Count  Dtype \n",
      "---  ------           --------------  ----- \n",
      " 0   age              45222 non-null  int64 \n",
      " 1   workclass        45222 non-null  object\n",
      " 2   fnlwgt           45222 non-null  int64 \n",
      " 3   education        45222 non-null  object\n",
      " 4   educational-num  45222 non-null  int64 \n",
      " 5   marital-status   45222 non-null  object\n",
      " 6   occupation       45222 non-null  object\n",
      " 7   relationship     45222 non-null  object\n",
      " 8   race             45222 non-null  object\n",
      " 9   gender           45222 non-null  object\n",
      " 10  capital-gain     45222 non-null  int64 \n",
      " 11  capital-loss     45222 non-null  int64 \n",
      " 12  hours-per-week   45222 non-null  int64 \n",
      " 13  native-country   45222 non-null  object\n",
      " 14  income           45222 non-null  object\n",
      "dtypes: int64(6), object(9)\n",
      "memory usage: 5.5+ MB\n"
     ]
    }
   ],
   "source": [
    "df = df[~(df['workclass'].isna())]\n",
    "df = df[~(df['occupation'].isna())]\n",
    "df = df[~(df['native-country'].isna())]\n",
    "\n",
    "df.info()"
   ]
  },
  {
   "cell_type": "code",
   "execution_count": 10,
   "id": "7c1f97cc",
   "metadata": {},
   "outputs": [
    {
     "data": {
      "text/plain": [
       "<AxesSubplot:title={'center':'Кол-во людей с доходом ниже 50к и выше'}>"
      ]
     },
     "execution_count": 10,
     "metadata": {},
     "output_type": "execute_result"
    },
    {
     "data": {
      "image/png": "[encoded data removed]",
      "text/plain": [
       "<Figure size 432x288 with 1 Axes>"
      ]
     },
     "metadata": {
      "needs_background": "light"
     },
     "output_type": "display_data"
    }
   ],
   "source": [
    "df['income'].value_counts().plot(kind = 'bar', title = 'Кол-во людей с доходом ниже 50к и выше')\n",
    "\n",
    "#разница в кол-ве опрошенных с разным уровнем заробатка "
   ]
  },
  {
   "cell_type": "code",
   "execution_count": 72,
   "id": "8c6ebb20",
   "metadata": {},
   "outputs": [
    {
     "data": {
      "text/plain": [
       "<AxesSubplot:title={'center':'Возраст людей с доходом больше 50к'}, ylabel='Frequency'>"
      ]
     },
     "execution_count": 72,
     "metadata": {},
     "output_type": "execute_result"
    },
    {
     "data": {
      "image/png": "[encoded data removed]",
      "text/plain": [
       "<Figure size 432x288 with 1 Axes>"
      ]
     },
     "metadata": {
      "needs_background": "light"
     },
     "output_type": "display_data"
    },
    {
     "data": {
      "image/png": "[encoded data removed]",
      "text/plain": [
       "<Figure size 432x288 with 1 Axes>"
      ]
     },
     "metadata": {
      "needs_background": "light"
     },
     "output_type": "display_data"
    }
   ],
   "source": [
    "df1 = df[['age', 'income']].query(\"income in ['<=50K']\")\n",
    "df2 = df[['age', 'income']].query(\"income in ['>50K']\")\n",
    "\n",
    "df1.plot(kind = 'hist', title = 'Возраст людей с доходом меньше 50к')\n",
    "df2.plot(kind = 'hist', title = 'Возраст людей с доходом больше 50к' )\n",
    "\n",
    "# Отчетливо видно, что более молодые люди зарабатывают меньше, более 50к люди зарабатывают в возрасте от ~30 до ~60 \n"
   ]
  },
  {
   "cell_type": "code",
   "execution_count": 11,
   "id": "086ef7eb",
   "metadata": {},
   "outputs": [
    {
     "data": {
      "text/plain": [
       "gender  income\n",
       "Male    <=50K     20988\n",
       "Female  <=50K     13026\n",
       "Male    >50K       9539\n",
       "Female  >50K       1669\n",
       "dtype: int64"
      ]
     },
     "execution_count": 11,
     "metadata": {},
     "output_type": "execute_result"
    }
   ],
   "source": [
    "df[['gender', 'income']].value_counts()\n",
    "\n",
    "#тут не будем строить визуализацию, но видно, что кол-во женчин с высоким уровнем дохода в разы меньше "
   ]
  },
  {
   "cell_type": "code",
   "execution_count": 12,
   "id": "0f92f090",
   "metadata": {},
   "outputs": [
    {
     "data": {
      "text/plain": [
       "relationship    income\n",
       "Not-in-family   <=50K     10474\n",
       "Husband         <=50K     10159\n",
       "                >50K       8507\n",
       "Own-child       <=50K      6521\n",
       "Unmarried       <=50K      4486\n",
       "Other-relative  <=50K      1299\n",
       "Not-in-family   >50K       1228\n",
       "Wife            <=50K      1075\n",
       "                >50K       1016\n",
       "Unmarried       >50K        302\n",
       "Own-child       >50K        105\n",
       "Other-relative  >50K         50\n",
       "dtype: int64"
      ]
     },
     "execution_count": 12,
     "metadata": {},
     "output_type": "execute_result"
    }
   ],
   "source": [
    "df[['relationship', 'income']].value_counts()\n",
    "\n",
    "#очень интересное наблюдение, но кол-во людей или не состоящих в семье, или не замужних, или имеющих детей,\n",
    "#практически в 90% случаях зарабатывают меньше 50к\n",
    "\n",
    "#это косвенный и очень субъктивный вывод, но получается, что наличие детей забирает какое-то кол-во ресурса,\n",
    "#которое могло бы повлиять на рост в карьере\n",
    "#субъуктивный вывод 2 - отсутствие родных или супруга(и), по-моему мнению, влиятет на доход из-за\n",
    "#меньшего кол-ва поддержки и веры со стороны(повторюсь, вывод субъективен), соответственно меньше успеха в карьере "
   ]
  },
  {
   "cell_type": "code",
   "execution_count": 76,
   "id": "f92de3ed",
   "metadata": {},
   "outputs": [
    {
     "data": {
      "text/plain": [
       "<AxesSubplot:title={'center':'Годы обучения людей с доходом больше 50к'}, ylabel='Frequency'>"
      ]
     },
     "execution_count": 76,
     "metadata": {},
     "output_type": "execute_result"
    },
    {
     "data": {
      "image/png": "[encoded data removed]",
      "text/plain": [
       "<Figure size 432x288 with 1 Axes>"
      ]
     },
     "metadata": {
      "needs_background": "light"
     },
     "output_type": "display_data"
    },
    {
     "data": {
      "image/png": "[encoded data removed]",
      "text/plain": [
       "<Figure size 432x288 with 1 Axes>"
      ]
     },
     "metadata": {
      "needs_background": "light"
     },
     "output_type": "display_data"
    }
   ],
   "source": [
    "d1 = df[['educational-num', 'income']].query(\"income in ['<=50K']\")\n",
    "d2 = df[['educational-num', 'income']].query(\"income in ['>50K']\")\n",
    "\n",
    "\n",
    "d1.plot(kind = 'hist', title = 'Годы обучения людей с доходом меньше 50к')\n",
    "d2.plot(kind = 'hist', title = 'Годы обучения людей с доходом больше 50к' )\n",
    "\n",
    "\n",
    "# Видно, что люди с большим кол-вом лет образования больше зарабатывают, соответственно можно сделать вывод, что\n",
    "#чем дольше человек учится и проявляет упорство в учебе, тем на больше доход он может расчитывать в будущем"
   ]
  },
  {
   "cell_type": "code",
   "execution_count": 85,
   "id": "3506bed4",
   "metadata": {},
   "outputs": [],
   "source": [
    "s_columns = df[['educational-num', 'gender', 'age', 'relationship', 'workclass']]"
   ]
  },
  {
   "cell_type": "code",
   "execution_count": 93,
   "id": "83744372",
   "metadata": {},
   "outputs": [
    {
     "data": {
      "text/html": [
       "<div>\n",
       "<style scoped>\n",
       "    .dataframe tbody tr th:only-of-type {\n",
       "        vertical-align: middle;\n",
       "    }\n",
       "\n",
       "    .dataframe tbody tr th {\n",
       "        vertical-align: top;\n",
       "    }\n",
       "\n",
       "    .dataframe thead th {\n",
       "        text-align: right;\n",
       "    }\n",
       "</style>\n",
       "<table border=\"1\" class=\"dataframe\">\n",
       "  <thead>\n",
       "    <tr style=\"text-align: right;\">\n",
       "      <th></th>\n",
       "      <th>educational-num</th>\n",
       "      <th>age</th>\n",
       "      <th>gender_Female</th>\n",
       "      <th>gender_Male</th>\n",
       "      <th>relationship_Husband</th>\n",
       "      <th>relationship_Not-in-family</th>\n",
       "      <th>relationship_Other-relative</th>\n",
       "      <th>relationship_Own-child</th>\n",
       "      <th>relationship_Unmarried</th>\n",
       "      <th>relationship_Wife</th>\n",
       "      <th>workclass_Federal-gov</th>\n",
       "      <th>workclass_Local-gov</th>\n",
       "      <th>workclass_Private</th>\n",
       "      <th>workclass_Self-emp-inc</th>\n",
       "      <th>workclass_Self-emp-not-inc</th>\n",
       "      <th>workclass_State-gov</th>\n",
       "      <th>workclass_Without-pay</th>\n",
       "    </tr>\n",
       "  </thead>\n",
       "  <tbody>\n",
       "    <tr>\n",
       "      <th>0</th>\n",
       "      <td>7</td>\n",
       "      <td>25</td>\n",
       "      <td>0</td>\n",
       "      <td>1</td>\n",
       "      <td>0</td>\n",
       "      <td>0</td>\n",
       "      <td>0</td>\n",
       "      <td>1</td>\n",
       "      <td>0</td>\n",
       "      <td>0</td>\n",
       "      <td>0</td>\n",
       "      <td>0</td>\n",
       "      <td>1</td>\n",
       "      <td>0</td>\n",
       "      <td>0</td>\n",
       "      <td>0</td>\n",
       "      <td>0</td>\n",
       "    </tr>\n",
       "    <tr>\n",
       "      <th>1</th>\n",
       "      <td>9</td>\n",
       "      <td>38</td>\n",
       "      <td>0</td>\n",
       "      <td>1</td>\n",
       "      <td>1</td>\n",
       "      <td>0</td>\n",
       "      <td>0</td>\n",
       "      <td>0</td>\n",
       "      <td>0</td>\n",
       "      <td>0</td>\n",
       "      <td>0</td>\n",
       "      <td>0</td>\n",
       "      <td>1</td>\n",
       "      <td>0</td>\n",
       "      <td>0</td>\n",
       "      <td>0</td>\n",
       "      <td>0</td>\n",
       "    </tr>\n",
       "    <tr>\n",
       "      <th>2</th>\n",
       "      <td>12</td>\n",
       "      <td>28</td>\n",
       "      <td>0</td>\n",
       "      <td>1</td>\n",
       "      <td>1</td>\n",
       "      <td>0</td>\n",
       "      <td>0</td>\n",
       "      <td>0</td>\n",
       "      <td>0</td>\n",
       "      <td>0</td>\n",
       "      <td>0</td>\n",
       "      <td>1</td>\n",
       "      <td>0</td>\n",
       "      <td>0</td>\n",
       "      <td>0</td>\n",
       "      <td>0</td>\n",
       "      <td>0</td>\n",
       "    </tr>\n",
       "    <tr>\n",
       "      <th>3</th>\n",
       "      <td>10</td>\n",
       "      <td>44</td>\n",
       "      <td>0</td>\n",
       "      <td>1</td>\n",
       "      <td>1</td>\n",
       "      <td>0</td>\n",
       "      <td>0</td>\n",
       "      <td>0</td>\n",
       "      <td>0</td>\n",
       "      <td>0</td>\n",
       "      <td>0</td>\n",
       "      <td>0</td>\n",
       "      <td>1</td>\n",
       "      <td>0</td>\n",
       "      <td>0</td>\n",
       "      <td>0</td>\n",
       "      <td>0</td>\n",
       "    </tr>\n",
       "    <tr>\n",
       "      <th>5</th>\n",
       "      <td>6</td>\n",
       "      <td>34</td>\n",
       "      <td>0</td>\n",
       "      <td>1</td>\n",
       "      <td>0</td>\n",
       "      <td>1</td>\n",
       "      <td>0</td>\n",
       "      <td>0</td>\n",
       "      <td>0</td>\n",
       "      <td>0</td>\n",
       "      <td>0</td>\n",
       "      <td>0</td>\n",
       "      <td>1</td>\n",
       "      <td>0</td>\n",
       "      <td>0</td>\n",
       "      <td>0</td>\n",
       "      <td>0</td>\n",
       "    </tr>\n",
       "    <tr>\n",
       "      <th>...</th>\n",
       "      <td>...</td>\n",
       "      <td>...</td>\n",
       "      <td>...</td>\n",
       "      <td>...</td>\n",
       "      <td>...</td>\n",
       "      <td>...</td>\n",
       "      <td>...</td>\n",
       "      <td>...</td>\n",
       "      <td>...</td>\n",
       "      <td>...</td>\n",
       "      <td>...</td>\n",
       "      <td>...</td>\n",
       "      <td>...</td>\n",
       "      <td>...</td>\n",
       "      <td>...</td>\n",
       "      <td>...</td>\n",
       "      <td>...</td>\n",
       "    </tr>\n",
       "    <tr>\n",
       "      <th>48837</th>\n",
       "      <td>12</td>\n",
       "      <td>27</td>\n",
       "      <td>1</td>\n",
       "      <td>0</td>\n",
       "      <td>0</td>\n",
       "      <td>0</td>\n",
       "      <td>0</td>\n",
       "      <td>0</td>\n",
       "      <td>0</td>\n",
       "      <td>1</td>\n",
       "      <td>0</td>\n",
       "      <td>0</td>\n",
       "      <td>1</td>\n",
       "      <td>0</td>\n",
       "      <td>0</td>\n",
       "      <td>0</td>\n",
       "      <td>0</td>\n",
       "    </tr>\n",
       "    <tr>\n",
       "      <th>48838</th>\n",
       "      <td>9</td>\n",
       "      <td>40</td>\n",
       "      <td>0</td>\n",
       "      <td>1</td>\n",
       "      <td>1</td>\n",
       "      <td>0</td>\n",
       "      <td>0</td>\n",
       "      <td>0</td>\n",
       "      <td>0</td>\n",
       "      <td>0</td>\n",
       "      <td>0</td>\n",
       "      <td>0</td>\n",
       "      <td>1</td>\n",
       "      <td>0</td>\n",
       "      <td>0</td>\n",
       "      <td>0</td>\n",
       "      <td>0</td>\n",
       "    </tr>\n",
       "    <tr>\n",
       "      <th>48839</th>\n",
       "      <td>9</td>\n",
       "      <td>58</td>\n",
       "      <td>1</td>\n",
       "      <td>0</td>\n",
       "      <td>0</td>\n",
       "      <td>0</td>\n",
       "      <td>0</td>\n",
       "      <td>0</td>\n",
       "      <td>1</td>\n",
       "      <td>0</td>\n",
       "      <td>0</td>\n",
       "      <td>0</td>\n",
       "      <td>1</td>\n",
       "      <td>0</td>\n",
       "      <td>0</td>\n",
       "      <td>0</td>\n",
       "      <td>0</td>\n",
       "    </tr>\n",
       "    <tr>\n",
       "      <th>48840</th>\n",
       "      <td>9</td>\n",
       "      <td>22</td>\n",
       "      <td>0</td>\n",
       "      <td>1</td>\n",
       "      <td>0</td>\n",
       "      <td>0</td>\n",
       "      <td>0</td>\n",
       "      <td>1</td>\n",
       "      <td>0</td>\n",
       "      <td>0</td>\n",
       "      <td>0</td>\n",
       "      <td>0</td>\n",
       "      <td>1</td>\n",
       "      <td>0</td>\n",
       "      <td>0</td>\n",
       "      <td>0</td>\n",
       "      <td>0</td>\n",
       "    </tr>\n",
       "    <tr>\n",
       "      <th>48841</th>\n",
       "      <td>9</td>\n",
       "      <td>52</td>\n",
       "      <td>1</td>\n",
       "      <td>0</td>\n",
       "      <td>0</td>\n",
       "      <td>0</td>\n",
       "      <td>0</td>\n",
       "      <td>0</td>\n",
       "      <td>0</td>\n",
       "      <td>1</td>\n",
       "      <td>0</td>\n",
       "      <td>0</td>\n",
       "      <td>0</td>\n",
       "      <td>1</td>\n",
       "      <td>0</td>\n",
       "      <td>0</td>\n",
       "      <td>0</td>\n",
       "    </tr>\n",
       "  </tbody>\n",
       "</table>\n",
       "<p>45222 rows × 17 columns</p>\n",
       "</div>"
      ],
      "text/plain": [
       "       educational-num  age  gender_Female  gender_Male  relationship_Husband  \\\n",
       "0                    7   25              0            1                     0   \n",
       "1                    9   38              0            1                     1   \n",
       "2                   12   28              0            1                     1   \n",
       "3                   10   44              0            1                     1   \n",
       "5                    6   34              0            1                     0   \n",
       "...                ...  ...            ...          ...                   ...   \n",
       "48837               12   27              1            0                     0   \n",
       "48838                9   40              0            1                     1   \n",
       "48839                9   58              1            0                     0   \n",
       "48840                9   22              0            1                     0   \n",
       "48841                9   52              1            0                     0   \n",
       "\n",
       "       relationship_Not-in-family  relationship_Other-relative  \\\n",
       "0                               0                            0   \n",
       "1                               0                            0   \n",
       "2                               0                            0   \n",
       "3                               0                            0   \n",
       "5                               1                            0   \n",
       "...                           ...                          ...   \n",
       "48837                           0                            0   \n",
       "48838                           0                            0   \n",
       "48839                           0                            0   \n",
       "48840                           0                            0   \n",
       "48841                           0                            0   \n",
       "\n",
       "       relationship_Own-child  relationship_Unmarried  relationship_Wife  \\\n",
       "0                           1                       0                  0   \n",
       "1                           0                       0                  0   \n",
       "2                           0                       0                  0   \n",
       "3                           0                       0                  0   \n",
       "5                           0                       0                  0   \n",
       "...                       ...                     ...                ...   \n",
       "48837                       0                       0                  1   \n",
       "48838                       0                       0                  0   \n",
       "48839                       0                       1                  0   \n",
       "48840                       1                       0                  0   \n",
       "48841                       0                       0                  1   \n",
       "\n",
       "       workclass_Federal-gov  workclass_Local-gov  workclass_Private  \\\n",
       "0                          0                    0                  1   \n",
       "1                          0                    0                  1   \n",
       "2                          0                    1                  0   \n",
       "3                          0                    0                  1   \n",
       "5                          0                    0                  1   \n",
       "...                      ...                  ...                ...   \n",
       "48837                      0                    0                  1   \n",
       "48838                      0                    0                  1   \n",
       "48839                      0                    0                  1   \n",
       "48840                      0                    0                  1   \n",
       "48841                      0                    0                  0   \n",
       "\n",
       "       workclass_Self-emp-inc  workclass_Self-emp-not-inc  \\\n",
       "0                           0                           0   \n",
       "1                           0                           0   \n",
       "2                           0                           0   \n",
       "3                           0                           0   \n",
       "5                           0                           0   \n",
       "...                       ...                         ...   \n",
       "48837                       0                           0   \n",
       "48838                       0                           0   \n",
       "48839                       0                           0   \n",
       "48840                       0                           0   \n",
       "48841                       1                           0   \n",
       "\n",
       "       workclass_State-gov  workclass_Without-pay  \n",
       "0                        0                      0  \n",
       "1                        0                      0  \n",
       "2                        0                      0  \n",
       "3                        0                      0  \n",
       "5                        0                      0  \n",
       "...                    ...                    ...  \n",
       "48837                    0                      0  \n",
       "48838                    0                      0  \n",
       "48839                    0                      0  \n",
       "48840                    0                      0  \n",
       "48841                    0                      0  \n",
       "\n",
       "[45222 rows x 17 columns]"
      ]
     },
     "execution_count": 93,
     "metadata": {},
     "output_type": "execute_result"
    }
   ],
   "source": [
    "x = pd.get_dummies(s_columns, columns=['gender', 'relationship', 'workclass'])\n",
    "x\n",
    "\n",
    "#перевели категориальные значения в бинарные, столбец income оставили для целевой переменной "
   ]
  },
  {
   "cell_type": "code",
   "execution_count": 94,
   "id": "c589667a",
   "metadata": {},
   "outputs": [
    {
     "data": {
      "text/plain": [
       "LabelEncoder()"
      ]
     },
     "execution_count": 94,
     "metadata": {},
     "output_type": "execute_result"
    }
   ],
   "source": [
    "le = LabelEncoder()\n",
    "le.fit(df['income'])"
   ]
  },
  {
   "cell_type": "code",
   "execution_count": 97,
   "id": "da636887",
   "metadata": {},
   "outputs": [
    {
     "data": {
      "text/plain": [
       "0    0\n",
       "1    0\n",
       "2    1\n",
       "3    1\n",
       "4    0\n",
       "5    1\n",
       "6    0\n",
       "dtype: int64"
      ]
     },
     "execution_count": 97,
     "metadata": {},
     "output_type": "execute_result"
    }
   ],
   "source": [
    "y = pd.Series(data = le.transform(df['income']))\n",
    "y.head(7)"
   ]
  },
  {
   "cell_type": "code",
   "execution_count": 107,
   "id": "ece70c81",
   "metadata": {},
   "outputs": [],
   "source": [
    "X_train, X_test, y_train, y_test = train_test_split(x, y, test_size = 0.2, random_state = 42)\n",
    "\n",
    "#делим данные на тест и обучение 80/20"
   ]
  },
  {
   "cell_type": "code",
   "execution_count": 104,
   "id": "833254f0",
   "metadata": {},
   "outputs": [
    {
     "data": {
      "text/plain": [
       "Pipeline(steps=[('standardscaler', StandardScaler()),\n",
       "                ('logisticregression', LogisticRegression(max_iter=1000))])"
      ]
     },
     "execution_count": 104,
     "metadata": {},
     "output_type": "execute_result"
    }
   ],
   "source": [
    "model = make_pipeline(StandardScaler(), LogisticRegression(max_iter = 1000))\n",
    "model"
   ]
  },
  {
   "cell_type": "code",
   "execution_count": 105,
   "id": "2408c755",
   "metadata": {},
   "outputs": [
    {
     "data": {
      "text/plain": [
       "Pipeline(steps=[('standardscaler', StandardScaler()), ('svc', SVC())])"
      ]
     },
     "execution_count": 105,
     "metadata": {},
     "output_type": "execute_result"
    }
   ],
   "source": [
    "clf = make_pipeline(StandardScaler(), SVC()) \n",
    "clf.fit(X_train, y_train)"
   ]
  },
  {
   "cell_type": "code",
   "execution_count": 106,
   "id": "277e07af",
   "metadata": {},
   "outputs": [],
   "source": [
    "model.fit(X_train, y_train)\n",
    "predictions = model.predict(X_test)"
   ]
  },
  {
   "cell_type": "code",
   "execution_count": 108,
   "id": "56043c89",
   "metadata": {},
   "outputs": [
    {
     "data": {
      "text/plain": [
       "array([0, 0, 1, ..., 0, 0, 0])"
      ]
     },
     "execution_count": 108,
     "metadata": {},
     "output_type": "execute_result"
    }
   ],
   "source": [
    "model.predict(X_test)"
   ]
  },
  {
   "cell_type": "code",
   "execution_count": 117,
   "id": "bc27c053",
   "metadata": {},
   "outputs": [
    {
     "data": {
      "text/plain": [
       "0.8181717665920336"
      ]
     },
     "execution_count": 117,
     "metadata": {},
     "output_type": "execute_result"
    }
   ],
   "source": [
    "model.score(X_train, y_train) \n",
    "\n",
    "#точность предсказания на обучающей выборке с помощью Логистической регрессии "
   ]
  },
  {
   "cell_type": "code",
   "execution_count": 118,
   "id": "a9455ab7",
   "metadata": {},
   "outputs": [
    {
     "data": {
      "text/plain": [
       "0.8212271973466003"
      ]
     },
     "execution_count": 118,
     "metadata": {},
     "output_type": "execute_result"
    }
   ],
   "source": [
    "model.score(X_test,y_test)\n",
    "\n",
    "#точность предсказания на тестовой выборке с помощью Логистической регрессии "
   ]
  },
  {
   "cell_type": "code",
   "execution_count": 119,
   "id": "3569df5b",
   "metadata": {},
   "outputs": [
    {
     "data": {
      "text/plain": [
       "0.8197749951626724"
      ]
     },
     "execution_count": 119,
     "metadata": {},
     "output_type": "execute_result"
    }
   ],
   "source": [
    "clf.score(X_train, y_train) \n",
    "\n",
    "#точность предсказания на тестовой выборке с помощью опорных векторов "
   ]
  },
  {
   "cell_type": "code",
   "execution_count": 120,
   "id": "95a08d54",
   "metadata": {},
   "outputs": [
    {
     "data": {
      "text/plain": [
       "0.8239911553344389"
      ]
     },
     "execution_count": 120,
     "metadata": {},
     "output_type": "execute_result"
    }
   ],
   "source": [
    "clf.score(X_test, y_test)\n",
    "\n",
    "#точность предсказания на тестовой выборке с помощью опорных векторов "
   ]
  },
  {
   "cell_type": "markdown",
   "id": "1e941a01",
   "metadata": {},
   "source": [
    "# Выводы \n",
    "\n",
    "- работа с данными \n",
    "1. С данными было интересно работать, потому что уровень дохода может напрямую  изменяться от любого фактора, так же как и коррелировать с любым фактором. Я предположила, что уровень дохода зависит от образования, семейного положения(то есть кол-ва поодержки от близких), от пола, безусловно(хотя очень жаль) и от рабочего класса. Точной зависимости дохода от рассы, часов работы, родной страны мною найдено не было. \n",
    "2. Дальше отделили важные(по-моему мнению) колонки, преобразовали категориальные данные в бинарные, сделано это для простоты обучения модели. Дале перевели целевую перемененую так же в бинарный вид. \n",
    "3. Разбили данные на обучение и на тест. Иннициализировали логистическую регрессию и модель опорнх векторов. \n",
    "4. Обучили две модели, получили предсказания, оценили их качество. \n",
    "\n",
    "- предсказание\n",
    "1. Предсказания получились довольно точными, хотя я бы хотела наверно получить от 85% и выше. В след раз буду докапываться к зависимостям больше. Хочется лучшего результата, что б было понимание всего проесса в полной мере. \n",
    "\n",
    "- работа моделей\n",
    "1. Модели справились, учитывая колличество строк данных, в целом хорошо. \n",
    "2. Хочется понять зависимость дохода опрошенных от остальных факторов, до факткров потери и прироста капиталов не добралась нормально, не нашла взаимосвязи. Так же как и с столбцом fnlwgt - вообще странная вещь. Продолжительность чего и как она измеряется, в какую меру переводить для большего понимания - не понятно)) \n",
    "\n",
    "Классная домашка! \n",
    "\n"
   ]
  },
  {
   "cell_type": "code",
   "execution_count": null,
   "id": "6429e1fb",
   "metadata": {},
   "outputs": [],
   "source": []
  }
 ],
 "metadata": {
  "kernelspec": {
   "display_name": "Python 3 (ipykernel)",
   "language": "python",
   "name": "python3"
  },
  "language_info": {
   "codemirror_mode": {
    "name": "ipython",
    "version": 3
   },
   "file_extension": ".py",
   "mimetype": "text/x-python",
   "name": "python",
   "nbconvert_exporter": "python",
   "pygments_lexer": "ipython3",
   "version": "3.9.7"
  }
 },
 "nbformat": 4,
 "nbformat_minor": 5
}
